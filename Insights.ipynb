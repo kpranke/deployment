{
 "cells": [
  {
   "cell_type": "code",
   "execution_count": 71,
   "id": "254bfc15",
   "metadata": {},
   "outputs": [],
   "source": [
    "# Import libraries\n",
    "import pandas as pd \n",
    "from datetime import datetime\n",
    "import datetime\n",
    "import sqlite3\n",
    "from sqlite3 import Error\n",
    "import kaleido\n",
    "import matplotlib.pyplot as plt\n",
    "import plotly.express as px\n",
    "import plotly.io as pio\n",
    "pio.templates"
   ]
  },
  {
   "cell_type": "code",
   "execution_count": 2,
   "id": "f3e4eafb",
   "metadata": {},
   "outputs": [],
   "source": [
    "%load_ext sql"
   ]
  },
  {
   "cell_type": "code",
   "execution_count": 3,
   "id": "eee41d75",
   "metadata": {},
   "outputs": [],
   "source": [
    "# Connecting to database:\n",
    "\n",
    "%sql sqlite:///steam_games.db"
   ]
  },
  {
   "cell_type": "code",
   "execution_count": 41,
   "id": "935278b8",
   "metadata": {},
   "outputs": [],
   "source": [
    "all_query = '''\n",
    "SELECT games.*, genres.genre_descript, categories.category_descript \n",
    "FROM games\n",
    "LEFT JOIN game_genre ON games.steam_appid = game_genre.steam_appid\n",
    "LEFT JOIN genres ON game_genre.genre_id = genres.genre_id\n",
    "LEFT JOIN game_cat ON games.steam_appid = game_cat.steam_appid\n",
    "LEFT JOIN categories ON game_cat.category_id = categories.category_id\n",
    "'''"
   ]
  },
  {
   "cell_type": "code",
   "execution_count": 42,
   "id": "73a3598d",
   "metadata": {},
   "outputs": [],
   "source": [
    "engine = create_engine('sqlite:///steam_games.db')\n",
    "with engine.connect() as connection:\n",
    "    df = pd.read_sql(all_query, connection)"
   ]
  },
  {
   "cell_type": "code",
   "execution_count": 14,
   "id": "a69666a0",
   "metadata": {},
   "outputs": [],
   "source": [
    "df['procent_positive'] = df.total_positive/df.total_reviews"
   ]
  },
  {
   "cell_type": "code",
   "execution_count": 38,
   "id": "ee074009",
   "metadata": {},
   "outputs": [
    {
     "data": {
      "text/html": [
       "<div>\n",
       "<style scoped>\n",
       "    .dataframe tbody tr th:only-of-type {\n",
       "        vertical-align: middle;\n",
       "    }\n",
       "\n",
       "    .dataframe tbody tr th {\n",
       "        vertical-align: top;\n",
       "    }\n",
       "\n",
       "    .dataframe thead th {\n",
       "        text-align: right;\n",
       "    }\n",
       "</style>\n",
       "<table border=\"1\" class=\"dataframe\">\n",
       "  <thead>\n",
       "    <tr style=\"text-align: right;\">\n",
       "      <th></th>\n",
       "      <th>steam_appid</th>\n",
       "      <th>game_type</th>\n",
       "      <th>game_name</th>\n",
       "      <th>required_age</th>\n",
       "      <th>is_free</th>\n",
       "      <th>detailed_description</th>\n",
       "      <th>about_the_game</th>\n",
       "      <th>short_description</th>\n",
       "      <th>header_image</th>\n",
       "      <th>website</th>\n",
       "      <th>...</th>\n",
       "      <th>review_score</th>\n",
       "      <th>total_positive</th>\n",
       "      <th>total_negative</th>\n",
       "      <th>total_reviews</th>\n",
       "      <th>platforms_windows</th>\n",
       "      <th>platforms_mac</th>\n",
       "      <th>platforms_linux</th>\n",
       "      <th>genre_descript</th>\n",
       "      <th>category_descript</th>\n",
       "      <th>procent_positive</th>\n",
       "    </tr>\n",
       "  </thead>\n",
       "  <tbody>\n",
       "    <tr>\n",
       "      <th>0</th>\n",
       "      <td>359550</td>\n",
       "      <td>game</td>\n",
       "      <td>Tom Clancy's Rainbow Six® Siege</td>\n",
       "      <td>0</td>\n",
       "      <td>0</td>\n",
       "      <td>&lt;h1&gt;Edition Comparison&lt;/h1&gt;&lt;p&gt;&lt;img src=\"https:...</td>\n",
       "      <td>Master the art of destruction and gadgetry in ...</td>\n",
       "      <td>Tom Clancy's Rainbow Six Siege is the latest i...</td>\n",
       "      <td>https://cdn.akamai.steamstatic.com/steam/apps/...</td>\n",
       "      <td>http://rainbow6.ubi.com/</td>\n",
       "      <td>...</td>\n",
       "      <td>0</td>\n",
       "      <td>0</td>\n",
       "      <td>2</td>\n",
       "      <td>2</td>\n",
       "      <td>1</td>\n",
       "      <td>0</td>\n",
       "      <td>0</td>\n",
       "      <td>Action</td>\n",
       "      <td>Multi-player</td>\n",
       "      <td>0.0</td>\n",
       "    </tr>\n",
       "    <tr>\n",
       "      <th>1</th>\n",
       "      <td>359550</td>\n",
       "      <td>game</td>\n",
       "      <td>Tom Clancy's Rainbow Six® Siege</td>\n",
       "      <td>0</td>\n",
       "      <td>0</td>\n",
       "      <td>&lt;h1&gt;Edition Comparison&lt;/h1&gt;&lt;p&gt;&lt;img src=\"https:...</td>\n",
       "      <td>Master the art of destruction and gadgetry in ...</td>\n",
       "      <td>Tom Clancy's Rainbow Six Siege is the latest i...</td>\n",
       "      <td>https://cdn.akamai.steamstatic.com/steam/apps/...</td>\n",
       "      <td>http://rainbow6.ubi.com/</td>\n",
       "      <td>...</td>\n",
       "      <td>0</td>\n",
       "      <td>0</td>\n",
       "      <td>2</td>\n",
       "      <td>2</td>\n",
       "      <td>1</td>\n",
       "      <td>0</td>\n",
       "      <td>0</td>\n",
       "      <td>Action</td>\n",
       "      <td>Single-player</td>\n",
       "      <td>0.0</td>\n",
       "    </tr>\n",
       "    <tr>\n",
       "      <th>2</th>\n",
       "      <td>359550</td>\n",
       "      <td>game</td>\n",
       "      <td>Tom Clancy's Rainbow Six® Siege</td>\n",
       "      <td>0</td>\n",
       "      <td>0</td>\n",
       "      <td>&lt;h1&gt;Edition Comparison&lt;/h1&gt;&lt;p&gt;&lt;img src=\"https:...</td>\n",
       "      <td>Master the art of destruction and gadgetry in ...</td>\n",
       "      <td>Tom Clancy's Rainbow Six Siege is the latest i...</td>\n",
       "      <td>https://cdn.akamai.steamstatic.com/steam/apps/...</td>\n",
       "      <td>http://rainbow6.ubi.com/</td>\n",
       "      <td>...</td>\n",
       "      <td>0</td>\n",
       "      <td>0</td>\n",
       "      <td>2</td>\n",
       "      <td>2</td>\n",
       "      <td>1</td>\n",
       "      <td>0</td>\n",
       "      <td>0</td>\n",
       "      <td>Action</td>\n",
       "      <td>Co-op</td>\n",
       "      <td>0.0</td>\n",
       "    </tr>\n",
       "    <tr>\n",
       "      <th>3</th>\n",
       "      <td>359550</td>\n",
       "      <td>game</td>\n",
       "      <td>Tom Clancy's Rainbow Six® Siege</td>\n",
       "      <td>0</td>\n",
       "      <td>0</td>\n",
       "      <td>&lt;h1&gt;Edition Comparison&lt;/h1&gt;&lt;p&gt;&lt;img src=\"https:...</td>\n",
       "      <td>Master the art of destruction and gadgetry in ...</td>\n",
       "      <td>Tom Clancy's Rainbow Six Siege is the latest i...</td>\n",
       "      <td>https://cdn.akamai.steamstatic.com/steam/apps/...</td>\n",
       "      <td>http://rainbow6.ubi.com/</td>\n",
       "      <td>...</td>\n",
       "      <td>0</td>\n",
       "      <td>0</td>\n",
       "      <td>2</td>\n",
       "      <td>2</td>\n",
       "      <td>1</td>\n",
       "      <td>0</td>\n",
       "      <td>0</td>\n",
       "      <td>Action</td>\n",
       "      <td>Partial Controller Support</td>\n",
       "      <td>0.0</td>\n",
       "    </tr>\n",
       "    <tr>\n",
       "      <th>4</th>\n",
       "      <td>359550</td>\n",
       "      <td>game</td>\n",
       "      <td>Tom Clancy's Rainbow Six® Siege</td>\n",
       "      <td>0</td>\n",
       "      <td>0</td>\n",
       "      <td>&lt;h1&gt;Edition Comparison&lt;/h1&gt;&lt;p&gt;&lt;img src=\"https:...</td>\n",
       "      <td>Master the art of destruction and gadgetry in ...</td>\n",
       "      <td>Tom Clancy's Rainbow Six Siege is the latest i...</td>\n",
       "      <td>https://cdn.akamai.steamstatic.com/steam/apps/...</td>\n",
       "      <td>http://rainbow6.ubi.com/</td>\n",
       "      <td>...</td>\n",
       "      <td>0</td>\n",
       "      <td>0</td>\n",
       "      <td>2</td>\n",
       "      <td>2</td>\n",
       "      <td>1</td>\n",
       "      <td>0</td>\n",
       "      <td>0</td>\n",
       "      <td>Action</td>\n",
       "      <td>Steam Trading Cards</td>\n",
       "      <td>0.0</td>\n",
       "    </tr>\n",
       "  </tbody>\n",
       "</table>\n",
       "<p>5 rows × 36 columns</p>\n",
       "</div>"
      ],
      "text/plain": [
       "   steam_appid game_type                        game_name  required_age  \\\n",
       "0       359550      game  Tom Clancy's Rainbow Six® Siege             0   \n",
       "1       359550      game  Tom Clancy's Rainbow Six® Siege             0   \n",
       "2       359550      game  Tom Clancy's Rainbow Six® Siege             0   \n",
       "3       359550      game  Tom Clancy's Rainbow Six® Siege             0   \n",
       "4       359550      game  Tom Clancy's Rainbow Six® Siege             0   \n",
       "\n",
       "  is_free                               detailed_description  \\\n",
       "0       0  <h1>Edition Comparison</h1><p><img src=\"https:...   \n",
       "1       0  <h1>Edition Comparison</h1><p><img src=\"https:...   \n",
       "2       0  <h1>Edition Comparison</h1><p><img src=\"https:...   \n",
       "3       0  <h1>Edition Comparison</h1><p><img src=\"https:...   \n",
       "4       0  <h1>Edition Comparison</h1><p><img src=\"https:...   \n",
       "\n",
       "                                      about_the_game  \\\n",
       "0  Master the art of destruction and gadgetry in ...   \n",
       "1  Master the art of destruction and gadgetry in ...   \n",
       "2  Master the art of destruction and gadgetry in ...   \n",
       "3  Master the art of destruction and gadgetry in ...   \n",
       "4  Master the art of destruction and gadgetry in ...   \n",
       "\n",
       "                                   short_description  \\\n",
       "0  Tom Clancy's Rainbow Six Siege is the latest i...   \n",
       "1  Tom Clancy's Rainbow Six Siege is the latest i...   \n",
       "2  Tom Clancy's Rainbow Six Siege is the latest i...   \n",
       "3  Tom Clancy's Rainbow Six Siege is the latest i...   \n",
       "4  Tom Clancy's Rainbow Six Siege is the latest i...   \n",
       "\n",
       "                                        header_image  \\\n",
       "0  https://cdn.akamai.steamstatic.com/steam/apps/...   \n",
       "1  https://cdn.akamai.steamstatic.com/steam/apps/...   \n",
       "2  https://cdn.akamai.steamstatic.com/steam/apps/...   \n",
       "3  https://cdn.akamai.steamstatic.com/steam/apps/...   \n",
       "4  https://cdn.akamai.steamstatic.com/steam/apps/...   \n",
       "\n",
       "                    website  ... review_score total_positive total_negative  \\\n",
       "0  http://rainbow6.ubi.com/  ...            0              0              2   \n",
       "1  http://rainbow6.ubi.com/  ...            0              0              2   \n",
       "2  http://rainbow6.ubi.com/  ...            0              0              2   \n",
       "3  http://rainbow6.ubi.com/  ...            0              0              2   \n",
       "4  http://rainbow6.ubi.com/  ...            0              0              2   \n",
       "\n",
       "  total_reviews platforms_windows  platforms_mac  platforms_linux  \\\n",
       "0             2                 1              0                0   \n",
       "1             2                 1              0                0   \n",
       "2             2                 1              0                0   \n",
       "3             2                 1              0                0   \n",
       "4             2                 1              0                0   \n",
       "\n",
       "   genre_descript           category_descript procent_positive  \n",
       "0          Action                Multi-player              0.0  \n",
       "1          Action               Single-player              0.0  \n",
       "2          Action                       Co-op              0.0  \n",
       "3          Action  Partial Controller Support              0.0  \n",
       "4          Action         Steam Trading Cards              0.0  \n",
       "\n",
       "[5 rows x 36 columns]"
      ]
     },
     "execution_count": 38,
     "metadata": {},
     "output_type": "execute_result"
    }
   ],
   "source": [
    "df.head()"
   ]
  },
  {
   "cell_type": "code",
   "execution_count": 16,
   "id": "006e46e8",
   "metadata": {},
   "outputs": [
    {
     "data": {
      "text/html": [
       "<div>\n",
       "<style scoped>\n",
       "    .dataframe tbody tr th:only-of-type {\n",
       "        vertical-align: middle;\n",
       "    }\n",
       "\n",
       "    .dataframe tbody tr th {\n",
       "        vertical-align: top;\n",
       "    }\n",
       "\n",
       "    .dataframe thead th {\n",
       "        text-align: right;\n",
       "    }\n",
       "</style>\n",
       "<table border=\"1\" class=\"dataframe\">\n",
       "  <thead>\n",
       "    <tr style=\"text-align: right;\">\n",
       "      <th></th>\n",
       "      <th>steam_appid</th>\n",
       "      <th>required_age</th>\n",
       "      <th>price_initial</th>\n",
       "      <th>price_final</th>\n",
       "      <th>price_discount_percent</th>\n",
       "      <th>num_reviews</th>\n",
       "      <th>review_score</th>\n",
       "      <th>total_positive</th>\n",
       "      <th>total_negative</th>\n",
       "      <th>total_reviews</th>\n",
       "      <th>procent_positive</th>\n",
       "    </tr>\n",
       "  </thead>\n",
       "  <tbody>\n",
       "    <tr>\n",
       "      <th>count</th>\n",
       "      <td>5.103100e+04</td>\n",
       "      <td>51031.000000</td>\n",
       "      <td>5.103100e+04</td>\n",
       "      <td>5.103100e+04</td>\n",
       "      <td>51031.000000</td>\n",
       "      <td>51031.000000</td>\n",
       "      <td>51031.000000</td>\n",
       "      <td>51031.000000</td>\n",
       "      <td>51031.000000</td>\n",
       "      <td>51031.000000</td>\n",
       "      <td>51031.000000</td>\n",
       "    </tr>\n",
       "    <tr>\n",
       "      <th>mean</th>\n",
       "      <td>7.119636e+05</td>\n",
       "      <td>0.248692</td>\n",
       "      <td>1.366572e+03</td>\n",
       "      <td>1.027000e+03</td>\n",
       "      <td>1.497325</td>\n",
       "      <td>7.479219</td>\n",
       "      <td>3.947287</td>\n",
       "      <td>310.295154</td>\n",
       "      <td>51.105211</td>\n",
       "      <td>361.400364</td>\n",
       "      <td>0.724066</td>\n",
       "    </tr>\n",
       "    <tr>\n",
       "      <th>std</th>\n",
       "      <td>3.320353e+05</td>\n",
       "      <td>2.016242</td>\n",
       "      <td>5.004816e+04</td>\n",
       "      <td>2.002453e+04</td>\n",
       "      <td>9.541774</td>\n",
       "      <td>7.299752</td>\n",
       "      <td>3.291365</td>\n",
       "      <td>2074.276555</td>\n",
       "      <td>410.636982</td>\n",
       "      <td>2320.614147</td>\n",
       "      <td>0.267178</td>\n",
       "    </tr>\n",
       "    <tr>\n",
       "      <th>min</th>\n",
       "      <td>3.595500e+05</td>\n",
       "      <td>0.000000</td>\n",
       "      <td>0.000000e+00</td>\n",
       "      <td>0.000000e+00</td>\n",
       "      <td>0.000000</td>\n",
       "      <td>1.000000</td>\n",
       "      <td>0.000000</td>\n",
       "      <td>0.000000</td>\n",
       "      <td>0.000000</td>\n",
       "      <td>1.000000</td>\n",
       "      <td>0.000000</td>\n",
       "    </tr>\n",
       "    <tr>\n",
       "      <th>25%</th>\n",
       "      <td>4.532200e+05</td>\n",
       "      <td>0.000000</td>\n",
       "      <td>2.390000e+02</td>\n",
       "      <td>2.220000e+02</td>\n",
       "      <td>0.000000</td>\n",
       "      <td>1.000000</td>\n",
       "      <td>0.000000</td>\n",
       "      <td>3.000000</td>\n",
       "      <td>1.000000</td>\n",
       "      <td>5.000000</td>\n",
       "      <td>0.600000</td>\n",
       "    </tr>\n",
       "    <tr>\n",
       "      <th>50%</th>\n",
       "      <td>4.897200e+05</td>\n",
       "      <td>0.000000</td>\n",
       "      <td>5.990000e+02</td>\n",
       "      <td>5.690000e+02</td>\n",
       "      <td>0.000000</td>\n",
       "      <td>4.000000</td>\n",
       "      <td>5.000000</td>\n",
       "      <td>12.000000</td>\n",
       "      <td>4.000000</td>\n",
       "      <td>17.000000</td>\n",
       "      <td>0.787234</td>\n",
       "    </tr>\n",
       "    <tr>\n",
       "      <th>75%</th>\n",
       "      <td>1.139760e+06</td>\n",
       "      <td>0.000000</td>\n",
       "      <td>1.199000e+03</td>\n",
       "      <td>1.099000e+03</td>\n",
       "      <td>0.000000</td>\n",
       "      <td>13.000000</td>\n",
       "      <td>7.000000</td>\n",
       "      <td>58.000000</td>\n",
       "      <td>17.000000</td>\n",
       "      <td>80.000000</td>\n",
       "      <td>0.932990</td>\n",
       "    </tr>\n",
       "    <tr>\n",
       "      <th>max</th>\n",
       "      <td>1.198820e+06</td>\n",
       "      <td>18.000000</td>\n",
       "      <td>4.616000e+06</td>\n",
       "      <td>1.846000e+06</td>\n",
       "      <td>90.000000</td>\n",
       "      <td>20.000000</td>\n",
       "      <td>9.000000</td>\n",
       "      <td>47422.000000</td>\n",
       "      <td>19313.000000</td>\n",
       "      <td>51923.000000</td>\n",
       "      <td>1.000000</td>\n",
       "    </tr>\n",
       "  </tbody>\n",
       "</table>\n",
       "</div>"
      ],
      "text/plain": [
       "        steam_appid  required_age  price_initial   price_final  \\\n",
       "count  5.103100e+04  51031.000000   5.103100e+04  5.103100e+04   \n",
       "mean   7.119636e+05      0.248692   1.366572e+03  1.027000e+03   \n",
       "std    3.320353e+05      2.016242   5.004816e+04  2.002453e+04   \n",
       "min    3.595500e+05      0.000000   0.000000e+00  0.000000e+00   \n",
       "25%    4.532200e+05      0.000000   2.390000e+02  2.220000e+02   \n",
       "50%    4.897200e+05      0.000000   5.990000e+02  5.690000e+02   \n",
       "75%    1.139760e+06      0.000000   1.199000e+03  1.099000e+03   \n",
       "max    1.198820e+06     18.000000   4.616000e+06  1.846000e+06   \n",
       "\n",
       "       price_discount_percent   num_reviews  review_score  total_positive  \\\n",
       "count            51031.000000  51031.000000  51031.000000    51031.000000   \n",
       "mean                 1.497325      7.479219      3.947287      310.295154   \n",
       "std                  9.541774      7.299752      3.291365     2074.276555   \n",
       "min                  0.000000      1.000000      0.000000        0.000000   \n",
       "25%                  0.000000      1.000000      0.000000        3.000000   \n",
       "50%                  0.000000      4.000000      5.000000       12.000000   \n",
       "75%                  0.000000     13.000000      7.000000       58.000000   \n",
       "max                 90.000000     20.000000      9.000000    47422.000000   \n",
       "\n",
       "       total_negative  total_reviews  procent_positive  \n",
       "count    51031.000000   51031.000000      51031.000000  \n",
       "mean        51.105211     361.400364          0.724066  \n",
       "std        410.636982    2320.614147          0.267178  \n",
       "min          0.000000       1.000000          0.000000  \n",
       "25%          1.000000       5.000000          0.600000  \n",
       "50%          4.000000      17.000000          0.787234  \n",
       "75%         17.000000      80.000000          0.932990  \n",
       "max      19313.000000   51923.000000          1.000000  "
      ]
     },
     "execution_count": 16,
     "metadata": {},
     "output_type": "execute_result"
    }
   ],
   "source": [
    "df.describe()"
   ]
  },
  {
   "cell_type": "code",
   "execution_count": 18,
   "id": "67098eee",
   "metadata": {},
   "outputs": [
    {
     "name": "stdout",
     "output_type": "stream",
     "text": [
      "<class 'pandas.core.frame.DataFrame'>\n",
      "RangeIndex: 51031 entries, 0 to 51030\n",
      "Data columns (total 36 columns):\n",
      " #   Column                    Non-Null Count  Dtype  \n",
      "---  ------                    --------------  -----  \n",
      " 0   steam_appid               51031 non-null  int64  \n",
      " 1   game_type                 51031 non-null  object \n",
      " 2   game_name                 51031 non-null  object \n",
      " 3   required_age              51031 non-null  int64  \n",
      " 4   is_free                   51031 non-null  object \n",
      " 5   detailed_description      51031 non-null  object \n",
      " 6   about_the_game            51031 non-null  object \n",
      " 7   short_description         51031 non-null  object \n",
      " 8   header_image              51031 non-null  object \n",
      " 9   website                   35860 non-null  object \n",
      " 10  pc_requirements_min       51031 non-null  object \n",
      " 11  pc_requirements_recomm    0 non-null      object \n",
      " 12  mac_requirements_min      0 non-null      object \n",
      " 13  mac_requirements_recomm   0 non-null      object \n",
      " 14  price_currency            51031 non-null  object \n",
      " 15  price_initial             51031 non-null  int64  \n",
      " 16  price_final               51031 non-null  int64  \n",
      " 17  price_discount_percent    51031 non-null  int64  \n",
      " 18  price_initial_formatted   51031 non-null  object \n",
      " 19  price_final_formatted     51031 non-null  object \n",
      " 20  release_date_coming_soon  51031 non-null  object \n",
      " 21  release_date              51031 non-null  object \n",
      " 22  support_info_url          51031 non-null  object \n",
      " 23  support_info_email        51031 non-null  object \n",
      " 24  support_info_background   51031 non-null  object \n",
      " 25  num_reviews               51031 non-null  int64  \n",
      " 26  review_score              51031 non-null  int64  \n",
      " 27  total_positive            51031 non-null  int64  \n",
      " 28  total_negative            51031 non-null  int64  \n",
      " 29  total_reviews             51031 non-null  int64  \n",
      " 30  platforms_windows         51031 non-null  object \n",
      " 31  platforms_mac             51031 non-null  object \n",
      " 32  platforms_linux           51031 non-null  object \n",
      " 33  genre_descript            51023 non-null  object \n",
      " 34  category_descript         50869 non-null  object \n",
      " 35  procent_positive          51031 non-null  float64\n",
      "dtypes: float64(1), int64(10), object(25)\n",
      "memory usage: 14.0+ MB\n"
     ]
    }
   ],
   "source": [
    "df.info()"
   ]
  },
  {
   "cell_type": "code",
   "execution_count": 34,
   "id": "8ed423dc",
   "metadata": {},
   "outputs": [
    {
     "data": {
      "text/html": [
       "<div>\n",
       "<style scoped>\n",
       "    .dataframe tbody tr th:only-of-type {\n",
       "        vertical-align: middle;\n",
       "    }\n",
       "\n",
       "    .dataframe tbody tr th {\n",
       "        vertical-align: top;\n",
       "    }\n",
       "\n",
       "    .dataframe thead th {\n",
       "        text-align: right;\n",
       "    }\n",
       "</style>\n",
       "<table border=\"1\" class=\"dataframe\">\n",
       "  <thead>\n",
       "    <tr style=\"text-align: right;\">\n",
       "      <th></th>\n",
       "      <th>steam_appid</th>\n",
       "      <th>game_type</th>\n",
       "      <th>game_name</th>\n",
       "      <th>required_age</th>\n",
       "      <th>is_free</th>\n",
       "      <th>detailed_description</th>\n",
       "      <th>about_the_game</th>\n",
       "      <th>short_description</th>\n",
       "      <th>header_image</th>\n",
       "      <th>website</th>\n",
       "      <th>...</th>\n",
       "      <th>review_score</th>\n",
       "      <th>total_positive</th>\n",
       "      <th>total_negative</th>\n",
       "      <th>total_reviews</th>\n",
       "      <th>platforms_windows</th>\n",
       "      <th>platforms_mac</th>\n",
       "      <th>platforms_linux</th>\n",
       "      <th>genre_descript</th>\n",
       "      <th>category_descript</th>\n",
       "      <th>procent_positive</th>\n",
       "    </tr>\n",
       "  </thead>\n",
       "  <tbody>\n",
       "    <tr>\n",
       "      <th>948</th>\n",
       "      <td>424840</td>\n",
       "      <td>game</td>\n",
       "      <td>Little Nightmares</td>\n",
       "      <td>0</td>\n",
       "      <td>0</td>\n",
       "      <td>&lt;h1&gt;The nightmares are not over&lt;/h1&gt;&lt;p&gt;&lt;a href...</td>\n",
       "      <td>&lt;img src=\"https://cdn.cloudflare.steamstatic.c...</td>\n",
       "      <td>Immerse yourself in Little Nightmares, a dark ...</td>\n",
       "      <td>https://cdn.akamai.steamstatic.com/steam/apps/...</td>\n",
       "      <td>http://www.little-nightmares.com</td>\n",
       "      <td>...</td>\n",
       "      <td>8</td>\n",
       "      <td>9999</td>\n",
       "      <td>729</td>\n",
       "      <td>10728</td>\n",
       "      <td>1</td>\n",
       "      <td>0</td>\n",
       "      <td>0</td>\n",
       "      <td>Adventure</td>\n",
       "      <td>Single-player</td>\n",
       "      <td>0.932047</td>\n",
       "    </tr>\n",
       "    <tr>\n",
       "      <th>949</th>\n",
       "      <td>424840</td>\n",
       "      <td>game</td>\n",
       "      <td>Little Nightmares</td>\n",
       "      <td>0</td>\n",
       "      <td>0</td>\n",
       "      <td>&lt;h1&gt;The nightmares are not over&lt;/h1&gt;&lt;p&gt;&lt;a href...</td>\n",
       "      <td>&lt;img src=\"https://cdn.cloudflare.steamstatic.c...</td>\n",
       "      <td>Immerse yourself in Little Nightmares, a dark ...</td>\n",
       "      <td>https://cdn.akamai.steamstatic.com/steam/apps/...</td>\n",
       "      <td>http://www.little-nightmares.com</td>\n",
       "      <td>...</td>\n",
       "      <td>8</td>\n",
       "      <td>9999</td>\n",
       "      <td>729</td>\n",
       "      <td>10728</td>\n",
       "      <td>1</td>\n",
       "      <td>0</td>\n",
       "      <td>0</td>\n",
       "      <td>Adventure</td>\n",
       "      <td>Steam Achievements</td>\n",
       "      <td>0.932047</td>\n",
       "    </tr>\n",
       "    <tr>\n",
       "      <th>950</th>\n",
       "      <td>424840</td>\n",
       "      <td>game</td>\n",
       "      <td>Little Nightmares</td>\n",
       "      <td>0</td>\n",
       "      <td>0</td>\n",
       "      <td>&lt;h1&gt;The nightmares are not over&lt;/h1&gt;&lt;p&gt;&lt;a href...</td>\n",
       "      <td>&lt;img src=\"https://cdn.cloudflare.steamstatic.c...</td>\n",
       "      <td>Immerse yourself in Little Nightmares, a dark ...</td>\n",
       "      <td>https://cdn.akamai.steamstatic.com/steam/apps/...</td>\n",
       "      <td>http://www.little-nightmares.com</td>\n",
       "      <td>...</td>\n",
       "      <td>8</td>\n",
       "      <td>9999</td>\n",
       "      <td>729</td>\n",
       "      <td>10728</td>\n",
       "      <td>1</td>\n",
       "      <td>0</td>\n",
       "      <td>0</td>\n",
       "      <td>Adventure</td>\n",
       "      <td>Steam Cloud</td>\n",
       "      <td>0.932047</td>\n",
       "    </tr>\n",
       "    <tr>\n",
       "      <th>951</th>\n",
       "      <td>424840</td>\n",
       "      <td>game</td>\n",
       "      <td>Little Nightmares</td>\n",
       "      <td>0</td>\n",
       "      <td>0</td>\n",
       "      <td>&lt;h1&gt;The nightmares are not over&lt;/h1&gt;&lt;p&gt;&lt;a href...</td>\n",
       "      <td>&lt;img src=\"https://cdn.cloudflare.steamstatic.c...</td>\n",
       "      <td>Immerse yourself in Little Nightmares, a dark ...</td>\n",
       "      <td>https://cdn.akamai.steamstatic.com/steam/apps/...</td>\n",
       "      <td>http://www.little-nightmares.com</td>\n",
       "      <td>...</td>\n",
       "      <td>8</td>\n",
       "      <td>9999</td>\n",
       "      <td>729</td>\n",
       "      <td>10728</td>\n",
       "      <td>1</td>\n",
       "      <td>0</td>\n",
       "      <td>0</td>\n",
       "      <td>Adventure</td>\n",
       "      <td>Full controller support</td>\n",
       "      <td>0.932047</td>\n",
       "    </tr>\n",
       "    <tr>\n",
       "      <th>952</th>\n",
       "      <td>424840</td>\n",
       "      <td>game</td>\n",
       "      <td>Little Nightmares</td>\n",
       "      <td>0</td>\n",
       "      <td>0</td>\n",
       "      <td>&lt;h1&gt;The nightmares are not over&lt;/h1&gt;&lt;p&gt;&lt;a href...</td>\n",
       "      <td>&lt;img src=\"https://cdn.cloudflare.steamstatic.c...</td>\n",
       "      <td>Immerse yourself in Little Nightmares, a dark ...</td>\n",
       "      <td>https://cdn.akamai.steamstatic.com/steam/apps/...</td>\n",
       "      <td>http://www.little-nightmares.com</td>\n",
       "      <td>...</td>\n",
       "      <td>8</td>\n",
       "      <td>9999</td>\n",
       "      <td>729</td>\n",
       "      <td>10728</td>\n",
       "      <td>1</td>\n",
       "      <td>0</td>\n",
       "      <td>0</td>\n",
       "      <td>Adventure</td>\n",
       "      <td>Steam Trading Cards</td>\n",
       "      <td>0.932047</td>\n",
       "    </tr>\n",
       "    <tr>\n",
       "      <th>...</th>\n",
       "      <td>...</td>\n",
       "      <td>...</td>\n",
       "      <td>...</td>\n",
       "      <td>...</td>\n",
       "      <td>...</td>\n",
       "      <td>...</td>\n",
       "      <td>...</td>\n",
       "      <td>...</td>\n",
       "      <td>...</td>\n",
       "      <td>...</td>\n",
       "      <td>...</td>\n",
       "      <td>...</td>\n",
       "      <td>...</td>\n",
       "      <td>...</td>\n",
       "      <td>...</td>\n",
       "      <td>...</td>\n",
       "      <td>...</td>\n",
       "      <td>...</td>\n",
       "      <td>...</td>\n",
       "      <td>...</td>\n",
       "      <td>...</td>\n",
       "    </tr>\n",
       "    <tr>\n",
       "      <th>49362</th>\n",
       "      <td>1190460</td>\n",
       "      <td>game</td>\n",
       "      <td>DEATH STRANDING</td>\n",
       "      <td>0</td>\n",
       "      <td>0</td>\n",
       "      <td>&lt;h1&gt;Feature List&lt;/h1&gt;&lt;p&gt;&lt;a href=\"https://partn...</td>\n",
       "      <td>From legendary game creator Hideo Kojima comes...</td>\n",
       "      <td>From legendary game creator Hideo Kojima comes...</td>\n",
       "      <td>https://cdn.akamai.steamstatic.com/steam/apps/...</td>\n",
       "      <td>http://www.kojimaproductions.jp/en/</td>\n",
       "      <td>...</td>\n",
       "      <td>8</td>\n",
       "      <td>13612</td>\n",
       "      <td>1329</td>\n",
       "      <td>14941</td>\n",
       "      <td>1</td>\n",
       "      <td>0</td>\n",
       "      <td>0</td>\n",
       "      <td>Action</td>\n",
       "      <td>Full controller support</td>\n",
       "      <td>0.911050</td>\n",
       "    </tr>\n",
       "    <tr>\n",
       "      <th>49363</th>\n",
       "      <td>1190460</td>\n",
       "      <td>game</td>\n",
       "      <td>DEATH STRANDING</td>\n",
       "      <td>0</td>\n",
       "      <td>0</td>\n",
       "      <td>&lt;h1&gt;Feature List&lt;/h1&gt;&lt;p&gt;&lt;a href=\"https://partn...</td>\n",
       "      <td>From legendary game creator Hideo Kojima comes...</td>\n",
       "      <td>From legendary game creator Hideo Kojima comes...</td>\n",
       "      <td>https://cdn.akamai.steamstatic.com/steam/apps/...</td>\n",
       "      <td>http://www.kojimaproductions.jp/en/</td>\n",
       "      <td>...</td>\n",
       "      <td>8</td>\n",
       "      <td>13612</td>\n",
       "      <td>1329</td>\n",
       "      <td>14941</td>\n",
       "      <td>1</td>\n",
       "      <td>0</td>\n",
       "      <td>0</td>\n",
       "      <td>Adventure</td>\n",
       "      <td>Single-player</td>\n",
       "      <td>0.911050</td>\n",
       "    </tr>\n",
       "    <tr>\n",
       "      <th>49364</th>\n",
       "      <td>1190460</td>\n",
       "      <td>game</td>\n",
       "      <td>DEATH STRANDING</td>\n",
       "      <td>0</td>\n",
       "      <td>0</td>\n",
       "      <td>&lt;h1&gt;Feature List&lt;/h1&gt;&lt;p&gt;&lt;a href=\"https://partn...</td>\n",
       "      <td>From legendary game creator Hideo Kojima comes...</td>\n",
       "      <td>From legendary game creator Hideo Kojima comes...</td>\n",
       "      <td>https://cdn.akamai.steamstatic.com/steam/apps/...</td>\n",
       "      <td>http://www.kojimaproductions.jp/en/</td>\n",
       "      <td>...</td>\n",
       "      <td>8</td>\n",
       "      <td>13612</td>\n",
       "      <td>1329</td>\n",
       "      <td>14941</td>\n",
       "      <td>1</td>\n",
       "      <td>0</td>\n",
       "      <td>0</td>\n",
       "      <td>Adventure</td>\n",
       "      <td>Steam Achievements</td>\n",
       "      <td>0.911050</td>\n",
       "    </tr>\n",
       "    <tr>\n",
       "      <th>49365</th>\n",
       "      <td>1190460</td>\n",
       "      <td>game</td>\n",
       "      <td>DEATH STRANDING</td>\n",
       "      <td>0</td>\n",
       "      <td>0</td>\n",
       "      <td>&lt;h1&gt;Feature List&lt;/h1&gt;&lt;p&gt;&lt;a href=\"https://partn...</td>\n",
       "      <td>From legendary game creator Hideo Kojima comes...</td>\n",
       "      <td>From legendary game creator Hideo Kojima comes...</td>\n",
       "      <td>https://cdn.akamai.steamstatic.com/steam/apps/...</td>\n",
       "      <td>http://www.kojimaproductions.jp/en/</td>\n",
       "      <td>...</td>\n",
       "      <td>8</td>\n",
       "      <td>13612</td>\n",
       "      <td>1329</td>\n",
       "      <td>14941</td>\n",
       "      <td>1</td>\n",
       "      <td>0</td>\n",
       "      <td>0</td>\n",
       "      <td>Adventure</td>\n",
       "      <td>Steam Cloud</td>\n",
       "      <td>0.911050</td>\n",
       "    </tr>\n",
       "    <tr>\n",
       "      <th>49366</th>\n",
       "      <td>1190460</td>\n",
       "      <td>game</td>\n",
       "      <td>DEATH STRANDING</td>\n",
       "      <td>0</td>\n",
       "      <td>0</td>\n",
       "      <td>&lt;h1&gt;Feature List&lt;/h1&gt;&lt;p&gt;&lt;a href=\"https://partn...</td>\n",
       "      <td>From legendary game creator Hideo Kojima comes...</td>\n",
       "      <td>From legendary game creator Hideo Kojima comes...</td>\n",
       "      <td>https://cdn.akamai.steamstatic.com/steam/apps/...</td>\n",
       "      <td>http://www.kojimaproductions.jp/en/</td>\n",
       "      <td>...</td>\n",
       "      <td>8</td>\n",
       "      <td>13612</td>\n",
       "      <td>1329</td>\n",
       "      <td>14941</td>\n",
       "      <td>1</td>\n",
       "      <td>0</td>\n",
       "      <td>0</td>\n",
       "      <td>Adventure</td>\n",
       "      <td>Full controller support</td>\n",
       "      <td>0.911050</td>\n",
       "    </tr>\n",
       "  </tbody>\n",
       "</table>\n",
       "<p>676 rows × 36 columns</p>\n",
       "</div>"
      ],
      "text/plain": [
       "       steam_appid game_type          game_name  required_age is_free  \\\n",
       "948         424840      game  Little Nightmares             0       0   \n",
       "949         424840      game  Little Nightmares             0       0   \n",
       "950         424840      game  Little Nightmares             0       0   \n",
       "951         424840      game  Little Nightmares             0       0   \n",
       "952         424840      game  Little Nightmares             0       0   \n",
       "...            ...       ...                ...           ...     ...   \n",
       "49362      1190460      game    DEATH STRANDING             0       0   \n",
       "49363      1190460      game    DEATH STRANDING             0       0   \n",
       "49364      1190460      game    DEATH STRANDING             0       0   \n",
       "49365      1190460      game    DEATH STRANDING             0       0   \n",
       "49366      1190460      game    DEATH STRANDING             0       0   \n",
       "\n",
       "                                    detailed_description  \\\n",
       "948    <h1>The nightmares are not over</h1><p><a href...   \n",
       "949    <h1>The nightmares are not over</h1><p><a href...   \n",
       "950    <h1>The nightmares are not over</h1><p><a href...   \n",
       "951    <h1>The nightmares are not over</h1><p><a href...   \n",
       "952    <h1>The nightmares are not over</h1><p><a href...   \n",
       "...                                                  ...   \n",
       "49362  <h1>Feature List</h1><p><a href=\"https://partn...   \n",
       "49363  <h1>Feature List</h1><p><a href=\"https://partn...   \n",
       "49364  <h1>Feature List</h1><p><a href=\"https://partn...   \n",
       "49365  <h1>Feature List</h1><p><a href=\"https://partn...   \n",
       "49366  <h1>Feature List</h1><p><a href=\"https://partn...   \n",
       "\n",
       "                                          about_the_game  \\\n",
       "948    <img src=\"https://cdn.cloudflare.steamstatic.c...   \n",
       "949    <img src=\"https://cdn.cloudflare.steamstatic.c...   \n",
       "950    <img src=\"https://cdn.cloudflare.steamstatic.c...   \n",
       "951    <img src=\"https://cdn.cloudflare.steamstatic.c...   \n",
       "952    <img src=\"https://cdn.cloudflare.steamstatic.c...   \n",
       "...                                                  ...   \n",
       "49362  From legendary game creator Hideo Kojima comes...   \n",
       "49363  From legendary game creator Hideo Kojima comes...   \n",
       "49364  From legendary game creator Hideo Kojima comes...   \n",
       "49365  From legendary game creator Hideo Kojima comes...   \n",
       "49366  From legendary game creator Hideo Kojima comes...   \n",
       "\n",
       "                                       short_description  \\\n",
       "948    Immerse yourself in Little Nightmares, a dark ...   \n",
       "949    Immerse yourself in Little Nightmares, a dark ...   \n",
       "950    Immerse yourself in Little Nightmares, a dark ...   \n",
       "951    Immerse yourself in Little Nightmares, a dark ...   \n",
       "952    Immerse yourself in Little Nightmares, a dark ...   \n",
       "...                                                  ...   \n",
       "49362  From legendary game creator Hideo Kojima comes...   \n",
       "49363  From legendary game creator Hideo Kojima comes...   \n",
       "49364  From legendary game creator Hideo Kojima comes...   \n",
       "49365  From legendary game creator Hideo Kojima comes...   \n",
       "49366  From legendary game creator Hideo Kojima comes...   \n",
       "\n",
       "                                            header_image  \\\n",
       "948    https://cdn.akamai.steamstatic.com/steam/apps/...   \n",
       "949    https://cdn.akamai.steamstatic.com/steam/apps/...   \n",
       "950    https://cdn.akamai.steamstatic.com/steam/apps/...   \n",
       "951    https://cdn.akamai.steamstatic.com/steam/apps/...   \n",
       "952    https://cdn.akamai.steamstatic.com/steam/apps/...   \n",
       "...                                                  ...   \n",
       "49362  https://cdn.akamai.steamstatic.com/steam/apps/...   \n",
       "49363  https://cdn.akamai.steamstatic.com/steam/apps/...   \n",
       "49364  https://cdn.akamai.steamstatic.com/steam/apps/...   \n",
       "49365  https://cdn.akamai.steamstatic.com/steam/apps/...   \n",
       "49366  https://cdn.akamai.steamstatic.com/steam/apps/...   \n",
       "\n",
       "                                   website  ... review_score total_positive  \\\n",
       "948       http://www.little-nightmares.com  ...            8           9999   \n",
       "949       http://www.little-nightmares.com  ...            8           9999   \n",
       "950       http://www.little-nightmares.com  ...            8           9999   \n",
       "951       http://www.little-nightmares.com  ...            8           9999   \n",
       "952       http://www.little-nightmares.com  ...            8           9999   \n",
       "...                                    ...  ...          ...            ...   \n",
       "49362  http://www.kojimaproductions.jp/en/  ...            8          13612   \n",
       "49363  http://www.kojimaproductions.jp/en/  ...            8          13612   \n",
       "49364  http://www.kojimaproductions.jp/en/  ...            8          13612   \n",
       "49365  http://www.kojimaproductions.jp/en/  ...            8          13612   \n",
       "49366  http://www.kojimaproductions.jp/en/  ...            8          13612   \n",
       "\n",
       "      total_negative total_reviews platforms_windows  platforms_mac  \\\n",
       "948              729         10728                 1              0   \n",
       "949              729         10728                 1              0   \n",
       "950              729         10728                 1              0   \n",
       "951              729         10728                 1              0   \n",
       "952              729         10728                 1              0   \n",
       "...              ...           ...               ...            ...   \n",
       "49362           1329         14941                 1              0   \n",
       "49363           1329         14941                 1              0   \n",
       "49364           1329         14941                 1              0   \n",
       "49365           1329         14941                 1              0   \n",
       "49366           1329         14941                 1              0   \n",
       "\n",
       "       platforms_linux  genre_descript        category_descript  \\\n",
       "948                  0       Adventure            Single-player   \n",
       "949                  0       Adventure       Steam Achievements   \n",
       "950                  0       Adventure              Steam Cloud   \n",
       "951                  0       Adventure  Full controller support   \n",
       "952                  0       Adventure      Steam Trading Cards   \n",
       "...                ...             ...                      ...   \n",
       "49362                0          Action  Full controller support   \n",
       "49363                0       Adventure            Single-player   \n",
       "49364                0       Adventure       Steam Achievements   \n",
       "49365                0       Adventure              Steam Cloud   \n",
       "49366                0       Adventure  Full controller support   \n",
       "\n",
       "      procent_positive  \n",
       "948           0.932047  \n",
       "949           0.932047  \n",
       "950           0.932047  \n",
       "951           0.932047  \n",
       "952           0.932047  \n",
       "...                ...  \n",
       "49362         0.911050  \n",
       "49363         0.911050  \n",
       "49364         0.911050  \n",
       "49365         0.911050  \n",
       "49366         0.911050  \n",
       "\n",
       "[676 rows x 36 columns]"
      ]
     },
     "execution_count": 34,
     "metadata": {},
     "output_type": "execute_result"
    }
   ],
   "source": [
    "df[df.total_reviews > 5000]"
   ]
  },
  {
   "cell_type": "code",
   "execution_count": 37,
   "id": "54c847a2",
   "metadata": {},
   "outputs": [
    {
     "data": {
      "text/plain": [
       "713"
      ]
     },
     "execution_count": 37,
     "metadata": {},
     "output_type": "execute_result"
    }
   ],
   "source": [
    "len(df[df.total_reviews > 4500])"
   ]
  },
  {
   "cell_type": "markdown",
   "id": "438381a9",
   "metadata": {},
   "source": [
    "Find genres popularity"
   ]
  },
  {
   "cell_type": "code",
   "execution_count": 52,
   "id": "0e15fdf0",
   "metadata": {},
   "outputs": [],
   "source": [
    "genres_query ='''\n",
    "SELECT games.total_positive, games.total_reviews, genres.genre_descript \n",
    "FROM games\n",
    "LEFT JOIN game_genre ON games.steam_appid = game_genre.steam_appid\n",
    "LEFT JOIN genres ON game_genre.genre_id = genres.genre_id\n",
    "'''"
   ]
  },
  {
   "cell_type": "code",
   "execution_count": 53,
   "id": "9ee771cd",
   "metadata": {},
   "outputs": [],
   "source": [
    "engine = create_engine('sqlite:///steam_games.db')\n",
    "with engine.connect() as connection:\n",
    "    df_genres = pd.read_sql(genres_query, connection)"
   ]
  },
  {
   "cell_type": "code",
   "execution_count": 65,
   "id": "ca6b6be1",
   "metadata": {},
   "outputs": [],
   "source": [
    "# Choosing games with more than 4500 reviews\n",
    "df_genres = df_genres[df_genres.total_reviews > 4500]"
   ]
  },
  {
   "cell_type": "code",
   "execution_count": 66,
   "id": "ba26f8a1",
   "metadata": {},
   "outputs": [
    {
     "name": "stderr",
     "output_type": "stream",
     "text": [
      "C:\\Users\\kasia\\AppData\\Local\\Temp/ipykernel_8276/1225392794.py:1: SettingWithCopyWarning:\n",
      "\n",
      "\n",
      "A value is trying to be set on a copy of a slice from a DataFrame.\n",
      "Try using .loc[row_indexer,col_indexer] = value instead\n",
      "\n",
      "See the caveats in the documentation: https://pandas.pydata.org/pandas-docs/stable/user_guide/indexing.html#returning-a-view-versus-a-copy\n",
      "\n"
     ]
    }
   ],
   "source": [
    " df_genres['procent_positive'] =  df_genres.total_positive/ df_genres.total_reviews"
   ]
  },
  {
   "cell_type": "code",
   "execution_count": 126,
   "id": "ff2746ec",
   "metadata": {},
   "outputs": [
    {
     "data": {
      "application/vnd.plotly.v1+json": {
       "config": {
        "plotlyServerURL": "https://plot.ly"
       },
       "data": [
        {
         "domain": {
          "x": [
           0,
           1
          ],
          "y": [
           0,
           1
          ]
         },
         "hovertemplate": "genre_descript=%{label}<br>procent_positive=%{value}<extra></extra>",
         "labels": [
          "Adventure",
          "Indie",
          "Adventure",
          "Action",
          "RPG",
          "Action",
          "Casual",
          "Indie",
          "Strategy",
          "Casual",
          "Indie",
          "Adventure",
          "Simulation",
          "Action",
          "RPG",
          "Action",
          "Indie",
          "Adventure",
          "Simulation",
          "Action",
          "Adventure",
          "Massively Multiplayer",
          "Free to Play",
          "Action",
          "Casual",
          "Adventure",
          "Action",
          "Indie",
          "Free to Play",
          "Action",
          "Simulation",
          "Action",
          "Adventure",
          "Indie",
          "Adventure",
          "Simulation",
          "Action",
          "Strategy",
          "Indie",
          "Action",
          "Indie",
          "Simulation",
          "Early Access",
          "Indie",
          "Simulation",
          "Action",
          "Casual",
          "Adventure",
          "Massively Multiplayer",
          "Action",
          "Adventure",
          "Action",
          "Sports",
          "Action",
          "Adventure",
          "Casual",
          "Action",
          "Indie",
          "Adventure",
          "Action",
          "RPG",
          "Casual",
          "Indie",
          "Adventure",
          "Simulation",
          "Action",
          "Adventure",
          "Adventure",
          "RPG",
          "RPG",
          "Action",
          "Massively Multiplayer",
          "Action",
          "Strategy",
          "Casual",
          "Adventure",
          "Simulation",
          "Adventure",
          "Indie",
          "Adventure",
          "Action",
          "Indie",
          "Adventure",
          "Action",
          "Free to Play",
          "RPG",
          "Strategy",
          "RPG",
          "Simulation",
          "Action",
          "Strategy",
          "Indie",
          "Simulation",
          "Early Access",
          "Action",
          "Adventure",
          "Action",
          "Adventure",
          "Action",
          "Adventure"
         ],
         "legendgroup": "",
         "name": "",
         "showlegend": true,
         "type": "pie",
         "values": [
          0.9320469798657718,
          0.9770025031289111,
          0.9770025031289111,
          0.7465615257656336,
          0.7465615257656336,
          0.7735530626427082,
          0.7735530626427082,
          0.7735530626427082,
          0.7544891148895598,
          0.7544891148895598,
          0.7544891148895598,
          0.7544891148895598,
          0.7544891148895598,
          0.9256698357821953,
          0.9256698357821953,
          0.979083885209713,
          0.979083885209713,
          0.979083885209713,
          0.979083885209713,
          0.5063139059304703,
          0.5063139059304703,
          0.5063139059304703,
          0.5063139059304703,
          0.9587618670886076,
          0.9587618670886076,
          0.9587618670886076,
          0.5791780172924316,
          0.5791780172924316,
          0.5791780172924316,
          0.7426437735367333,
          0.9245718050065876,
          0.8159932422919893,
          0.8159932422919893,
          0.9709553528564571,
          0.9709553528564571,
          0.9709553528564571,
          0.8634188777729448,
          0.8634188777729448,
          0.8634188777729448,
          0.9701999611725879,
          0.9701999611725879,
          0.9701999611725879,
          0.9701999611725879,
          0.6835703978561122,
          0.6835703978561122,
          0.8526050948736765,
          0.8526050948736765,
          0.8526050948736765,
          0.8526050948736765,
          0.9101840043723811,
          0.9101840043723811,
          0.822131395700878,
          0.822131395700878,
          0.7956138367623785,
          0.7956138367623785,
          0.7310725046477339,
          0.7155063291139241,
          0.7155063291139241,
          0.7155063291139241,
          0.9045996592844975,
          0.9045996592844975,
          0.952645209027007,
          0.952645209027007,
          0.952645209027007,
          0.952645209027007,
          0.9060087785681853,
          0.9060087785681853,
          0.941942687011537,
          0.7804787759131293,
          0.9528728619216932,
          0.6179688363355067,
          0.6179688363355067,
          0.898153547133139,
          0.898153547133139,
          0.898153547133139,
          0.898153547133139,
          0.898153547133139,
          0.8048327137546468,
          0.9386524822695036,
          0.9386524822695036,
          0.9762186531417301,
          0.9762186531417301,
          0.9762186531417301,
          0.8766280381499333,
          0.8766280381499333,
          0.9790319354623641,
          0.9365851420180792,
          0.9365851420180792,
          0.9365851420180792,
          0.9535796454188659,
          0.9535796454188659,
          0.9535796454188659,
          0.9535796454188659,
          0.9535796454188659,
          0.9083362399720962,
          0.9083362399720962,
          0.9133139456502899,
          0.9133139456502899,
          0.9110501305133525,
          0.9110501305133525
         ]
        }
       ],
       "layout": {
        "legend": {
         "tracegroupgap": 0
        },
        "template": {
         "data": {
          "bar": [
           {
            "error_x": {
             "color": "#2a3f5f"
            },
            "error_y": {
             "color": "#2a3f5f"
            },
            "marker": {
             "line": {
              "color": "#E5ECF6",
              "width": 0.5
             },
             "pattern": {
              "fillmode": "overlay",
              "size": 10,
              "solidity": 0.2
             }
            },
            "type": "bar"
           }
          ],
          "barpolar": [
           {
            "marker": {
             "line": {
              "color": "#E5ECF6",
              "width": 0.5
             },
             "pattern": {
              "fillmode": "overlay",
              "size": 10,
              "solidity": 0.2
             }
            },
            "type": "barpolar"
           }
          ],
          "carpet": [
           {
            "aaxis": {
             "endlinecolor": "#2a3f5f",
             "gridcolor": "white",
             "linecolor": "white",
             "minorgridcolor": "white",
             "startlinecolor": "#2a3f5f"
            },
            "baxis": {
             "endlinecolor": "#2a3f5f",
             "gridcolor": "white",
             "linecolor": "white",
             "minorgridcolor": "white",
             "startlinecolor": "#2a3f5f"
            },
            "type": "carpet"
           }
          ],
          "choropleth": [
           {
            "colorbar": {
             "outlinewidth": 0,
             "ticks": ""
            },
            "type": "choropleth"
           }
          ],
          "contour": [
           {
            "colorbar": {
             "outlinewidth": 0,
             "ticks": ""
            },
            "colorscale": [
             [
              0,
              "#0d0887"
             ],
             [
              0.1111111111111111,
              "#46039f"
             ],
             [
              0.2222222222222222,
              "#7201a8"
             ],
             [
              0.3333333333333333,
              "#9c179e"
             ],
             [
              0.4444444444444444,
              "#bd3786"
             ],
             [
              0.5555555555555556,
              "#d8576b"
             ],
             [
              0.6666666666666666,
              "#ed7953"
             ],
             [
              0.7777777777777778,
              "#fb9f3a"
             ],
             [
              0.8888888888888888,
              "#fdca26"
             ],
             [
              1,
              "#f0f921"
             ]
            ],
            "type": "contour"
           }
          ],
          "contourcarpet": [
           {
            "colorbar": {
             "outlinewidth": 0,
             "ticks": ""
            },
            "type": "contourcarpet"
           }
          ],
          "heatmap": [
           {
            "colorbar": {
             "outlinewidth": 0,
             "ticks": ""
            },
            "colorscale": [
             [
              0,
              "#0d0887"
             ],
             [
              0.1111111111111111,
              "#46039f"
             ],
             [
              0.2222222222222222,
              "#7201a8"
             ],
             [
              0.3333333333333333,
              "#9c179e"
             ],
             [
              0.4444444444444444,
              "#bd3786"
             ],
             [
              0.5555555555555556,
              "#d8576b"
             ],
             [
              0.6666666666666666,
              "#ed7953"
             ],
             [
              0.7777777777777778,
              "#fb9f3a"
             ],
             [
              0.8888888888888888,
              "#fdca26"
             ],
             [
              1,
              "#f0f921"
             ]
            ],
            "type": "heatmap"
           }
          ],
          "heatmapgl": [
           {
            "colorbar": {
             "outlinewidth": 0,
             "ticks": ""
            },
            "colorscale": [
             [
              0,
              "#0d0887"
             ],
             [
              0.1111111111111111,
              "#46039f"
             ],
             [
              0.2222222222222222,
              "#7201a8"
             ],
             [
              0.3333333333333333,
              "#9c179e"
             ],
             [
              0.4444444444444444,
              "#bd3786"
             ],
             [
              0.5555555555555556,
              "#d8576b"
             ],
             [
              0.6666666666666666,
              "#ed7953"
             ],
             [
              0.7777777777777778,
              "#fb9f3a"
             ],
             [
              0.8888888888888888,
              "#fdca26"
             ],
             [
              1,
              "#f0f921"
             ]
            ],
            "type": "heatmapgl"
           }
          ],
          "histogram": [
           {
            "marker": {
             "pattern": {
              "fillmode": "overlay",
              "size": 10,
              "solidity": 0.2
             }
            },
            "type": "histogram"
           }
          ],
          "histogram2d": [
           {
            "colorbar": {
             "outlinewidth": 0,
             "ticks": ""
            },
            "colorscale": [
             [
              0,
              "#0d0887"
             ],
             [
              0.1111111111111111,
              "#46039f"
             ],
             [
              0.2222222222222222,
              "#7201a8"
             ],
             [
              0.3333333333333333,
              "#9c179e"
             ],
             [
              0.4444444444444444,
              "#bd3786"
             ],
             [
              0.5555555555555556,
              "#d8576b"
             ],
             [
              0.6666666666666666,
              "#ed7953"
             ],
             [
              0.7777777777777778,
              "#fb9f3a"
             ],
             [
              0.8888888888888888,
              "#fdca26"
             ],
             [
              1,
              "#f0f921"
             ]
            ],
            "type": "histogram2d"
           }
          ],
          "histogram2dcontour": [
           {
            "colorbar": {
             "outlinewidth": 0,
             "ticks": ""
            },
            "colorscale": [
             [
              0,
              "#0d0887"
             ],
             [
              0.1111111111111111,
              "#46039f"
             ],
             [
              0.2222222222222222,
              "#7201a8"
             ],
             [
              0.3333333333333333,
              "#9c179e"
             ],
             [
              0.4444444444444444,
              "#bd3786"
             ],
             [
              0.5555555555555556,
              "#d8576b"
             ],
             [
              0.6666666666666666,
              "#ed7953"
             ],
             [
              0.7777777777777778,
              "#fb9f3a"
             ],
             [
              0.8888888888888888,
              "#fdca26"
             ],
             [
              1,
              "#f0f921"
             ]
            ],
            "type": "histogram2dcontour"
           }
          ],
          "mesh3d": [
           {
            "colorbar": {
             "outlinewidth": 0,
             "ticks": ""
            },
            "type": "mesh3d"
           }
          ],
          "parcoords": [
           {
            "line": {
             "colorbar": {
              "outlinewidth": 0,
              "ticks": ""
             }
            },
            "type": "parcoords"
           }
          ],
          "pie": [
           {
            "automargin": true,
            "type": "pie"
           }
          ],
          "scatter": [
           {
            "marker": {
             "colorbar": {
              "outlinewidth": 0,
              "ticks": ""
             }
            },
            "type": "scatter"
           }
          ],
          "scatter3d": [
           {
            "line": {
             "colorbar": {
              "outlinewidth": 0,
              "ticks": ""
             }
            },
            "marker": {
             "colorbar": {
              "outlinewidth": 0,
              "ticks": ""
             }
            },
            "type": "scatter3d"
           }
          ],
          "scattercarpet": [
           {
            "marker": {
             "colorbar": {
              "outlinewidth": 0,
              "ticks": ""
             }
            },
            "type": "scattercarpet"
           }
          ],
          "scattergeo": [
           {
            "marker": {
             "colorbar": {
              "outlinewidth": 0,
              "ticks": ""
             }
            },
            "type": "scattergeo"
           }
          ],
          "scattergl": [
           {
            "marker": {
             "colorbar": {
              "outlinewidth": 0,
              "ticks": ""
             }
            },
            "type": "scattergl"
           }
          ],
          "scattermapbox": [
           {
            "marker": {
             "colorbar": {
              "outlinewidth": 0,
              "ticks": ""
             }
            },
            "type": "scattermapbox"
           }
          ],
          "scatterpolar": [
           {
            "marker": {
             "colorbar": {
              "outlinewidth": 0,
              "ticks": ""
             }
            },
            "type": "scatterpolar"
           }
          ],
          "scatterpolargl": [
           {
            "marker": {
             "colorbar": {
              "outlinewidth": 0,
              "ticks": ""
             }
            },
            "type": "scatterpolargl"
           }
          ],
          "scatterternary": [
           {
            "marker": {
             "colorbar": {
              "outlinewidth": 0,
              "ticks": ""
             }
            },
            "type": "scatterternary"
           }
          ],
          "surface": [
           {
            "colorbar": {
             "outlinewidth": 0,
             "ticks": ""
            },
            "colorscale": [
             [
              0,
              "#0d0887"
             ],
             [
              0.1111111111111111,
              "#46039f"
             ],
             [
              0.2222222222222222,
              "#7201a8"
             ],
             [
              0.3333333333333333,
              "#9c179e"
             ],
             [
              0.4444444444444444,
              "#bd3786"
             ],
             [
              0.5555555555555556,
              "#d8576b"
             ],
             [
              0.6666666666666666,
              "#ed7953"
             ],
             [
              0.7777777777777778,
              "#fb9f3a"
             ],
             [
              0.8888888888888888,
              "#fdca26"
             ],
             [
              1,
              "#f0f921"
             ]
            ],
            "type": "surface"
           }
          ],
          "table": [
           {
            "cells": {
             "fill": {
              "color": "#EBF0F8"
             },
             "line": {
              "color": "white"
             }
            },
            "header": {
             "fill": {
              "color": "#C8D4E3"
             },
             "line": {
              "color": "white"
             }
            },
            "type": "table"
           }
          ]
         },
         "layout": {
          "annotationdefaults": {
           "arrowcolor": "#2a3f5f",
           "arrowhead": 0,
           "arrowwidth": 1
          },
          "autotypenumbers": "strict",
          "coloraxis": {
           "colorbar": {
            "outlinewidth": 0,
            "ticks": ""
           }
          },
          "colorscale": {
           "diverging": [
            [
             0,
             "#8e0152"
            ],
            [
             0.1,
             "#c51b7d"
            ],
            [
             0.2,
             "#de77ae"
            ],
            [
             0.3,
             "#f1b6da"
            ],
            [
             0.4,
             "#fde0ef"
            ],
            [
             0.5,
             "#f7f7f7"
            ],
            [
             0.6,
             "#e6f5d0"
            ],
            [
             0.7,
             "#b8e186"
            ],
            [
             0.8,
             "#7fbc41"
            ],
            [
             0.9,
             "#4d9221"
            ],
            [
             1,
             "#276419"
            ]
           ],
           "sequential": [
            [
             0,
             "#0d0887"
            ],
            [
             0.1111111111111111,
             "#46039f"
            ],
            [
             0.2222222222222222,
             "#7201a8"
            ],
            [
             0.3333333333333333,
             "#9c179e"
            ],
            [
             0.4444444444444444,
             "#bd3786"
            ],
            [
             0.5555555555555556,
             "#d8576b"
            ],
            [
             0.6666666666666666,
             "#ed7953"
            ],
            [
             0.7777777777777778,
             "#fb9f3a"
            ],
            [
             0.8888888888888888,
             "#fdca26"
            ],
            [
             1,
             "#f0f921"
            ]
           ],
           "sequentialminus": [
            [
             0,
             "#0d0887"
            ],
            [
             0.1111111111111111,
             "#46039f"
            ],
            [
             0.2222222222222222,
             "#7201a8"
            ],
            [
             0.3333333333333333,
             "#9c179e"
            ],
            [
             0.4444444444444444,
             "#bd3786"
            ],
            [
             0.5555555555555556,
             "#d8576b"
            ],
            [
             0.6666666666666666,
             "#ed7953"
            ],
            [
             0.7777777777777778,
             "#fb9f3a"
            ],
            [
             0.8888888888888888,
             "#fdca26"
            ],
            [
             1,
             "#f0f921"
            ]
           ]
          },
          "colorway": [
           "#636efa",
           "#EF553B",
           "#00cc96",
           "#ab63fa",
           "#FFA15A",
           "#19d3f3",
           "#FF6692",
           "#B6E880",
           "#FF97FF",
           "#FECB52"
          ],
          "font": {
           "color": "#2a3f5f"
          },
          "geo": {
           "bgcolor": "white",
           "lakecolor": "white",
           "landcolor": "#E5ECF6",
           "showlakes": true,
           "showland": true,
           "subunitcolor": "white"
          },
          "hoverlabel": {
           "align": "left"
          },
          "hovermode": "closest",
          "mapbox": {
           "style": "light"
          },
          "paper_bgcolor": "white",
          "plot_bgcolor": "#E5ECF6",
          "polar": {
           "angularaxis": {
            "gridcolor": "white",
            "linecolor": "white",
            "ticks": ""
           },
           "bgcolor": "#E5ECF6",
           "radialaxis": {
            "gridcolor": "white",
            "linecolor": "white",
            "ticks": ""
           }
          },
          "scene": {
           "xaxis": {
            "backgroundcolor": "#E5ECF6",
            "gridcolor": "white",
            "gridwidth": 2,
            "linecolor": "white",
            "showbackground": true,
            "ticks": "",
            "zerolinecolor": "white"
           },
           "yaxis": {
            "backgroundcolor": "#E5ECF6",
            "gridcolor": "white",
            "gridwidth": 2,
            "linecolor": "white",
            "showbackground": true,
            "ticks": "",
            "zerolinecolor": "white"
           },
           "zaxis": {
            "backgroundcolor": "#E5ECF6",
            "gridcolor": "white",
            "gridwidth": 2,
            "linecolor": "white",
            "showbackground": true,
            "ticks": "",
            "zerolinecolor": "white"
           }
          },
          "shapedefaults": {
           "line": {
            "color": "#2a3f5f"
           }
          },
          "ternary": {
           "aaxis": {
            "gridcolor": "white",
            "linecolor": "white",
            "ticks": ""
           },
           "baxis": {
            "gridcolor": "white",
            "linecolor": "white",
            "ticks": ""
           },
           "bgcolor": "#E5ECF6",
           "caxis": {
            "gridcolor": "white",
            "linecolor": "white",
            "ticks": ""
           }
          },
          "title": {
           "x": 0.05
          },
          "xaxis": {
           "automargin": true,
           "gridcolor": "white",
           "linecolor": "white",
           "ticks": "",
           "title": {
            "standoff": 15
           },
           "zerolinecolor": "white",
           "zerolinewidth": 2
          },
          "yaxis": {
           "automargin": true,
           "gridcolor": "white",
           "linecolor": "white",
           "ticks": "",
           "title": {
            "standoff": 15
           },
           "zerolinecolor": "white",
           "zerolinewidth": 2
          }
         }
        },
        "title": {
         "text": "Genres popularity by the % of positive reviews"
        }
       }
      },
      "text/html": [
       "<div>                            <div id=\"99fcb86c-7348-4951-9724-c875ee687162\" class=\"plotly-graph-div\" style=\"height:525px; width:100%;\"></div>            <script type=\"text/javascript\">                require([\"plotly\"], function(Plotly) {                    window.PLOTLYENV=window.PLOTLYENV || {};                                    if (document.getElementById(\"99fcb86c-7348-4951-9724-c875ee687162\")) {                    Plotly.newPlot(                        \"99fcb86c-7348-4951-9724-c875ee687162\",                        [{\"domain\":{\"x\":[0.0,1.0],\"y\":[0.0,1.0]},\"hovertemplate\":\"genre_descript=%{label}<br>procent_positive=%{value}<extra></extra>\",\"labels\":[\"Adventure\",\"Indie\",\"Adventure\",\"Action\",\"RPG\",\"Action\",\"Casual\",\"Indie\",\"Strategy\",\"Casual\",\"Indie\",\"Adventure\",\"Simulation\",\"Action\",\"RPG\",\"Action\",\"Indie\",\"Adventure\",\"Simulation\",\"Action\",\"Adventure\",\"Massively Multiplayer\",\"Free to Play\",\"Action\",\"Casual\",\"Adventure\",\"Action\",\"Indie\",\"Free to Play\",\"Action\",\"Simulation\",\"Action\",\"Adventure\",\"Indie\",\"Adventure\",\"Simulation\",\"Action\",\"Strategy\",\"Indie\",\"Action\",\"Indie\",\"Simulation\",\"Early Access\",\"Indie\",\"Simulation\",\"Action\",\"Casual\",\"Adventure\",\"Massively Multiplayer\",\"Action\",\"Adventure\",\"Action\",\"Sports\",\"Action\",\"Adventure\",\"Casual\",\"Action\",\"Indie\",\"Adventure\",\"Action\",\"RPG\",\"Casual\",\"Indie\",\"Adventure\",\"Simulation\",\"Action\",\"Adventure\",\"Adventure\",\"RPG\",\"RPG\",\"Action\",\"Massively Multiplayer\",\"Action\",\"Strategy\",\"Casual\",\"Adventure\",\"Simulation\",\"Adventure\",\"Indie\",\"Adventure\",\"Action\",\"Indie\",\"Adventure\",\"Action\",\"Free to Play\",\"RPG\",\"Strategy\",\"RPG\",\"Simulation\",\"Action\",\"Strategy\",\"Indie\",\"Simulation\",\"Early Access\",\"Action\",\"Adventure\",\"Action\",\"Adventure\",\"Action\",\"Adventure\"],\"legendgroup\":\"\",\"name\":\"\",\"showlegend\":true,\"values\":[0.9320469798657718,0.9770025031289111,0.9770025031289111,0.7465615257656336,0.7465615257656336,0.7735530626427082,0.7735530626427082,0.7735530626427082,0.7544891148895598,0.7544891148895598,0.7544891148895598,0.7544891148895598,0.7544891148895598,0.9256698357821953,0.9256698357821953,0.979083885209713,0.979083885209713,0.979083885209713,0.979083885209713,0.5063139059304703,0.5063139059304703,0.5063139059304703,0.5063139059304703,0.9587618670886076,0.9587618670886076,0.9587618670886076,0.5791780172924316,0.5791780172924316,0.5791780172924316,0.7426437735367333,0.9245718050065876,0.8159932422919893,0.8159932422919893,0.9709553528564571,0.9709553528564571,0.9709553528564571,0.8634188777729448,0.8634188777729448,0.8634188777729448,0.9701999611725879,0.9701999611725879,0.9701999611725879,0.9701999611725879,0.6835703978561122,0.6835703978561122,0.8526050948736765,0.8526050948736765,0.8526050948736765,0.8526050948736765,0.9101840043723811,0.9101840043723811,0.822131395700878,0.822131395700878,0.7956138367623785,0.7956138367623785,0.7310725046477339,0.7155063291139241,0.7155063291139241,0.7155063291139241,0.9045996592844975,0.9045996592844975,0.952645209027007,0.952645209027007,0.952645209027007,0.952645209027007,0.9060087785681853,0.9060087785681853,0.941942687011537,0.7804787759131293,0.9528728619216932,0.6179688363355067,0.6179688363355067,0.898153547133139,0.898153547133139,0.898153547133139,0.898153547133139,0.898153547133139,0.8048327137546468,0.9386524822695036,0.9386524822695036,0.9762186531417301,0.9762186531417301,0.9762186531417301,0.8766280381499333,0.8766280381499333,0.9790319354623641,0.9365851420180792,0.9365851420180792,0.9365851420180792,0.9535796454188659,0.9535796454188659,0.9535796454188659,0.9535796454188659,0.9535796454188659,0.9083362399720962,0.9083362399720962,0.9133139456502899,0.9133139456502899,0.9110501305133525,0.9110501305133525],\"type\":\"pie\"}],                        {\"template\":{\"data\":{\"bar\":[{\"error_x\":{\"color\":\"#2a3f5f\"},\"error_y\":{\"color\":\"#2a3f5f\"},\"marker\":{\"line\":{\"color\":\"#E5ECF6\",\"width\":0.5},\"pattern\":{\"fillmode\":\"overlay\",\"size\":10,\"solidity\":0.2}},\"type\":\"bar\"}],\"barpolar\":[{\"marker\":{\"line\":{\"color\":\"#E5ECF6\",\"width\":0.5},\"pattern\":{\"fillmode\":\"overlay\",\"size\":10,\"solidity\":0.2}},\"type\":\"barpolar\"}],\"carpet\":[{\"aaxis\":{\"endlinecolor\":\"#2a3f5f\",\"gridcolor\":\"white\",\"linecolor\":\"white\",\"minorgridcolor\":\"white\",\"startlinecolor\":\"#2a3f5f\"},\"baxis\":{\"endlinecolor\":\"#2a3f5f\",\"gridcolor\":\"white\",\"linecolor\":\"white\",\"minorgridcolor\":\"white\",\"startlinecolor\":\"#2a3f5f\"},\"type\":\"carpet\"}],\"choropleth\":[{\"colorbar\":{\"outlinewidth\":0,\"ticks\":\"\"},\"type\":\"choropleth\"}],\"contour\":[{\"colorbar\":{\"outlinewidth\":0,\"ticks\":\"\"},\"colorscale\":[[0.0,\"#0d0887\"],[0.1111111111111111,\"#46039f\"],[0.2222222222222222,\"#7201a8\"],[0.3333333333333333,\"#9c179e\"],[0.4444444444444444,\"#bd3786\"],[0.5555555555555556,\"#d8576b\"],[0.6666666666666666,\"#ed7953\"],[0.7777777777777778,\"#fb9f3a\"],[0.8888888888888888,\"#fdca26\"],[1.0,\"#f0f921\"]],\"type\":\"contour\"}],\"contourcarpet\":[{\"colorbar\":{\"outlinewidth\":0,\"ticks\":\"\"},\"type\":\"contourcarpet\"}],\"heatmap\":[{\"colorbar\":{\"outlinewidth\":0,\"ticks\":\"\"},\"colorscale\":[[0.0,\"#0d0887\"],[0.1111111111111111,\"#46039f\"],[0.2222222222222222,\"#7201a8\"],[0.3333333333333333,\"#9c179e\"],[0.4444444444444444,\"#bd3786\"],[0.5555555555555556,\"#d8576b\"],[0.6666666666666666,\"#ed7953\"],[0.7777777777777778,\"#fb9f3a\"],[0.8888888888888888,\"#fdca26\"],[1.0,\"#f0f921\"]],\"type\":\"heatmap\"}],\"heatmapgl\":[{\"colorbar\":{\"outlinewidth\":0,\"ticks\":\"\"},\"colorscale\":[[0.0,\"#0d0887\"],[0.1111111111111111,\"#46039f\"],[0.2222222222222222,\"#7201a8\"],[0.3333333333333333,\"#9c179e\"],[0.4444444444444444,\"#bd3786\"],[0.5555555555555556,\"#d8576b\"],[0.6666666666666666,\"#ed7953\"],[0.7777777777777778,\"#fb9f3a\"],[0.8888888888888888,\"#fdca26\"],[1.0,\"#f0f921\"]],\"type\":\"heatmapgl\"}],\"histogram\":[{\"marker\":{\"pattern\":{\"fillmode\":\"overlay\",\"size\":10,\"solidity\":0.2}},\"type\":\"histogram\"}],\"histogram2d\":[{\"colorbar\":{\"outlinewidth\":0,\"ticks\":\"\"},\"colorscale\":[[0.0,\"#0d0887\"],[0.1111111111111111,\"#46039f\"],[0.2222222222222222,\"#7201a8\"],[0.3333333333333333,\"#9c179e\"],[0.4444444444444444,\"#bd3786\"],[0.5555555555555556,\"#d8576b\"],[0.6666666666666666,\"#ed7953\"],[0.7777777777777778,\"#fb9f3a\"],[0.8888888888888888,\"#fdca26\"],[1.0,\"#f0f921\"]],\"type\":\"histogram2d\"}],\"histogram2dcontour\":[{\"colorbar\":{\"outlinewidth\":0,\"ticks\":\"\"},\"colorscale\":[[0.0,\"#0d0887\"],[0.1111111111111111,\"#46039f\"],[0.2222222222222222,\"#7201a8\"],[0.3333333333333333,\"#9c179e\"],[0.4444444444444444,\"#bd3786\"],[0.5555555555555556,\"#d8576b\"],[0.6666666666666666,\"#ed7953\"],[0.7777777777777778,\"#fb9f3a\"],[0.8888888888888888,\"#fdca26\"],[1.0,\"#f0f921\"]],\"type\":\"histogram2dcontour\"}],\"mesh3d\":[{\"colorbar\":{\"outlinewidth\":0,\"ticks\":\"\"},\"type\":\"mesh3d\"}],\"parcoords\":[{\"line\":{\"colorbar\":{\"outlinewidth\":0,\"ticks\":\"\"}},\"type\":\"parcoords\"}],\"pie\":[{\"automargin\":true,\"type\":\"pie\"}],\"scatter\":[{\"marker\":{\"colorbar\":{\"outlinewidth\":0,\"ticks\":\"\"}},\"type\":\"scatter\"}],\"scatter3d\":[{\"line\":{\"colorbar\":{\"outlinewidth\":0,\"ticks\":\"\"}},\"marker\":{\"colorbar\":{\"outlinewidth\":0,\"ticks\":\"\"}},\"type\":\"scatter3d\"}],\"scattercarpet\":[{\"marker\":{\"colorbar\":{\"outlinewidth\":0,\"ticks\":\"\"}},\"type\":\"scattercarpet\"}],\"scattergeo\":[{\"marker\":{\"colorbar\":{\"outlinewidth\":0,\"ticks\":\"\"}},\"type\":\"scattergeo\"}],\"scattergl\":[{\"marker\":{\"colorbar\":{\"outlinewidth\":0,\"ticks\":\"\"}},\"type\":\"scattergl\"}],\"scattermapbox\":[{\"marker\":{\"colorbar\":{\"outlinewidth\":0,\"ticks\":\"\"}},\"type\":\"scattermapbox\"}],\"scatterpolar\":[{\"marker\":{\"colorbar\":{\"outlinewidth\":0,\"ticks\":\"\"}},\"type\":\"scatterpolar\"}],\"scatterpolargl\":[{\"marker\":{\"colorbar\":{\"outlinewidth\":0,\"ticks\":\"\"}},\"type\":\"scatterpolargl\"}],\"scatterternary\":[{\"marker\":{\"colorbar\":{\"outlinewidth\":0,\"ticks\":\"\"}},\"type\":\"scatterternary\"}],\"surface\":[{\"colorbar\":{\"outlinewidth\":0,\"ticks\":\"\"},\"colorscale\":[[0.0,\"#0d0887\"],[0.1111111111111111,\"#46039f\"],[0.2222222222222222,\"#7201a8\"],[0.3333333333333333,\"#9c179e\"],[0.4444444444444444,\"#bd3786\"],[0.5555555555555556,\"#d8576b\"],[0.6666666666666666,\"#ed7953\"],[0.7777777777777778,\"#fb9f3a\"],[0.8888888888888888,\"#fdca26\"],[1.0,\"#f0f921\"]],\"type\":\"surface\"}],\"table\":[{\"cells\":{\"fill\":{\"color\":\"#EBF0F8\"},\"line\":{\"color\":\"white\"}},\"header\":{\"fill\":{\"color\":\"#C8D4E3\"},\"line\":{\"color\":\"white\"}},\"type\":\"table\"}]},\"layout\":{\"annotationdefaults\":{\"arrowcolor\":\"#2a3f5f\",\"arrowhead\":0,\"arrowwidth\":1},\"autotypenumbers\":\"strict\",\"coloraxis\":{\"colorbar\":{\"outlinewidth\":0,\"ticks\":\"\"}},\"colorscale\":{\"diverging\":[[0,\"#8e0152\"],[0.1,\"#c51b7d\"],[0.2,\"#de77ae\"],[0.3,\"#f1b6da\"],[0.4,\"#fde0ef\"],[0.5,\"#f7f7f7\"],[0.6,\"#e6f5d0\"],[0.7,\"#b8e186\"],[0.8,\"#7fbc41\"],[0.9,\"#4d9221\"],[1,\"#276419\"]],\"sequential\":[[0.0,\"#0d0887\"],[0.1111111111111111,\"#46039f\"],[0.2222222222222222,\"#7201a8\"],[0.3333333333333333,\"#9c179e\"],[0.4444444444444444,\"#bd3786\"],[0.5555555555555556,\"#d8576b\"],[0.6666666666666666,\"#ed7953\"],[0.7777777777777778,\"#fb9f3a\"],[0.8888888888888888,\"#fdca26\"],[1.0,\"#f0f921\"]],\"sequentialminus\":[[0.0,\"#0d0887\"],[0.1111111111111111,\"#46039f\"],[0.2222222222222222,\"#7201a8\"],[0.3333333333333333,\"#9c179e\"],[0.4444444444444444,\"#bd3786\"],[0.5555555555555556,\"#d8576b\"],[0.6666666666666666,\"#ed7953\"],[0.7777777777777778,\"#fb9f3a\"],[0.8888888888888888,\"#fdca26\"],[1.0,\"#f0f921\"]]},\"colorway\":[\"#636efa\",\"#EF553B\",\"#00cc96\",\"#ab63fa\",\"#FFA15A\",\"#19d3f3\",\"#FF6692\",\"#B6E880\",\"#FF97FF\",\"#FECB52\"],\"font\":{\"color\":\"#2a3f5f\"},\"geo\":{\"bgcolor\":\"white\",\"lakecolor\":\"white\",\"landcolor\":\"#E5ECF6\",\"showlakes\":true,\"showland\":true,\"subunitcolor\":\"white\"},\"hoverlabel\":{\"align\":\"left\"},\"hovermode\":\"closest\",\"mapbox\":{\"style\":\"light\"},\"paper_bgcolor\":\"white\",\"plot_bgcolor\":\"#E5ECF6\",\"polar\":{\"angularaxis\":{\"gridcolor\":\"white\",\"linecolor\":\"white\",\"ticks\":\"\"},\"bgcolor\":\"#E5ECF6\",\"radialaxis\":{\"gridcolor\":\"white\",\"linecolor\":\"white\",\"ticks\":\"\"}},\"scene\":{\"xaxis\":{\"backgroundcolor\":\"#E5ECF6\",\"gridcolor\":\"white\",\"gridwidth\":2,\"linecolor\":\"white\",\"showbackground\":true,\"ticks\":\"\",\"zerolinecolor\":\"white\"},\"yaxis\":{\"backgroundcolor\":\"#E5ECF6\",\"gridcolor\":\"white\",\"gridwidth\":2,\"linecolor\":\"white\",\"showbackground\":true,\"ticks\":\"\",\"zerolinecolor\":\"white\"},\"zaxis\":{\"backgroundcolor\":\"#E5ECF6\",\"gridcolor\":\"white\",\"gridwidth\":2,\"linecolor\":\"white\",\"showbackground\":true,\"ticks\":\"\",\"zerolinecolor\":\"white\"}},\"shapedefaults\":{\"line\":{\"color\":\"#2a3f5f\"}},\"ternary\":{\"aaxis\":{\"gridcolor\":\"white\",\"linecolor\":\"white\",\"ticks\":\"\"},\"baxis\":{\"gridcolor\":\"white\",\"linecolor\":\"white\",\"ticks\":\"\"},\"bgcolor\":\"#E5ECF6\",\"caxis\":{\"gridcolor\":\"white\",\"linecolor\":\"white\",\"ticks\":\"\"}},\"title\":{\"x\":0.05},\"xaxis\":{\"automargin\":true,\"gridcolor\":\"white\",\"linecolor\":\"white\",\"ticks\":\"\",\"title\":{\"standoff\":15},\"zerolinecolor\":\"white\",\"zerolinewidth\":2},\"yaxis\":{\"automargin\":true,\"gridcolor\":\"white\",\"linecolor\":\"white\",\"ticks\":\"\",\"title\":{\"standoff\":15},\"zerolinecolor\":\"white\",\"zerolinewidth\":2}}},\"legend\":{\"tracegroupgap\":0},\"title\":{\"text\":\"Genres popularity by the % of positive reviews\"}},                        {\"responsive\": true}                    ).then(function(){\n",
       "                            \n",
       "var gd = document.getElementById('99fcb86c-7348-4951-9724-c875ee687162');\n",
       "var x = new MutationObserver(function (mutations, observer) {{\n",
       "        var display = window.getComputedStyle(gd).display;\n",
       "        if (!display || display === 'none') {{\n",
       "            console.log([gd, 'removed!']);\n",
       "            Plotly.purge(gd);\n",
       "            observer.disconnect();\n",
       "        }}\n",
       "}});\n",
       "\n",
       "// Listen for the removal of the full notebook cells\n",
       "var notebookContainer = gd.closest('#notebook-container');\n",
       "if (notebookContainer) {{\n",
       "    x.observe(notebookContainer, {childList: true});\n",
       "}}\n",
       "\n",
       "// Listen for the clearing of the current output cell\n",
       "var outputEl = gd.closest('.output');\n",
       "if (outputEl) {{\n",
       "    x.observe(outputEl, {childList: true});\n",
       "}}\n",
       "\n",
       "                        })                };                });            </script>        </div>"
      ]
     },
     "metadata": {},
     "output_type": "display_data"
    }
   ],
   "source": [
    "fig = px.pie(df_genres, values='procent_positive', names='genre_descript', title='Genres popularity by the % of positive reviews')\n",
    "fig.show()"
   ]
  },
  {
   "cell_type": "code",
   "execution_count": 127,
   "id": "99bcd381",
   "metadata": {},
   "outputs": [
    {
     "name": "stderr",
     "output_type": "stream",
     "text": [
      "C:\\Users\\kasia\\AppData\\Local\\Temp/ipykernel_8276/1401218106.py:1: SettingWithCopyWarning:\n",
      "\n",
      "\n",
      "A value is trying to be set on a copy of a slice from a DataFrame.\n",
      "Try using .loc[row_indexer,col_indexer] = value instead\n",
      "\n",
      "See the caveats in the documentation: https://pandas.pydata.org/pandas-docs/stable/user_guide/indexing.html#returning-a-view-versus-a-copy\n",
      "\n"
     ]
    }
   ],
   "source": [
    "df_genres['genre_descript_2'] = df_genres.genre_descript.apply(lambda x: x if x in ['Action', 'Adventure','Indie', 'Simulation'] else 'Other')"
   ]
  },
  {
   "cell_type": "code",
   "execution_count": 128,
   "id": "c371162f",
   "metadata": {},
   "outputs": [
    {
     "data": {
      "application/vnd.plotly.v1+json": {
       "config": {
        "plotlyServerURL": "https://plot.ly"
       },
       "data": [
        {
         "domain": {
          "x": [
           0,
           1
          ],
          "y": [
           0,
           1
          ]
         },
         "hovertemplate": "genre_descript_2=%{label}<br>procent_positive=%{value}<extra></extra>",
         "labels": [
          "Adventure",
          "Indie",
          "Adventure",
          "Action",
          "Other",
          "Action",
          "Other",
          "Indie",
          "Other",
          "Other",
          "Indie",
          "Adventure",
          "Simulation",
          "Action",
          "Other",
          "Action",
          "Indie",
          "Adventure",
          "Simulation",
          "Action",
          "Adventure",
          "Other",
          "Other",
          "Action",
          "Other",
          "Adventure",
          "Action",
          "Indie",
          "Other",
          "Action",
          "Simulation",
          "Action",
          "Adventure",
          "Indie",
          "Adventure",
          "Simulation",
          "Action",
          "Other",
          "Indie",
          "Action",
          "Indie",
          "Simulation",
          "Other",
          "Indie",
          "Simulation",
          "Action",
          "Other",
          "Adventure",
          "Other",
          "Action",
          "Adventure",
          "Action",
          "Other",
          "Action",
          "Adventure",
          "Other",
          "Action",
          "Indie",
          "Adventure",
          "Action",
          "Other",
          "Other",
          "Indie",
          "Adventure",
          "Simulation",
          "Action",
          "Adventure",
          "Adventure",
          "Other",
          "Other",
          "Action",
          "Other",
          "Action",
          "Other",
          "Other",
          "Adventure",
          "Simulation",
          "Adventure",
          "Indie",
          "Adventure",
          "Action",
          "Indie",
          "Adventure",
          "Action",
          "Other",
          "Other",
          "Other",
          "Other",
          "Simulation",
          "Action",
          "Other",
          "Indie",
          "Simulation",
          "Other",
          "Action",
          "Adventure",
          "Action",
          "Adventure",
          "Action",
          "Adventure"
         ],
         "legendgroup": "",
         "name": "",
         "showlegend": true,
         "type": "pie",
         "values": [
          0.9320469798657718,
          0.9770025031289111,
          0.9770025031289111,
          0.7465615257656336,
          0.7465615257656336,
          0.7735530626427082,
          0.7735530626427082,
          0.7735530626427082,
          0.7544891148895598,
          0.7544891148895598,
          0.7544891148895598,
          0.7544891148895598,
          0.7544891148895598,
          0.9256698357821953,
          0.9256698357821953,
          0.979083885209713,
          0.979083885209713,
          0.979083885209713,
          0.979083885209713,
          0.5063139059304703,
          0.5063139059304703,
          0.5063139059304703,
          0.5063139059304703,
          0.9587618670886076,
          0.9587618670886076,
          0.9587618670886076,
          0.5791780172924316,
          0.5791780172924316,
          0.5791780172924316,
          0.7426437735367333,
          0.9245718050065876,
          0.8159932422919893,
          0.8159932422919893,
          0.9709553528564571,
          0.9709553528564571,
          0.9709553528564571,
          0.8634188777729448,
          0.8634188777729448,
          0.8634188777729448,
          0.9701999611725879,
          0.9701999611725879,
          0.9701999611725879,
          0.9701999611725879,
          0.6835703978561122,
          0.6835703978561122,
          0.8526050948736765,
          0.8526050948736765,
          0.8526050948736765,
          0.8526050948736765,
          0.9101840043723811,
          0.9101840043723811,
          0.822131395700878,
          0.822131395700878,
          0.7956138367623785,
          0.7956138367623785,
          0.7310725046477339,
          0.7155063291139241,
          0.7155063291139241,
          0.7155063291139241,
          0.9045996592844975,
          0.9045996592844975,
          0.952645209027007,
          0.952645209027007,
          0.952645209027007,
          0.952645209027007,
          0.9060087785681853,
          0.9060087785681853,
          0.941942687011537,
          0.7804787759131293,
          0.9528728619216932,
          0.6179688363355067,
          0.6179688363355067,
          0.898153547133139,
          0.898153547133139,
          0.898153547133139,
          0.898153547133139,
          0.898153547133139,
          0.8048327137546468,
          0.9386524822695036,
          0.9386524822695036,
          0.9762186531417301,
          0.9762186531417301,
          0.9762186531417301,
          0.8766280381499333,
          0.8766280381499333,
          0.9790319354623641,
          0.9365851420180792,
          0.9365851420180792,
          0.9365851420180792,
          0.9535796454188659,
          0.9535796454188659,
          0.9535796454188659,
          0.9535796454188659,
          0.9535796454188659,
          0.9083362399720962,
          0.9083362399720962,
          0.9133139456502899,
          0.9133139456502899,
          0.9110501305133525,
          0.9110501305133525
         ]
        }
       ],
       "layout": {
        "legend": {
         "tracegroupgap": 0
        },
        "template": {
         "data": {
          "bar": [
           {
            "error_x": {
             "color": "rgb(36,36,36)"
            },
            "error_y": {
             "color": "rgb(36,36,36)"
            },
            "marker": {
             "line": {
              "color": "rgb(234,234,242)",
              "width": 0.5
             },
             "pattern": {
              "fillmode": "overlay",
              "size": 10,
              "solidity": 0.2
             }
            },
            "type": "bar"
           }
          ],
          "barpolar": [
           {
            "marker": {
             "line": {
              "color": "rgb(234,234,242)",
              "width": 0.5
             },
             "pattern": {
              "fillmode": "overlay",
              "size": 10,
              "solidity": 0.2
             }
            },
            "type": "barpolar"
           }
          ],
          "carpet": [
           {
            "aaxis": {
             "endlinecolor": "rgb(36,36,36)",
             "gridcolor": "white",
             "linecolor": "white",
             "minorgridcolor": "white",
             "startlinecolor": "rgb(36,36,36)"
            },
            "baxis": {
             "endlinecolor": "rgb(36,36,36)",
             "gridcolor": "white",
             "linecolor": "white",
             "minorgridcolor": "white",
             "startlinecolor": "rgb(36,36,36)"
            },
            "type": "carpet"
           }
          ],
          "choropleth": [
           {
            "colorbar": {
             "outlinewidth": 0,
             "tickcolor": "rgb(36,36,36)",
             "ticklen": 8,
             "ticks": "outside",
             "tickwidth": 2
            },
            "type": "choropleth"
           }
          ],
          "contour": [
           {
            "colorbar": {
             "outlinewidth": 0,
             "tickcolor": "rgb(36,36,36)",
             "ticklen": 8,
             "ticks": "outside",
             "tickwidth": 2
            },
            "colorscale": [
             [
              0,
              "rgb(2,4,25)"
             ],
             [
              0.06274509803921569,
              "rgb(24,15,41)"
             ],
             [
              0.12549019607843137,
              "rgb(47,23,57)"
             ],
             [
              0.18823529411764706,
              "rgb(71,28,72)"
             ],
             [
              0.25098039215686274,
              "rgb(97,30,82)"
             ],
             [
              0.3137254901960784,
              "rgb(123,30,89)"
             ],
             [
              0.3764705882352941,
              "rgb(150,27,91)"
             ],
             [
              0.4392156862745098,
              "rgb(177,22,88)"
             ],
             [
              0.5019607843137255,
              "rgb(203,26,79)"
             ],
             [
              0.5647058823529412,
              "rgb(223,47,67)"
             ],
             [
              0.6274509803921569,
              "rgb(236,76,61)"
             ],
             [
              0.6901960784313725,
              "rgb(242,107,73)"
             ],
             [
              0.7529411764705882,
              "rgb(244,135,95)"
             ],
             [
              0.8156862745098039,
              "rgb(245,162,122)"
             ],
             [
              0.8784313725490196,
              "rgb(246,188,153)"
             ],
             [
              0.9411764705882353,
              "rgb(247,212,187)"
             ],
             [
              1,
              "rgb(250,234,220)"
             ]
            ],
            "type": "contour"
           }
          ],
          "contourcarpet": [
           {
            "colorbar": {
             "outlinewidth": 0,
             "tickcolor": "rgb(36,36,36)",
             "ticklen": 8,
             "ticks": "outside",
             "tickwidth": 2
            },
            "type": "contourcarpet"
           }
          ],
          "heatmap": [
           {
            "colorbar": {
             "outlinewidth": 0,
             "tickcolor": "rgb(36,36,36)",
             "ticklen": 8,
             "ticks": "outside",
             "tickwidth": 2
            },
            "colorscale": [
             [
              0,
              "rgb(2,4,25)"
             ],
             [
              0.06274509803921569,
              "rgb(24,15,41)"
             ],
             [
              0.12549019607843137,
              "rgb(47,23,57)"
             ],
             [
              0.18823529411764706,
              "rgb(71,28,72)"
             ],
             [
              0.25098039215686274,
              "rgb(97,30,82)"
             ],
             [
              0.3137254901960784,
              "rgb(123,30,89)"
             ],
             [
              0.3764705882352941,
              "rgb(150,27,91)"
             ],
             [
              0.4392156862745098,
              "rgb(177,22,88)"
             ],
             [
              0.5019607843137255,
              "rgb(203,26,79)"
             ],
             [
              0.5647058823529412,
              "rgb(223,47,67)"
             ],
             [
              0.6274509803921569,
              "rgb(236,76,61)"
             ],
             [
              0.6901960784313725,
              "rgb(242,107,73)"
             ],
             [
              0.7529411764705882,
              "rgb(244,135,95)"
             ],
             [
              0.8156862745098039,
              "rgb(245,162,122)"
             ],
             [
              0.8784313725490196,
              "rgb(246,188,153)"
             ],
             [
              0.9411764705882353,
              "rgb(247,212,187)"
             ],
             [
              1,
              "rgb(250,234,220)"
             ]
            ],
            "type": "heatmap"
           }
          ],
          "heatmapgl": [
           {
            "colorbar": {
             "outlinewidth": 0,
             "tickcolor": "rgb(36,36,36)",
             "ticklen": 8,
             "ticks": "outside",
             "tickwidth": 2
            },
            "colorscale": [
             [
              0,
              "rgb(2,4,25)"
             ],
             [
              0.06274509803921569,
              "rgb(24,15,41)"
             ],
             [
              0.12549019607843137,
              "rgb(47,23,57)"
             ],
             [
              0.18823529411764706,
              "rgb(71,28,72)"
             ],
             [
              0.25098039215686274,
              "rgb(97,30,82)"
             ],
             [
              0.3137254901960784,
              "rgb(123,30,89)"
             ],
             [
              0.3764705882352941,
              "rgb(150,27,91)"
             ],
             [
              0.4392156862745098,
              "rgb(177,22,88)"
             ],
             [
              0.5019607843137255,
              "rgb(203,26,79)"
             ],
             [
              0.5647058823529412,
              "rgb(223,47,67)"
             ],
             [
              0.6274509803921569,
              "rgb(236,76,61)"
             ],
             [
              0.6901960784313725,
              "rgb(242,107,73)"
             ],
             [
              0.7529411764705882,
              "rgb(244,135,95)"
             ],
             [
              0.8156862745098039,
              "rgb(245,162,122)"
             ],
             [
              0.8784313725490196,
              "rgb(246,188,153)"
             ],
             [
              0.9411764705882353,
              "rgb(247,212,187)"
             ],
             [
              1,
              "rgb(250,234,220)"
             ]
            ],
            "type": "heatmapgl"
           }
          ],
          "histogram": [
           {
            "marker": {
             "pattern": {
              "fillmode": "overlay",
              "size": 10,
              "solidity": 0.2
             }
            },
            "type": "histogram"
           }
          ],
          "histogram2d": [
           {
            "colorbar": {
             "outlinewidth": 0,
             "tickcolor": "rgb(36,36,36)",
             "ticklen": 8,
             "ticks": "outside",
             "tickwidth": 2
            },
            "colorscale": [
             [
              0,
              "rgb(2,4,25)"
             ],
             [
              0.06274509803921569,
              "rgb(24,15,41)"
             ],
             [
              0.12549019607843137,
              "rgb(47,23,57)"
             ],
             [
              0.18823529411764706,
              "rgb(71,28,72)"
             ],
             [
              0.25098039215686274,
              "rgb(97,30,82)"
             ],
             [
              0.3137254901960784,
              "rgb(123,30,89)"
             ],
             [
              0.3764705882352941,
              "rgb(150,27,91)"
             ],
             [
              0.4392156862745098,
              "rgb(177,22,88)"
             ],
             [
              0.5019607843137255,
              "rgb(203,26,79)"
             ],
             [
              0.5647058823529412,
              "rgb(223,47,67)"
             ],
             [
              0.6274509803921569,
              "rgb(236,76,61)"
             ],
             [
              0.6901960784313725,
              "rgb(242,107,73)"
             ],
             [
              0.7529411764705882,
              "rgb(244,135,95)"
             ],
             [
              0.8156862745098039,
              "rgb(245,162,122)"
             ],
             [
              0.8784313725490196,
              "rgb(246,188,153)"
             ],
             [
              0.9411764705882353,
              "rgb(247,212,187)"
             ],
             [
              1,
              "rgb(250,234,220)"
             ]
            ],
            "type": "histogram2d"
           }
          ],
          "histogram2dcontour": [
           {
            "colorbar": {
             "outlinewidth": 0,
             "tickcolor": "rgb(36,36,36)",
             "ticklen": 8,
             "ticks": "outside",
             "tickwidth": 2
            },
            "colorscale": [
             [
              0,
              "rgb(2,4,25)"
             ],
             [
              0.06274509803921569,
              "rgb(24,15,41)"
             ],
             [
              0.12549019607843137,
              "rgb(47,23,57)"
             ],
             [
              0.18823529411764706,
              "rgb(71,28,72)"
             ],
             [
              0.25098039215686274,
              "rgb(97,30,82)"
             ],
             [
              0.3137254901960784,
              "rgb(123,30,89)"
             ],
             [
              0.3764705882352941,
              "rgb(150,27,91)"
             ],
             [
              0.4392156862745098,
              "rgb(177,22,88)"
             ],
             [
              0.5019607843137255,
              "rgb(203,26,79)"
             ],
             [
              0.5647058823529412,
              "rgb(223,47,67)"
             ],
             [
              0.6274509803921569,
              "rgb(236,76,61)"
             ],
             [
              0.6901960784313725,
              "rgb(242,107,73)"
             ],
             [
              0.7529411764705882,
              "rgb(244,135,95)"
             ],
             [
              0.8156862745098039,
              "rgb(245,162,122)"
             ],
             [
              0.8784313725490196,
              "rgb(246,188,153)"
             ],
             [
              0.9411764705882353,
              "rgb(247,212,187)"
             ],
             [
              1,
              "rgb(250,234,220)"
             ]
            ],
            "type": "histogram2dcontour"
           }
          ],
          "mesh3d": [
           {
            "colorbar": {
             "outlinewidth": 0,
             "tickcolor": "rgb(36,36,36)",
             "ticklen": 8,
             "ticks": "outside",
             "tickwidth": 2
            },
            "type": "mesh3d"
           }
          ],
          "parcoords": [
           {
            "line": {
             "colorbar": {
              "outlinewidth": 0,
              "tickcolor": "rgb(36,36,36)",
              "ticklen": 8,
              "ticks": "outside",
              "tickwidth": 2
             }
            },
            "type": "parcoords"
           }
          ],
          "pie": [
           {
            "automargin": true,
            "type": "pie"
           }
          ],
          "scatter": [
           {
            "marker": {
             "colorbar": {
              "outlinewidth": 0,
              "tickcolor": "rgb(36,36,36)",
              "ticklen": 8,
              "ticks": "outside",
              "tickwidth": 2
             }
            },
            "type": "scatter"
           }
          ],
          "scatter3d": [
           {
            "line": {
             "colorbar": {
              "outlinewidth": 0,
              "tickcolor": "rgb(36,36,36)",
              "ticklen": 8,
              "ticks": "outside",
              "tickwidth": 2
             }
            },
            "marker": {
             "colorbar": {
              "outlinewidth": 0,
              "tickcolor": "rgb(36,36,36)",
              "ticklen": 8,
              "ticks": "outside",
              "tickwidth": 2
             }
            },
            "type": "scatter3d"
           }
          ],
          "scattercarpet": [
           {
            "marker": {
             "colorbar": {
              "outlinewidth": 0,
              "tickcolor": "rgb(36,36,36)",
              "ticklen": 8,
              "ticks": "outside",
              "tickwidth": 2
             }
            },
            "type": "scattercarpet"
           }
          ],
          "scattergeo": [
           {
            "marker": {
             "colorbar": {
              "outlinewidth": 0,
              "tickcolor": "rgb(36,36,36)",
              "ticklen": 8,
              "ticks": "outside",
              "tickwidth": 2
             }
            },
            "type": "scattergeo"
           }
          ],
          "scattergl": [
           {
            "marker": {
             "colorbar": {
              "outlinewidth": 0,
              "tickcolor": "rgb(36,36,36)",
              "ticklen": 8,
              "ticks": "outside",
              "tickwidth": 2
             }
            },
            "type": "scattergl"
           }
          ],
          "scattermapbox": [
           {
            "marker": {
             "colorbar": {
              "outlinewidth": 0,
              "tickcolor": "rgb(36,36,36)",
              "ticklen": 8,
              "ticks": "outside",
              "tickwidth": 2
             }
            },
            "type": "scattermapbox"
           }
          ],
          "scatterpolar": [
           {
            "marker": {
             "colorbar": {
              "outlinewidth": 0,
              "tickcolor": "rgb(36,36,36)",
              "ticklen": 8,
              "ticks": "outside",
              "tickwidth": 2
             }
            },
            "type": "scatterpolar"
           }
          ],
          "scatterpolargl": [
           {
            "marker": {
             "colorbar": {
              "outlinewidth": 0,
              "tickcolor": "rgb(36,36,36)",
              "ticklen": 8,
              "ticks": "outside",
              "tickwidth": 2
             }
            },
            "type": "scatterpolargl"
           }
          ],
          "scatterternary": [
           {
            "marker": {
             "colorbar": {
              "outlinewidth": 0,
              "tickcolor": "rgb(36,36,36)",
              "ticklen": 8,
              "ticks": "outside",
              "tickwidth": 2
             }
            },
            "type": "scatterternary"
           }
          ],
          "surface": [
           {
            "colorbar": {
             "outlinewidth": 0,
             "tickcolor": "rgb(36,36,36)",
             "ticklen": 8,
             "ticks": "outside",
             "tickwidth": 2
            },
            "colorscale": [
             [
              0,
              "rgb(2,4,25)"
             ],
             [
              0.06274509803921569,
              "rgb(24,15,41)"
             ],
             [
              0.12549019607843137,
              "rgb(47,23,57)"
             ],
             [
              0.18823529411764706,
              "rgb(71,28,72)"
             ],
             [
              0.25098039215686274,
              "rgb(97,30,82)"
             ],
             [
              0.3137254901960784,
              "rgb(123,30,89)"
             ],
             [
              0.3764705882352941,
              "rgb(150,27,91)"
             ],
             [
              0.4392156862745098,
              "rgb(177,22,88)"
             ],
             [
              0.5019607843137255,
              "rgb(203,26,79)"
             ],
             [
              0.5647058823529412,
              "rgb(223,47,67)"
             ],
             [
              0.6274509803921569,
              "rgb(236,76,61)"
             ],
             [
              0.6901960784313725,
              "rgb(242,107,73)"
             ],
             [
              0.7529411764705882,
              "rgb(244,135,95)"
             ],
             [
              0.8156862745098039,
              "rgb(245,162,122)"
             ],
             [
              0.8784313725490196,
              "rgb(246,188,153)"
             ],
             [
              0.9411764705882353,
              "rgb(247,212,187)"
             ],
             [
              1,
              "rgb(250,234,220)"
             ]
            ],
            "type": "surface"
           }
          ],
          "table": [
           {
            "cells": {
             "fill": {
              "color": "rgb(231,231,240)"
             },
             "line": {
              "color": "white"
             }
            },
            "header": {
             "fill": {
              "color": "rgb(183,183,191)"
             },
             "line": {
              "color": "white"
             }
            },
            "type": "table"
           }
          ]
         },
         "layout": {
          "annotationdefaults": {
           "arrowcolor": "rgb(67,103,167)"
          },
          "autotypenumbers": "strict",
          "coloraxis": {
           "colorbar": {
            "outlinewidth": 0,
            "tickcolor": "rgb(36,36,36)",
            "ticklen": 8,
            "ticks": "outside",
            "tickwidth": 2
           }
          },
          "colorscale": {
           "sequential": [
            [
             0,
             "rgb(2,4,25)"
            ],
            [
             0.06274509803921569,
             "rgb(24,15,41)"
            ],
            [
             0.12549019607843137,
             "rgb(47,23,57)"
            ],
            [
             0.18823529411764706,
             "rgb(71,28,72)"
            ],
            [
             0.25098039215686274,
             "rgb(97,30,82)"
            ],
            [
             0.3137254901960784,
             "rgb(123,30,89)"
            ],
            [
             0.3764705882352941,
             "rgb(150,27,91)"
            ],
            [
             0.4392156862745098,
             "rgb(177,22,88)"
            ],
            [
             0.5019607843137255,
             "rgb(203,26,79)"
            ],
            [
             0.5647058823529412,
             "rgb(223,47,67)"
            ],
            [
             0.6274509803921569,
             "rgb(236,76,61)"
            ],
            [
             0.6901960784313725,
             "rgb(242,107,73)"
            ],
            [
             0.7529411764705882,
             "rgb(244,135,95)"
            ],
            [
             0.8156862745098039,
             "rgb(245,162,122)"
            ],
            [
             0.8784313725490196,
             "rgb(246,188,153)"
            ],
            [
             0.9411764705882353,
             "rgb(247,212,187)"
            ],
            [
             1,
             "rgb(250,234,220)"
            ]
           ],
           "sequentialminus": [
            [
             0,
             "rgb(2,4,25)"
            ],
            [
             0.06274509803921569,
             "rgb(24,15,41)"
            ],
            [
             0.12549019607843137,
             "rgb(47,23,57)"
            ],
            [
             0.18823529411764706,
             "rgb(71,28,72)"
            ],
            [
             0.25098039215686274,
             "rgb(97,30,82)"
            ],
            [
             0.3137254901960784,
             "rgb(123,30,89)"
            ],
            [
             0.3764705882352941,
             "rgb(150,27,91)"
            ],
            [
             0.4392156862745098,
             "rgb(177,22,88)"
            ],
            [
             0.5019607843137255,
             "rgb(203,26,79)"
            ],
            [
             0.5647058823529412,
             "rgb(223,47,67)"
            ],
            [
             0.6274509803921569,
             "rgb(236,76,61)"
            ],
            [
             0.6901960784313725,
             "rgb(242,107,73)"
            ],
            [
             0.7529411764705882,
             "rgb(244,135,95)"
            ],
            [
             0.8156862745098039,
             "rgb(245,162,122)"
            ],
            [
             0.8784313725490196,
             "rgb(246,188,153)"
            ],
            [
             0.9411764705882353,
             "rgb(247,212,187)"
            ],
            [
             1,
             "rgb(250,234,220)"
            ]
           ]
          },
          "colorway": [
           "rgb(76,114,176)",
           "rgb(221,132,82)",
           "rgb(85,168,104)",
           "rgb(196,78,82)",
           "rgb(129,114,179)",
           "rgb(147,120,96)",
           "rgb(218,139,195)",
           "rgb(140,140,140)",
           "rgb(204,185,116)",
           "rgb(100,181,205)"
          ],
          "font": {
           "color": "rgb(36,36,36)"
          },
          "geo": {
           "bgcolor": "white",
           "lakecolor": "white",
           "landcolor": "rgb(234,234,242)",
           "showlakes": true,
           "showland": true,
           "subunitcolor": "white"
          },
          "hoverlabel": {
           "align": "left"
          },
          "hovermode": "closest",
          "paper_bgcolor": "white",
          "plot_bgcolor": "rgb(234,234,242)",
          "polar": {
           "angularaxis": {
            "gridcolor": "white",
            "linecolor": "white",
            "showgrid": true,
            "ticks": ""
           },
           "bgcolor": "rgb(234,234,242)",
           "radialaxis": {
            "gridcolor": "white",
            "linecolor": "white",
            "showgrid": true,
            "ticks": ""
           }
          },
          "scene": {
           "xaxis": {
            "backgroundcolor": "rgb(234,234,242)",
            "gridcolor": "white",
            "gridwidth": 2,
            "linecolor": "white",
            "showbackground": true,
            "showgrid": true,
            "ticks": "",
            "zerolinecolor": "white"
           },
           "yaxis": {
            "backgroundcolor": "rgb(234,234,242)",
            "gridcolor": "white",
            "gridwidth": 2,
            "linecolor": "white",
            "showbackground": true,
            "showgrid": true,
            "ticks": "",
            "zerolinecolor": "white"
           },
           "zaxis": {
            "backgroundcolor": "rgb(234,234,242)",
            "gridcolor": "white",
            "gridwidth": 2,
            "linecolor": "white",
            "showbackground": true,
            "showgrid": true,
            "ticks": "",
            "zerolinecolor": "white"
           }
          },
          "shapedefaults": {
           "fillcolor": "rgb(67,103,167)",
           "line": {
            "width": 0
           },
           "opacity": 0.5
          },
          "ternary": {
           "aaxis": {
            "gridcolor": "white",
            "linecolor": "white",
            "showgrid": true,
            "ticks": ""
           },
           "baxis": {
            "gridcolor": "white",
            "linecolor": "white",
            "showgrid": true,
            "ticks": ""
           },
           "bgcolor": "rgb(234,234,242)",
           "caxis": {
            "gridcolor": "white",
            "linecolor": "white",
            "showgrid": true,
            "ticks": ""
           }
          },
          "xaxis": {
           "automargin": true,
           "gridcolor": "white",
           "linecolor": "white",
           "showgrid": true,
           "ticks": "",
           "title": {
            "standoff": 15
           },
           "zerolinecolor": "white"
          },
          "yaxis": {
           "automargin": true,
           "gridcolor": "white",
           "linecolor": "white",
           "showgrid": true,
           "ticks": "",
           "title": {
            "standoff": 15
           },
           "zerolinecolor": "white"
          }
         }
        },
        "title": {
         "text": "Genres popularity by the % of positive reviews"
        }
       }
      },
      "text/html": [
       "<div>                            <div id=\"30314fd1-c839-402e-81fa-19084f863ff1\" class=\"plotly-graph-div\" style=\"height:525px; width:100%;\"></div>            <script type=\"text/javascript\">                require([\"plotly\"], function(Plotly) {                    window.PLOTLYENV=window.PLOTLYENV || {};                                    if (document.getElementById(\"30314fd1-c839-402e-81fa-19084f863ff1\")) {                    Plotly.newPlot(                        \"30314fd1-c839-402e-81fa-19084f863ff1\",                        [{\"domain\":{\"x\":[0.0,1.0],\"y\":[0.0,1.0]},\"hovertemplate\":\"genre_descript_2=%{label}<br>procent_positive=%{value}<extra></extra>\",\"labels\":[\"Adventure\",\"Indie\",\"Adventure\",\"Action\",\"Other\",\"Action\",\"Other\",\"Indie\",\"Other\",\"Other\",\"Indie\",\"Adventure\",\"Simulation\",\"Action\",\"Other\",\"Action\",\"Indie\",\"Adventure\",\"Simulation\",\"Action\",\"Adventure\",\"Other\",\"Other\",\"Action\",\"Other\",\"Adventure\",\"Action\",\"Indie\",\"Other\",\"Action\",\"Simulation\",\"Action\",\"Adventure\",\"Indie\",\"Adventure\",\"Simulation\",\"Action\",\"Other\",\"Indie\",\"Action\",\"Indie\",\"Simulation\",\"Other\",\"Indie\",\"Simulation\",\"Action\",\"Other\",\"Adventure\",\"Other\",\"Action\",\"Adventure\",\"Action\",\"Other\",\"Action\",\"Adventure\",\"Other\",\"Action\",\"Indie\",\"Adventure\",\"Action\",\"Other\",\"Other\",\"Indie\",\"Adventure\",\"Simulation\",\"Action\",\"Adventure\",\"Adventure\",\"Other\",\"Other\",\"Action\",\"Other\",\"Action\",\"Other\",\"Other\",\"Adventure\",\"Simulation\",\"Adventure\",\"Indie\",\"Adventure\",\"Action\",\"Indie\",\"Adventure\",\"Action\",\"Other\",\"Other\",\"Other\",\"Other\",\"Simulation\",\"Action\",\"Other\",\"Indie\",\"Simulation\",\"Other\",\"Action\",\"Adventure\",\"Action\",\"Adventure\",\"Action\",\"Adventure\"],\"legendgroup\":\"\",\"name\":\"\",\"showlegend\":true,\"values\":[0.9320469798657718,0.9770025031289111,0.9770025031289111,0.7465615257656336,0.7465615257656336,0.7735530626427082,0.7735530626427082,0.7735530626427082,0.7544891148895598,0.7544891148895598,0.7544891148895598,0.7544891148895598,0.7544891148895598,0.9256698357821953,0.9256698357821953,0.979083885209713,0.979083885209713,0.979083885209713,0.979083885209713,0.5063139059304703,0.5063139059304703,0.5063139059304703,0.5063139059304703,0.9587618670886076,0.9587618670886076,0.9587618670886076,0.5791780172924316,0.5791780172924316,0.5791780172924316,0.7426437735367333,0.9245718050065876,0.8159932422919893,0.8159932422919893,0.9709553528564571,0.9709553528564571,0.9709553528564571,0.8634188777729448,0.8634188777729448,0.8634188777729448,0.9701999611725879,0.9701999611725879,0.9701999611725879,0.9701999611725879,0.6835703978561122,0.6835703978561122,0.8526050948736765,0.8526050948736765,0.8526050948736765,0.8526050948736765,0.9101840043723811,0.9101840043723811,0.822131395700878,0.822131395700878,0.7956138367623785,0.7956138367623785,0.7310725046477339,0.7155063291139241,0.7155063291139241,0.7155063291139241,0.9045996592844975,0.9045996592844975,0.952645209027007,0.952645209027007,0.952645209027007,0.952645209027007,0.9060087785681853,0.9060087785681853,0.941942687011537,0.7804787759131293,0.9528728619216932,0.6179688363355067,0.6179688363355067,0.898153547133139,0.898153547133139,0.898153547133139,0.898153547133139,0.898153547133139,0.8048327137546468,0.9386524822695036,0.9386524822695036,0.9762186531417301,0.9762186531417301,0.9762186531417301,0.8766280381499333,0.8766280381499333,0.9790319354623641,0.9365851420180792,0.9365851420180792,0.9365851420180792,0.9535796454188659,0.9535796454188659,0.9535796454188659,0.9535796454188659,0.9535796454188659,0.9083362399720962,0.9083362399720962,0.9133139456502899,0.9133139456502899,0.9110501305133525,0.9110501305133525],\"type\":\"pie\"}],                        {\"template\":{\"data\":{\"barpolar\":[{\"marker\":{\"line\":{\"color\":\"rgb(234,234,242)\",\"width\":0.5},\"pattern\":{\"fillmode\":\"overlay\",\"size\":10,\"solidity\":0.2}},\"type\":\"barpolar\"}],\"bar\":[{\"error_x\":{\"color\":\"rgb(36,36,36)\"},\"error_y\":{\"color\":\"rgb(36,36,36)\"},\"marker\":{\"line\":{\"color\":\"rgb(234,234,242)\",\"width\":0.5},\"pattern\":{\"fillmode\":\"overlay\",\"size\":10,\"solidity\":0.2}},\"type\":\"bar\"}],\"carpet\":[{\"aaxis\":{\"endlinecolor\":\"rgb(36,36,36)\",\"gridcolor\":\"white\",\"linecolor\":\"white\",\"minorgridcolor\":\"white\",\"startlinecolor\":\"rgb(36,36,36)\"},\"baxis\":{\"endlinecolor\":\"rgb(36,36,36)\",\"gridcolor\":\"white\",\"linecolor\":\"white\",\"minorgridcolor\":\"white\",\"startlinecolor\":\"rgb(36,36,36)\"},\"type\":\"carpet\"}],\"choropleth\":[{\"colorbar\":{\"outlinewidth\":0,\"tickcolor\":\"rgb(36,36,36)\",\"ticklen\":8,\"ticks\":\"outside\",\"tickwidth\":2},\"type\":\"choropleth\"}],\"contourcarpet\":[{\"colorbar\":{\"outlinewidth\":0,\"tickcolor\":\"rgb(36,36,36)\",\"ticklen\":8,\"ticks\":\"outside\",\"tickwidth\":2},\"type\":\"contourcarpet\"}],\"contour\":[{\"colorbar\":{\"outlinewidth\":0,\"tickcolor\":\"rgb(36,36,36)\",\"ticklen\":8,\"ticks\":\"outside\",\"tickwidth\":2},\"colorscale\":[[0.0,\"rgb(2,4,25)\"],[0.06274509803921569,\"rgb(24,15,41)\"],[0.12549019607843137,\"rgb(47,23,57)\"],[0.18823529411764706,\"rgb(71,28,72)\"],[0.25098039215686274,\"rgb(97,30,82)\"],[0.3137254901960784,\"rgb(123,30,89)\"],[0.3764705882352941,\"rgb(150,27,91)\"],[0.4392156862745098,\"rgb(177,22,88)\"],[0.5019607843137255,\"rgb(203,26,79)\"],[0.5647058823529412,\"rgb(223,47,67)\"],[0.6274509803921569,\"rgb(236,76,61)\"],[0.6901960784313725,\"rgb(242,107,73)\"],[0.7529411764705882,\"rgb(244,135,95)\"],[0.8156862745098039,\"rgb(245,162,122)\"],[0.8784313725490196,\"rgb(246,188,153)\"],[0.9411764705882353,\"rgb(247,212,187)\"],[1.0,\"rgb(250,234,220)\"]],\"type\":\"contour\"}],\"heatmapgl\":[{\"colorbar\":{\"outlinewidth\":0,\"tickcolor\":\"rgb(36,36,36)\",\"ticklen\":8,\"ticks\":\"outside\",\"tickwidth\":2},\"colorscale\":[[0.0,\"rgb(2,4,25)\"],[0.06274509803921569,\"rgb(24,15,41)\"],[0.12549019607843137,\"rgb(47,23,57)\"],[0.18823529411764706,\"rgb(71,28,72)\"],[0.25098039215686274,\"rgb(97,30,82)\"],[0.3137254901960784,\"rgb(123,30,89)\"],[0.3764705882352941,\"rgb(150,27,91)\"],[0.4392156862745098,\"rgb(177,22,88)\"],[0.5019607843137255,\"rgb(203,26,79)\"],[0.5647058823529412,\"rgb(223,47,67)\"],[0.6274509803921569,\"rgb(236,76,61)\"],[0.6901960784313725,\"rgb(242,107,73)\"],[0.7529411764705882,\"rgb(244,135,95)\"],[0.8156862745098039,\"rgb(245,162,122)\"],[0.8784313725490196,\"rgb(246,188,153)\"],[0.9411764705882353,\"rgb(247,212,187)\"],[1.0,\"rgb(250,234,220)\"]],\"type\":\"heatmapgl\"}],\"heatmap\":[{\"colorbar\":{\"outlinewidth\":0,\"tickcolor\":\"rgb(36,36,36)\",\"ticklen\":8,\"ticks\":\"outside\",\"tickwidth\":2},\"colorscale\":[[0.0,\"rgb(2,4,25)\"],[0.06274509803921569,\"rgb(24,15,41)\"],[0.12549019607843137,\"rgb(47,23,57)\"],[0.18823529411764706,\"rgb(71,28,72)\"],[0.25098039215686274,\"rgb(97,30,82)\"],[0.3137254901960784,\"rgb(123,30,89)\"],[0.3764705882352941,\"rgb(150,27,91)\"],[0.4392156862745098,\"rgb(177,22,88)\"],[0.5019607843137255,\"rgb(203,26,79)\"],[0.5647058823529412,\"rgb(223,47,67)\"],[0.6274509803921569,\"rgb(236,76,61)\"],[0.6901960784313725,\"rgb(242,107,73)\"],[0.7529411764705882,\"rgb(244,135,95)\"],[0.8156862745098039,\"rgb(245,162,122)\"],[0.8784313725490196,\"rgb(246,188,153)\"],[0.9411764705882353,\"rgb(247,212,187)\"],[1.0,\"rgb(250,234,220)\"]],\"type\":\"heatmap\"}],\"histogram2dcontour\":[{\"colorbar\":{\"outlinewidth\":0,\"tickcolor\":\"rgb(36,36,36)\",\"ticklen\":8,\"ticks\":\"outside\",\"tickwidth\":2},\"colorscale\":[[0.0,\"rgb(2,4,25)\"],[0.06274509803921569,\"rgb(24,15,41)\"],[0.12549019607843137,\"rgb(47,23,57)\"],[0.18823529411764706,\"rgb(71,28,72)\"],[0.25098039215686274,\"rgb(97,30,82)\"],[0.3137254901960784,\"rgb(123,30,89)\"],[0.3764705882352941,\"rgb(150,27,91)\"],[0.4392156862745098,\"rgb(177,22,88)\"],[0.5019607843137255,\"rgb(203,26,79)\"],[0.5647058823529412,\"rgb(223,47,67)\"],[0.6274509803921569,\"rgb(236,76,61)\"],[0.6901960784313725,\"rgb(242,107,73)\"],[0.7529411764705882,\"rgb(244,135,95)\"],[0.8156862745098039,\"rgb(245,162,122)\"],[0.8784313725490196,\"rgb(246,188,153)\"],[0.9411764705882353,\"rgb(247,212,187)\"],[1.0,\"rgb(250,234,220)\"]],\"type\":\"histogram2dcontour\"}],\"histogram2d\":[{\"colorbar\":{\"outlinewidth\":0,\"tickcolor\":\"rgb(36,36,36)\",\"ticklen\":8,\"ticks\":\"outside\",\"tickwidth\":2},\"colorscale\":[[0.0,\"rgb(2,4,25)\"],[0.06274509803921569,\"rgb(24,15,41)\"],[0.12549019607843137,\"rgb(47,23,57)\"],[0.18823529411764706,\"rgb(71,28,72)\"],[0.25098039215686274,\"rgb(97,30,82)\"],[0.3137254901960784,\"rgb(123,30,89)\"],[0.3764705882352941,\"rgb(150,27,91)\"],[0.4392156862745098,\"rgb(177,22,88)\"],[0.5019607843137255,\"rgb(203,26,79)\"],[0.5647058823529412,\"rgb(223,47,67)\"],[0.6274509803921569,\"rgb(236,76,61)\"],[0.6901960784313725,\"rgb(242,107,73)\"],[0.7529411764705882,\"rgb(244,135,95)\"],[0.8156862745098039,\"rgb(245,162,122)\"],[0.8784313725490196,\"rgb(246,188,153)\"],[0.9411764705882353,\"rgb(247,212,187)\"],[1.0,\"rgb(250,234,220)\"]],\"type\":\"histogram2d\"}],\"histogram\":[{\"marker\":{\"pattern\":{\"fillmode\":\"overlay\",\"size\":10,\"solidity\":0.2}},\"type\":\"histogram\"}],\"mesh3d\":[{\"colorbar\":{\"outlinewidth\":0,\"tickcolor\":\"rgb(36,36,36)\",\"ticklen\":8,\"ticks\":\"outside\",\"tickwidth\":2},\"type\":\"mesh3d\"}],\"parcoords\":[{\"line\":{\"colorbar\":{\"outlinewidth\":0,\"tickcolor\":\"rgb(36,36,36)\",\"ticklen\":8,\"ticks\":\"outside\",\"tickwidth\":2}},\"type\":\"parcoords\"}],\"pie\":[{\"automargin\":true,\"type\":\"pie\"}],\"scatter3d\":[{\"line\":{\"colorbar\":{\"outlinewidth\":0,\"tickcolor\":\"rgb(36,36,36)\",\"ticklen\":8,\"ticks\":\"outside\",\"tickwidth\":2}},\"marker\":{\"colorbar\":{\"outlinewidth\":0,\"tickcolor\":\"rgb(36,36,36)\",\"ticklen\":8,\"ticks\":\"outside\",\"tickwidth\":2}},\"type\":\"scatter3d\"}],\"scattercarpet\":[{\"marker\":{\"colorbar\":{\"outlinewidth\":0,\"tickcolor\":\"rgb(36,36,36)\",\"ticklen\":8,\"ticks\":\"outside\",\"tickwidth\":2}},\"type\":\"scattercarpet\"}],\"scattergeo\":[{\"marker\":{\"colorbar\":{\"outlinewidth\":0,\"tickcolor\":\"rgb(36,36,36)\",\"ticklen\":8,\"ticks\":\"outside\",\"tickwidth\":2}},\"type\":\"scattergeo\"}],\"scattergl\":[{\"marker\":{\"colorbar\":{\"outlinewidth\":0,\"tickcolor\":\"rgb(36,36,36)\",\"ticklen\":8,\"ticks\":\"outside\",\"tickwidth\":2}},\"type\":\"scattergl\"}],\"scattermapbox\":[{\"marker\":{\"colorbar\":{\"outlinewidth\":0,\"tickcolor\":\"rgb(36,36,36)\",\"ticklen\":8,\"ticks\":\"outside\",\"tickwidth\":2}},\"type\":\"scattermapbox\"}],\"scatterpolargl\":[{\"marker\":{\"colorbar\":{\"outlinewidth\":0,\"tickcolor\":\"rgb(36,36,36)\",\"ticklen\":8,\"ticks\":\"outside\",\"tickwidth\":2}},\"type\":\"scatterpolargl\"}],\"scatterpolar\":[{\"marker\":{\"colorbar\":{\"outlinewidth\":0,\"tickcolor\":\"rgb(36,36,36)\",\"ticklen\":8,\"ticks\":\"outside\",\"tickwidth\":2}},\"type\":\"scatterpolar\"}],\"scatter\":[{\"marker\":{\"colorbar\":{\"outlinewidth\":0,\"tickcolor\":\"rgb(36,36,36)\",\"ticklen\":8,\"ticks\":\"outside\",\"tickwidth\":2}},\"type\":\"scatter\"}],\"scatterternary\":[{\"marker\":{\"colorbar\":{\"outlinewidth\":0,\"tickcolor\":\"rgb(36,36,36)\",\"ticklen\":8,\"ticks\":\"outside\",\"tickwidth\":2}},\"type\":\"scatterternary\"}],\"surface\":[{\"colorbar\":{\"outlinewidth\":0,\"tickcolor\":\"rgb(36,36,36)\",\"ticklen\":8,\"ticks\":\"outside\",\"tickwidth\":2},\"colorscale\":[[0.0,\"rgb(2,4,25)\"],[0.06274509803921569,\"rgb(24,15,41)\"],[0.12549019607843137,\"rgb(47,23,57)\"],[0.18823529411764706,\"rgb(71,28,72)\"],[0.25098039215686274,\"rgb(97,30,82)\"],[0.3137254901960784,\"rgb(123,30,89)\"],[0.3764705882352941,\"rgb(150,27,91)\"],[0.4392156862745098,\"rgb(177,22,88)\"],[0.5019607843137255,\"rgb(203,26,79)\"],[0.5647058823529412,\"rgb(223,47,67)\"],[0.6274509803921569,\"rgb(236,76,61)\"],[0.6901960784313725,\"rgb(242,107,73)\"],[0.7529411764705882,\"rgb(244,135,95)\"],[0.8156862745098039,\"rgb(245,162,122)\"],[0.8784313725490196,\"rgb(246,188,153)\"],[0.9411764705882353,\"rgb(247,212,187)\"],[1.0,\"rgb(250,234,220)\"]],\"type\":\"surface\"}],\"table\":[{\"cells\":{\"fill\":{\"color\":\"rgb(231,231,240)\"},\"line\":{\"color\":\"white\"}},\"header\":{\"fill\":{\"color\":\"rgb(183,183,191)\"},\"line\":{\"color\":\"white\"}},\"type\":\"table\"}]},\"layout\":{\"annotationdefaults\":{\"arrowcolor\":\"rgb(67,103,167)\"},\"autotypenumbers\":\"strict\",\"coloraxis\":{\"colorbar\":{\"outlinewidth\":0,\"tickcolor\":\"rgb(36,36,36)\",\"ticklen\":8,\"ticks\":\"outside\",\"tickwidth\":2}},\"colorscale\":{\"sequential\":[[0.0,\"rgb(2,4,25)\"],[0.06274509803921569,\"rgb(24,15,41)\"],[0.12549019607843137,\"rgb(47,23,57)\"],[0.18823529411764706,\"rgb(71,28,72)\"],[0.25098039215686274,\"rgb(97,30,82)\"],[0.3137254901960784,\"rgb(123,30,89)\"],[0.3764705882352941,\"rgb(150,27,91)\"],[0.4392156862745098,\"rgb(177,22,88)\"],[0.5019607843137255,\"rgb(203,26,79)\"],[0.5647058823529412,\"rgb(223,47,67)\"],[0.6274509803921569,\"rgb(236,76,61)\"],[0.6901960784313725,\"rgb(242,107,73)\"],[0.7529411764705882,\"rgb(244,135,95)\"],[0.8156862745098039,\"rgb(245,162,122)\"],[0.8784313725490196,\"rgb(246,188,153)\"],[0.9411764705882353,\"rgb(247,212,187)\"],[1.0,\"rgb(250,234,220)\"]],\"sequentialminus\":[[0.0,\"rgb(2,4,25)\"],[0.06274509803921569,\"rgb(24,15,41)\"],[0.12549019607843137,\"rgb(47,23,57)\"],[0.18823529411764706,\"rgb(71,28,72)\"],[0.25098039215686274,\"rgb(97,30,82)\"],[0.3137254901960784,\"rgb(123,30,89)\"],[0.3764705882352941,\"rgb(150,27,91)\"],[0.4392156862745098,\"rgb(177,22,88)\"],[0.5019607843137255,\"rgb(203,26,79)\"],[0.5647058823529412,\"rgb(223,47,67)\"],[0.6274509803921569,\"rgb(236,76,61)\"],[0.6901960784313725,\"rgb(242,107,73)\"],[0.7529411764705882,\"rgb(244,135,95)\"],[0.8156862745098039,\"rgb(245,162,122)\"],[0.8784313725490196,\"rgb(246,188,153)\"],[0.9411764705882353,\"rgb(247,212,187)\"],[1.0,\"rgb(250,234,220)\"]]},\"colorway\":[\"rgb(76,114,176)\",\"rgb(221,132,82)\",\"rgb(85,168,104)\",\"rgb(196,78,82)\",\"rgb(129,114,179)\",\"rgb(147,120,96)\",\"rgb(218,139,195)\",\"rgb(140,140,140)\",\"rgb(204,185,116)\",\"rgb(100,181,205)\"],\"font\":{\"color\":\"rgb(36,36,36)\"},\"geo\":{\"bgcolor\":\"white\",\"lakecolor\":\"white\",\"landcolor\":\"rgb(234,234,242)\",\"showlakes\":true,\"showland\":true,\"subunitcolor\":\"white\"},\"hoverlabel\":{\"align\":\"left\"},\"hovermode\":\"closest\",\"paper_bgcolor\":\"white\",\"plot_bgcolor\":\"rgb(234,234,242)\",\"polar\":{\"angularaxis\":{\"gridcolor\":\"white\",\"linecolor\":\"white\",\"showgrid\":true,\"ticks\":\"\"},\"bgcolor\":\"rgb(234,234,242)\",\"radialaxis\":{\"gridcolor\":\"white\",\"linecolor\":\"white\",\"showgrid\":true,\"ticks\":\"\"}},\"scene\":{\"xaxis\":{\"backgroundcolor\":\"rgb(234,234,242)\",\"gridcolor\":\"white\",\"gridwidth\":2,\"linecolor\":\"white\",\"showbackground\":true,\"showgrid\":true,\"ticks\":\"\",\"zerolinecolor\":\"white\"},\"yaxis\":{\"backgroundcolor\":\"rgb(234,234,242)\",\"gridcolor\":\"white\",\"gridwidth\":2,\"linecolor\":\"white\",\"showbackground\":true,\"showgrid\":true,\"ticks\":\"\",\"zerolinecolor\":\"white\"},\"zaxis\":{\"backgroundcolor\":\"rgb(234,234,242)\",\"gridcolor\":\"white\",\"gridwidth\":2,\"linecolor\":\"white\",\"showbackground\":true,\"showgrid\":true,\"ticks\":\"\",\"zerolinecolor\":\"white\"}},\"shapedefaults\":{\"fillcolor\":\"rgb(67,103,167)\",\"line\":{\"width\":0},\"opacity\":0.5},\"ternary\":{\"aaxis\":{\"gridcolor\":\"white\",\"linecolor\":\"white\",\"showgrid\":true,\"ticks\":\"\"},\"baxis\":{\"gridcolor\":\"white\",\"linecolor\":\"white\",\"showgrid\":true,\"ticks\":\"\"},\"bgcolor\":\"rgb(234,234,242)\",\"caxis\":{\"gridcolor\":\"white\",\"linecolor\":\"white\",\"showgrid\":true,\"ticks\":\"\"}},\"xaxis\":{\"automargin\":true,\"gridcolor\":\"white\",\"linecolor\":\"white\",\"showgrid\":true,\"ticks\":\"\",\"title\":{\"standoff\":15},\"zerolinecolor\":\"white\"},\"yaxis\":{\"automargin\":true,\"gridcolor\":\"white\",\"linecolor\":\"white\",\"showgrid\":true,\"ticks\":\"\",\"title\":{\"standoff\":15},\"zerolinecolor\":\"white\"}}},\"legend\":{\"tracegroupgap\":0},\"title\":{\"text\":\"Genres popularity by the % of positive reviews\"}},                        {\"responsive\": true}                    ).then(function(){\n",
       "                            \n",
       "var gd = document.getElementById('30314fd1-c839-402e-81fa-19084f863ff1');\n",
       "var x = new MutationObserver(function (mutations, observer) {{\n",
       "        var display = window.getComputedStyle(gd).display;\n",
       "        if (!display || display === 'none') {{\n",
       "            console.log([gd, 'removed!']);\n",
       "            Plotly.purge(gd);\n",
       "            observer.disconnect();\n",
       "        }}\n",
       "}});\n",
       "\n",
       "// Listen for the removal of the full notebook cells\n",
       "var notebookContainer = gd.closest('#notebook-container');\n",
       "if (notebookContainer) {{\n",
       "    x.observe(notebookContainer, {childList: true});\n",
       "}}\n",
       "\n",
       "// Listen for the clearing of the current output cell\n",
       "var outputEl = gd.closest('.output');\n",
       "if (outputEl) {{\n",
       "    x.observe(outputEl, {childList: true});\n",
       "}}\n",
       "\n",
       "                        })                };                });            </script>        </div>"
      ]
     },
     "metadata": {},
     "output_type": "display_data"
    }
   ],
   "source": [
    "fig = px.pie(df_genres, values='procent_positive', names='genre_descript_2', title='Genres popularity by the % of positive reviews', template = 'seaborn')\n",
    "fig.show()"
   ]
  },
  {
   "cell_type": "code",
   "execution_count": 129,
   "id": "65905253",
   "metadata": {},
   "outputs": [],
   "source": [
    "fig.write_image(\"static/genres_popularity.png\")"
   ]
  },
  {
   "cell_type": "markdown",
   "id": "a134437b",
   "metadata": {},
   "source": [
    "Find category popularity"
   ]
  },
  {
   "cell_type": "code",
   "execution_count": 130,
   "id": "d2a17825",
   "metadata": {},
   "outputs": [],
   "source": [
    "category_query ='''\n",
    "SELECT games.total_positive, games.total_reviews, categories.category_descript \n",
    "FROM games\n",
    "LEFT JOIN game_cat ON games.steam_appid = game_cat.steam_appid\n",
    "LEFT JOIN categories ON game_cat.category_id = categories.category_id\n",
    "'''"
   ]
  },
  {
   "cell_type": "code",
   "execution_count": 131,
   "id": "f9faba9e",
   "metadata": {},
   "outputs": [],
   "source": [
    "engine = create_engine('sqlite:///steam_games.db')\n",
    "with engine.connect() as connection:\n",
    "    df_category = pd.read_sql(category_query, connection)"
   ]
  },
  {
   "cell_type": "code",
   "execution_count": 132,
   "id": "5f8ed73c",
   "metadata": {},
   "outputs": [],
   "source": [
    "# Choosing games with more than 4500 reviews\n",
    "df_category = df_category[df_category.total_reviews > 4500]"
   ]
  },
  {
   "cell_type": "code",
   "execution_count": 133,
   "id": "036ce952",
   "metadata": {},
   "outputs": [],
   "source": [
    " df_category['procent_positive'] =  df_category.total_positive/ df_category.total_reviews"
   ]
  },
  {
   "cell_type": "code",
   "execution_count": 134,
   "id": "36caab58",
   "metadata": {},
   "outputs": [
    {
     "data": {
      "text/html": [
       "<div>\n",
       "<style scoped>\n",
       "    .dataframe tbody tr th:only-of-type {\n",
       "        vertical-align: middle;\n",
       "    }\n",
       "\n",
       "    .dataframe tbody tr th {\n",
       "        vertical-align: top;\n",
       "    }\n",
       "\n",
       "    .dataframe thead th {\n",
       "        text-align: right;\n",
       "    }\n",
       "</style>\n",
       "<table border=\"1\" class=\"dataframe\">\n",
       "  <thead>\n",
       "    <tr style=\"text-align: right;\">\n",
       "      <th></th>\n",
       "      <th>total_positive</th>\n",
       "      <th>total_reviews</th>\n",
       "      <th>category_descript</th>\n",
       "      <th>procent_positive</th>\n",
       "    </tr>\n",
       "  </thead>\n",
       "  <tbody>\n",
       "    <tr>\n",
       "      <th>320</th>\n",
       "      <td>9999</td>\n",
       "      <td>10728</td>\n",
       "      <td>Single-player</td>\n",
       "      <td>0.932047</td>\n",
       "    </tr>\n",
       "    <tr>\n",
       "      <th>321</th>\n",
       "      <td>9999</td>\n",
       "      <td>10728</td>\n",
       "      <td>Steam Achievements</td>\n",
       "      <td>0.932047</td>\n",
       "    </tr>\n",
       "    <tr>\n",
       "      <th>322</th>\n",
       "      <td>9999</td>\n",
       "      <td>10728</td>\n",
       "      <td>Steam Cloud</td>\n",
       "      <td>0.932047</td>\n",
       "    </tr>\n",
       "    <tr>\n",
       "      <th>323</th>\n",
       "      <td>9999</td>\n",
       "      <td>10728</td>\n",
       "      <td>Full controller support</td>\n",
       "      <td>0.932047</td>\n",
       "    </tr>\n",
       "    <tr>\n",
       "      <th>324</th>\n",
       "      <td>9999</td>\n",
       "      <td>10728</td>\n",
       "      <td>Steam Trading Cards</td>\n",
       "      <td>0.932047</td>\n",
       "    </tr>\n",
       "  </tbody>\n",
       "</table>\n",
       "</div>"
      ],
      "text/plain": [
       "     total_positive  total_reviews        category_descript  procent_positive\n",
       "320            9999          10728            Single-player          0.932047\n",
       "321            9999          10728       Steam Achievements          0.932047\n",
       "322            9999          10728              Steam Cloud          0.932047\n",
       "323            9999          10728  Full controller support          0.932047\n",
       "324            9999          10728      Steam Trading Cards          0.932047"
      ]
     },
     "execution_count": 134,
     "metadata": {},
     "output_type": "execute_result"
    }
   ],
   "source": [
    " df_category.head()"
   ]
  },
  {
   "cell_type": "code",
   "execution_count": 135,
   "id": "bc4d5208",
   "metadata": {},
   "outputs": [
    {
     "data": {
      "application/vnd.plotly.v1+json": {
       "config": {
        "plotlyServerURL": "https://plot.ly"
       },
       "data": [
        {
         "domain": {
          "x": [
           0,
           1
          ],
          "y": [
           0,
           1
          ]
         },
         "hovertemplate": "category_descript=%{label}<br>procent_positive=%{value}<extra></extra>",
         "labels": [
          "Single-player",
          "Steam Achievements",
          "Steam Cloud",
          "Full controller support",
          "Steam Trading Cards",
          "Remote Play on TV",
          "Single-player",
          "Steam Achievements",
          "Steam Cloud",
          "Steam Trading Cards",
          "Single-player",
          "Steam Achievements",
          "Steam Cloud",
          "Full controller support",
          "Steam Trading Cards",
          "Remote Play on TV",
          "Multi-player",
          "Partial Controller Support",
          "Cross-Platform Multiplayer",
          "Single-player",
          "Steam Achievements",
          "Steam Cloud",
          "Full controller support",
          "Steam Trading Cards",
          "Multi-player",
          "Single-player",
          "Steam Achievements",
          "Steam Cloud",
          "Shared/Split Screen",
          "Full controller support",
          "Steam Trading Cards",
          "Remote Play on Phone",
          "Remote Play on Tablet",
          "Remote Play on TV",
          "Remote Play Together",
          "Single-player",
          "Steam Achievements",
          "Steam Cloud",
          "Full controller support",
          "Steam Trading Cards",
          "Remote Play on Phone",
          "Remote Play on Tablet",
          "Remote Play on TV",
          "Multi-player",
          "In-App Purchases",
          "Online PvP",
          "PvP",
          "Multi-player",
          "Single-player",
          "Co-op",
          "Stats",
          "Steam Achievements",
          "Steam Cloud",
          "Steam Leaderboards",
          "Full controller support",
          "Steam Trading Cards",
          "Steam Workshop",
          "Online PvP",
          "Online Co-op",
          "PvP",
          "Multi-player",
          "Co-op",
          "Full controller support",
          "Remote Play on TV",
          "Multi-player",
          "Stats",
          "Steam Achievements",
          "Steam Leaderboards",
          "Full controller support",
          "Remote Play on TV",
          "Multi-player",
          "Single-player",
          "Co-op",
          "Steam Achievements",
          "Steam Cloud",
          "Cross-Platform Multiplayer",
          "Full controller support",
          "Steam Trading Cards",
          "Remote Play on TV",
          "Multi-player",
          "Single-player",
          "Co-op",
          "Partial Controller Support",
          "In-App Purchases",
          "Single-player",
          "Steam Achievements",
          "Steam Cloud",
          "Steam Trading Cards",
          "Remote Play on Phone",
          "Remote Play on Tablet",
          "Multi-player",
          "Co-op",
          "Stats",
          "Includes Source SDK",
          "Includes level editor",
          "Partial Controller Support",
          "Steam Achievements",
          "Steam Cloud",
          "Steam Workshop",
          "Online PvP",
          "Online Co-op",
          "PvP",
          "Single-player",
          "VR Support",
          "Single-player",
          "Steam Cloud",
          "Steam Leaderboards",
          "Full controller support",
          "Steam Trading Cards",
          "Steam Workshop",
          "Multi-player",
          "Single-player",
          "Co-op",
          "MMO",
          "Steam Achievements",
          "Steam Cloud",
          "Steam Leaderboards",
          "Full controller support",
          "Online PvP",
          "Shared/Split Screen PvP",
          "Online Co-op",
          "PvP",
          "Single-player",
          "Steam Achievements",
          "Steam Cloud",
          "Full controller support",
          "Steam Trading Cards",
          "Remote Play on Phone",
          "Remote Play on Tablet",
          "Remote Play on TV",
          "Multi-player",
          "Single-player",
          "Partial Controller Support",
          "Steam Trading Cards",
          "In-App Purchases",
          "Online PvP",
          "PvP",
          "Multi-player",
          "Single-player",
          "Co-op",
          "Partial Controller Support",
          "Steam Trading Cards",
          "In-App Purchases",
          "Multi-player",
          "Single-player",
          "Co-op",
          "Full controller support",
          "Steam Trading Cards",
          "Online PvP",
          "Shared/Split Screen PvP",
          "Online Co-op",
          "Shared/Split Screen Co-op",
          "Remote Play on Phone",
          "Remote Play on Tablet",
          "Remote Play on TV",
          "Remote Play Together",
          "PvP",
          "Multi-player",
          "Single-player",
          "Co-op",
          "Steam Achievements",
          "Full controller support",
          "Online PvP",
          "Online Co-op",
          "Remote Play on TV",
          "PvP",
          "Multi-player",
          "Single-player",
          "Co-op",
          "Includes level editor",
          "Steam Achievements",
          "Steam Cloud",
          "Steam Trading Cards",
          "Steam Workshop",
          "Online PvP",
          "Online Co-op",
          "PvP",
          "Multi-player",
          "Single-player",
          "Co-op",
          "Stats",
          "Steam Achievements",
          "Steam Cloud",
          "Shared/Split Screen",
          "Full controller support",
          "Steam Trading Cards",
          "Steam Workshop",
          "Online PvP",
          "Shared/Split Screen Co-op",
          "Remote Play on TV",
          "Remote Play Together",
          "PvP",
          "Single-player",
          "Steam Achievements",
          "Steam Cloud",
          "Full controller support",
          "Steam Trading Cards",
          "Remote Play on TV",
          "Single-player",
          "Steam Achievements",
          "Full controller support",
          "Steam Trading Cards",
          "Remote Play on TV",
          "Single-player",
          "Partial Controller Support",
          "Steam Achievements",
          "Steam Trading Cards",
          "Remote Play on Phone",
          "Remote Play on Tablet",
          "Single-player",
          "Partial Controller Support",
          "Steam Achievements",
          "Steam Cloud",
          "Remote Play on Phone",
          "Remote Play on Tablet",
          "Multi-player",
          "Partial Controller Support",
          "Steam Achievements",
          "Steam Workshop",
          "In-App Purchases",
          "Online PvP",
          "PvP",
          "Single-player",
          "Steam Achievements",
          "Steam Cloud",
          "Steam Trading Cards",
          "Steam Workshop",
          "Single-player",
          "Steam Achievements",
          "Full controller support",
          "Single-player",
          "Steam Achievements",
          "Steam Cloud",
          "Full controller support",
          "Steam Trading Cards",
          "Remote Play on TV",
          "Single-player",
          "Steam Achievements",
          "Steam Cloud",
          "Full controller support",
          "Steam Trading Cards",
          "Remote Play on Phone",
          "Remote Play on Tablet",
          "Remote Play on TV",
          "Multi-player",
          "Single-player",
          "Steam Cloud",
          "In-App Purchases",
          "Online PvP",
          "PvP",
          "Single-player",
          "Steam Achievements",
          "Steam Cloud",
          "Full controller support",
          "Steam Trading Cards",
          "Multi-player",
          "Single-player",
          "Steam Achievements",
          "Steam Cloud",
          "Steam Trading Cards",
          "Steam Workshop",
          "Online PvP",
          "Remote Play on Tablet",
          "PvP",
          "Single-player",
          "Includes level editor",
          "Full controller support",
          "Steam Workshop",
          "Remote Play on Tablet",
          "Single-player",
          "Steam Achievements",
          "Full controller support",
          "Steam Trading Cards",
          "Remote Play on Tablet",
          "Remote Play on TV",
          "Multi-player",
          "Co-op",
          "Partial Controller Support",
          "Steam Achievements",
          "Cross-Platform Multiplayer",
          "Steam Trading Cards",
          "In-App Purchases",
          "Online PvP",
          "Online Co-op",
          "Remote Play on Phone",
          "Remote Play on Tablet",
          "PvP",
          "Single-player",
          "Steam Achievements",
          "Steam Cloud",
          "Full controller support"
         ],
         "legendgroup": "",
         "name": "",
         "showlegend": true,
         "type": "pie",
         "values": [
          0.9320469798657718,
          0.9320469798657718,
          0.9320469798657718,
          0.9320469798657718,
          0.9320469798657718,
          0.9320469798657718,
          0.9770025031289111,
          0.9770025031289111,
          0.9770025031289111,
          0.9770025031289111,
          0.7465615257656336,
          0.7465615257656336,
          0.7465615257656336,
          0.7465615257656336,
          0.7465615257656336,
          0.7465615257656336,
          0.7735530626427082,
          0.7735530626427082,
          0.7735530626427082,
          0.7544891148895598,
          0.7544891148895598,
          0.7544891148895598,
          0.7544891148895598,
          0.7544891148895598,
          0.9256698357821953,
          0.9256698357821953,
          0.9256698357821953,
          0.9256698357821953,
          0.9256698357821953,
          0.9256698357821953,
          0.9256698357821953,
          0.9256698357821953,
          0.9256698357821953,
          0.9256698357821953,
          0.9256698357821953,
          0.979083885209713,
          0.979083885209713,
          0.979083885209713,
          0.979083885209713,
          0.979083885209713,
          0.979083885209713,
          0.979083885209713,
          0.979083885209713,
          0.5063139059304703,
          0.5063139059304703,
          0.5063139059304703,
          0.5063139059304703,
          0.9587618670886076,
          0.9587618670886076,
          0.9587618670886076,
          0.9587618670886076,
          0.9587618670886076,
          0.9587618670886076,
          0.9587618670886076,
          0.9587618670886076,
          0.9587618670886076,
          0.9587618670886076,
          0.9587618670886076,
          0.9587618670886076,
          0.9587618670886076,
          0.5791780172924316,
          0.5791780172924316,
          0.5791780172924316,
          0.5791780172924316,
          0.7426437735367333,
          0.7426437735367333,
          0.7426437735367333,
          0.7426437735367333,
          0.7426437735367333,
          0.7426437735367333,
          0.9245718050065876,
          0.9245718050065876,
          0.9245718050065876,
          0.9245718050065876,
          0.9245718050065876,
          0.9245718050065876,
          0.9245718050065876,
          0.9245718050065876,
          0.9245718050065876,
          0.8159932422919893,
          0.8159932422919893,
          0.8159932422919893,
          0.8159932422919893,
          0.8159932422919893,
          0.9709553528564571,
          0.9709553528564571,
          0.9709553528564571,
          0.9709553528564571,
          0.9709553528564571,
          0.9709553528564571,
          0.8634188777729448,
          0.8634188777729448,
          0.8634188777729448,
          0.8634188777729448,
          0.8634188777729448,
          0.8634188777729448,
          0.8634188777729448,
          0.8634188777729448,
          0.8634188777729448,
          0.8634188777729448,
          0.8634188777729448,
          0.8634188777729448,
          0.9701999611725879,
          0.9701999611725879,
          0.6835703978561122,
          0.6835703978561122,
          0.6835703978561122,
          0.6835703978561122,
          0.6835703978561122,
          0.6835703978561122,
          0.8526050948736765,
          0.8526050948736765,
          0.8526050948736765,
          0.8526050948736765,
          0.8526050948736765,
          0.8526050948736765,
          0.8526050948736765,
          0.8526050948736765,
          0.8526050948736765,
          0.8526050948736765,
          0.8526050948736765,
          0.8526050948736765,
          0.9101840043723811,
          0.9101840043723811,
          0.9101840043723811,
          0.9101840043723811,
          0.9101840043723811,
          0.9101840043723811,
          0.9101840043723811,
          0.9101840043723811,
          0.822131395700878,
          0.822131395700878,
          0.822131395700878,
          0.822131395700878,
          0.822131395700878,
          0.822131395700878,
          0.822131395700878,
          0.7956138367623785,
          0.7956138367623785,
          0.7956138367623785,
          0.7956138367623785,
          0.7956138367623785,
          0.7956138367623785,
          0.7310725046477339,
          0.7310725046477339,
          0.7310725046477339,
          0.7310725046477339,
          0.7310725046477339,
          0.7310725046477339,
          0.7310725046477339,
          0.7310725046477339,
          0.7310725046477339,
          0.7310725046477339,
          0.7310725046477339,
          0.7310725046477339,
          0.7310725046477339,
          0.7310725046477339,
          0.7155063291139241,
          0.7155063291139241,
          0.7155063291139241,
          0.7155063291139241,
          0.7155063291139241,
          0.7155063291139241,
          0.7155063291139241,
          0.7155063291139241,
          0.7155063291139241,
          0.9045996592844975,
          0.9045996592844975,
          0.9045996592844975,
          0.9045996592844975,
          0.9045996592844975,
          0.9045996592844975,
          0.9045996592844975,
          0.9045996592844975,
          0.9045996592844975,
          0.9045996592844975,
          0.9045996592844975,
          0.952645209027007,
          0.952645209027007,
          0.952645209027007,
          0.952645209027007,
          0.952645209027007,
          0.952645209027007,
          0.952645209027007,
          0.952645209027007,
          0.952645209027007,
          0.952645209027007,
          0.952645209027007,
          0.952645209027007,
          0.952645209027007,
          0.952645209027007,
          0.952645209027007,
          0.9060087785681853,
          0.9060087785681853,
          0.9060087785681853,
          0.9060087785681853,
          0.9060087785681853,
          0.9060087785681853,
          0.941942687011537,
          0.941942687011537,
          0.941942687011537,
          0.941942687011537,
          0.941942687011537,
          0.7804787759131293,
          0.7804787759131293,
          0.7804787759131293,
          0.7804787759131293,
          0.7804787759131293,
          0.7804787759131293,
          0.9528728619216932,
          0.9528728619216932,
          0.9528728619216932,
          0.9528728619216932,
          0.9528728619216932,
          0.9528728619216932,
          0.6179688363355067,
          0.6179688363355067,
          0.6179688363355067,
          0.6179688363355067,
          0.6179688363355067,
          0.6179688363355067,
          0.6179688363355067,
          0.898153547133139,
          0.898153547133139,
          0.898153547133139,
          0.898153547133139,
          0.898153547133139,
          0.8048327137546468,
          0.8048327137546468,
          0.8048327137546468,
          0.9386524822695036,
          0.9386524822695036,
          0.9386524822695036,
          0.9386524822695036,
          0.9386524822695036,
          0.9386524822695036,
          0.9762186531417301,
          0.9762186531417301,
          0.9762186531417301,
          0.9762186531417301,
          0.9762186531417301,
          0.9762186531417301,
          0.9762186531417301,
          0.9762186531417301,
          0.8766280381499333,
          0.8766280381499333,
          0.8766280381499333,
          0.8766280381499333,
          0.8766280381499333,
          0.8766280381499333,
          0.9790319354623641,
          0.9790319354623641,
          0.9790319354623641,
          0.9790319354623641,
          0.9790319354623641,
          0.9365851420180792,
          0.9365851420180792,
          0.9365851420180792,
          0.9365851420180792,
          0.9365851420180792,
          0.9365851420180792,
          0.9365851420180792,
          0.9365851420180792,
          0.9365851420180792,
          0.9535796454188659,
          0.9535796454188659,
          0.9535796454188659,
          0.9535796454188659,
          0.9535796454188659,
          0.9083362399720962,
          0.9083362399720962,
          0.9083362399720962,
          0.9083362399720962,
          0.9083362399720962,
          0.9083362399720962,
          0.9133139456502899,
          0.9133139456502899,
          0.9133139456502899,
          0.9133139456502899,
          0.9133139456502899,
          0.9133139456502899,
          0.9133139456502899,
          0.9133139456502899,
          0.9133139456502899,
          0.9133139456502899,
          0.9133139456502899,
          0.9133139456502899,
          0.9110501305133525,
          0.9110501305133525,
          0.9110501305133525,
          0.9110501305133525
         ]
        }
       ],
       "layout": {
        "legend": {
         "tracegroupgap": 0
        },
        "template": {
         "data": {
          "bar": [
           {
            "error_x": {
             "color": "#2a3f5f"
            },
            "error_y": {
             "color": "#2a3f5f"
            },
            "marker": {
             "line": {
              "color": "#E5ECF6",
              "width": 0.5
             },
             "pattern": {
              "fillmode": "overlay",
              "size": 10,
              "solidity": 0.2
             }
            },
            "type": "bar"
           }
          ],
          "barpolar": [
           {
            "marker": {
             "line": {
              "color": "#E5ECF6",
              "width": 0.5
             },
             "pattern": {
              "fillmode": "overlay",
              "size": 10,
              "solidity": 0.2
             }
            },
            "type": "barpolar"
           }
          ],
          "carpet": [
           {
            "aaxis": {
             "endlinecolor": "#2a3f5f",
             "gridcolor": "white",
             "linecolor": "white",
             "minorgridcolor": "white",
             "startlinecolor": "#2a3f5f"
            },
            "baxis": {
             "endlinecolor": "#2a3f5f",
             "gridcolor": "white",
             "linecolor": "white",
             "minorgridcolor": "white",
             "startlinecolor": "#2a3f5f"
            },
            "type": "carpet"
           }
          ],
          "choropleth": [
           {
            "colorbar": {
             "outlinewidth": 0,
             "ticks": ""
            },
            "type": "choropleth"
           }
          ],
          "contour": [
           {
            "colorbar": {
             "outlinewidth": 0,
             "ticks": ""
            },
            "colorscale": [
             [
              0,
              "#0d0887"
             ],
             [
              0.1111111111111111,
              "#46039f"
             ],
             [
              0.2222222222222222,
              "#7201a8"
             ],
             [
              0.3333333333333333,
              "#9c179e"
             ],
             [
              0.4444444444444444,
              "#bd3786"
             ],
             [
              0.5555555555555556,
              "#d8576b"
             ],
             [
              0.6666666666666666,
              "#ed7953"
             ],
             [
              0.7777777777777778,
              "#fb9f3a"
             ],
             [
              0.8888888888888888,
              "#fdca26"
             ],
             [
              1,
              "#f0f921"
             ]
            ],
            "type": "contour"
           }
          ],
          "contourcarpet": [
           {
            "colorbar": {
             "outlinewidth": 0,
             "ticks": ""
            },
            "type": "contourcarpet"
           }
          ],
          "heatmap": [
           {
            "colorbar": {
             "outlinewidth": 0,
             "ticks": ""
            },
            "colorscale": [
             [
              0,
              "#0d0887"
             ],
             [
              0.1111111111111111,
              "#46039f"
             ],
             [
              0.2222222222222222,
              "#7201a8"
             ],
             [
              0.3333333333333333,
              "#9c179e"
             ],
             [
              0.4444444444444444,
              "#bd3786"
             ],
             [
              0.5555555555555556,
              "#d8576b"
             ],
             [
              0.6666666666666666,
              "#ed7953"
             ],
             [
              0.7777777777777778,
              "#fb9f3a"
             ],
             [
              0.8888888888888888,
              "#fdca26"
             ],
             [
              1,
              "#f0f921"
             ]
            ],
            "type": "heatmap"
           }
          ],
          "heatmapgl": [
           {
            "colorbar": {
             "outlinewidth": 0,
             "ticks": ""
            },
            "colorscale": [
             [
              0,
              "#0d0887"
             ],
             [
              0.1111111111111111,
              "#46039f"
             ],
             [
              0.2222222222222222,
              "#7201a8"
             ],
             [
              0.3333333333333333,
              "#9c179e"
             ],
             [
              0.4444444444444444,
              "#bd3786"
             ],
             [
              0.5555555555555556,
              "#d8576b"
             ],
             [
              0.6666666666666666,
              "#ed7953"
             ],
             [
              0.7777777777777778,
              "#fb9f3a"
             ],
             [
              0.8888888888888888,
              "#fdca26"
             ],
             [
              1,
              "#f0f921"
             ]
            ],
            "type": "heatmapgl"
           }
          ],
          "histogram": [
           {
            "marker": {
             "pattern": {
              "fillmode": "overlay",
              "size": 10,
              "solidity": 0.2
             }
            },
            "type": "histogram"
           }
          ],
          "histogram2d": [
           {
            "colorbar": {
             "outlinewidth": 0,
             "ticks": ""
            },
            "colorscale": [
             [
              0,
              "#0d0887"
             ],
             [
              0.1111111111111111,
              "#46039f"
             ],
             [
              0.2222222222222222,
              "#7201a8"
             ],
             [
              0.3333333333333333,
              "#9c179e"
             ],
             [
              0.4444444444444444,
              "#bd3786"
             ],
             [
              0.5555555555555556,
              "#d8576b"
             ],
             [
              0.6666666666666666,
              "#ed7953"
             ],
             [
              0.7777777777777778,
              "#fb9f3a"
             ],
             [
              0.8888888888888888,
              "#fdca26"
             ],
             [
              1,
              "#f0f921"
             ]
            ],
            "type": "histogram2d"
           }
          ],
          "histogram2dcontour": [
           {
            "colorbar": {
             "outlinewidth": 0,
             "ticks": ""
            },
            "colorscale": [
             [
              0,
              "#0d0887"
             ],
             [
              0.1111111111111111,
              "#46039f"
             ],
             [
              0.2222222222222222,
              "#7201a8"
             ],
             [
              0.3333333333333333,
              "#9c179e"
             ],
             [
              0.4444444444444444,
              "#bd3786"
             ],
             [
              0.5555555555555556,
              "#d8576b"
             ],
             [
              0.6666666666666666,
              "#ed7953"
             ],
             [
              0.7777777777777778,
              "#fb9f3a"
             ],
             [
              0.8888888888888888,
              "#fdca26"
             ],
             [
              1,
              "#f0f921"
             ]
            ],
            "type": "histogram2dcontour"
           }
          ],
          "mesh3d": [
           {
            "colorbar": {
             "outlinewidth": 0,
             "ticks": ""
            },
            "type": "mesh3d"
           }
          ],
          "parcoords": [
           {
            "line": {
             "colorbar": {
              "outlinewidth": 0,
              "ticks": ""
             }
            },
            "type": "parcoords"
           }
          ],
          "pie": [
           {
            "automargin": true,
            "type": "pie"
           }
          ],
          "scatter": [
           {
            "marker": {
             "colorbar": {
              "outlinewidth": 0,
              "ticks": ""
             }
            },
            "type": "scatter"
           }
          ],
          "scatter3d": [
           {
            "line": {
             "colorbar": {
              "outlinewidth": 0,
              "ticks": ""
             }
            },
            "marker": {
             "colorbar": {
              "outlinewidth": 0,
              "ticks": ""
             }
            },
            "type": "scatter3d"
           }
          ],
          "scattercarpet": [
           {
            "marker": {
             "colorbar": {
              "outlinewidth": 0,
              "ticks": ""
             }
            },
            "type": "scattercarpet"
           }
          ],
          "scattergeo": [
           {
            "marker": {
             "colorbar": {
              "outlinewidth": 0,
              "ticks": ""
             }
            },
            "type": "scattergeo"
           }
          ],
          "scattergl": [
           {
            "marker": {
             "colorbar": {
              "outlinewidth": 0,
              "ticks": ""
             }
            },
            "type": "scattergl"
           }
          ],
          "scattermapbox": [
           {
            "marker": {
             "colorbar": {
              "outlinewidth": 0,
              "ticks": ""
             }
            },
            "type": "scattermapbox"
           }
          ],
          "scatterpolar": [
           {
            "marker": {
             "colorbar": {
              "outlinewidth": 0,
              "ticks": ""
             }
            },
            "type": "scatterpolar"
           }
          ],
          "scatterpolargl": [
           {
            "marker": {
             "colorbar": {
              "outlinewidth": 0,
              "ticks": ""
             }
            },
            "type": "scatterpolargl"
           }
          ],
          "scatterternary": [
           {
            "marker": {
             "colorbar": {
              "outlinewidth": 0,
              "ticks": ""
             }
            },
            "type": "scatterternary"
           }
          ],
          "surface": [
           {
            "colorbar": {
             "outlinewidth": 0,
             "ticks": ""
            },
            "colorscale": [
             [
              0,
              "#0d0887"
             ],
             [
              0.1111111111111111,
              "#46039f"
             ],
             [
              0.2222222222222222,
              "#7201a8"
             ],
             [
              0.3333333333333333,
              "#9c179e"
             ],
             [
              0.4444444444444444,
              "#bd3786"
             ],
             [
              0.5555555555555556,
              "#d8576b"
             ],
             [
              0.6666666666666666,
              "#ed7953"
             ],
             [
              0.7777777777777778,
              "#fb9f3a"
             ],
             [
              0.8888888888888888,
              "#fdca26"
             ],
             [
              1,
              "#f0f921"
             ]
            ],
            "type": "surface"
           }
          ],
          "table": [
           {
            "cells": {
             "fill": {
              "color": "#EBF0F8"
             },
             "line": {
              "color": "white"
             }
            },
            "header": {
             "fill": {
              "color": "#C8D4E3"
             },
             "line": {
              "color": "white"
             }
            },
            "type": "table"
           }
          ]
         },
         "layout": {
          "annotationdefaults": {
           "arrowcolor": "#2a3f5f",
           "arrowhead": 0,
           "arrowwidth": 1
          },
          "autotypenumbers": "strict",
          "coloraxis": {
           "colorbar": {
            "outlinewidth": 0,
            "ticks": ""
           }
          },
          "colorscale": {
           "diverging": [
            [
             0,
             "#8e0152"
            ],
            [
             0.1,
             "#c51b7d"
            ],
            [
             0.2,
             "#de77ae"
            ],
            [
             0.3,
             "#f1b6da"
            ],
            [
             0.4,
             "#fde0ef"
            ],
            [
             0.5,
             "#f7f7f7"
            ],
            [
             0.6,
             "#e6f5d0"
            ],
            [
             0.7,
             "#b8e186"
            ],
            [
             0.8,
             "#7fbc41"
            ],
            [
             0.9,
             "#4d9221"
            ],
            [
             1,
             "#276419"
            ]
           ],
           "sequential": [
            [
             0,
             "#0d0887"
            ],
            [
             0.1111111111111111,
             "#46039f"
            ],
            [
             0.2222222222222222,
             "#7201a8"
            ],
            [
             0.3333333333333333,
             "#9c179e"
            ],
            [
             0.4444444444444444,
             "#bd3786"
            ],
            [
             0.5555555555555556,
             "#d8576b"
            ],
            [
             0.6666666666666666,
             "#ed7953"
            ],
            [
             0.7777777777777778,
             "#fb9f3a"
            ],
            [
             0.8888888888888888,
             "#fdca26"
            ],
            [
             1,
             "#f0f921"
            ]
           ],
           "sequentialminus": [
            [
             0,
             "#0d0887"
            ],
            [
             0.1111111111111111,
             "#46039f"
            ],
            [
             0.2222222222222222,
             "#7201a8"
            ],
            [
             0.3333333333333333,
             "#9c179e"
            ],
            [
             0.4444444444444444,
             "#bd3786"
            ],
            [
             0.5555555555555556,
             "#d8576b"
            ],
            [
             0.6666666666666666,
             "#ed7953"
            ],
            [
             0.7777777777777778,
             "#fb9f3a"
            ],
            [
             0.8888888888888888,
             "#fdca26"
            ],
            [
             1,
             "#f0f921"
            ]
           ]
          },
          "colorway": [
           "#636efa",
           "#EF553B",
           "#00cc96",
           "#ab63fa",
           "#FFA15A",
           "#19d3f3",
           "#FF6692",
           "#B6E880",
           "#FF97FF",
           "#FECB52"
          ],
          "font": {
           "color": "#2a3f5f"
          },
          "geo": {
           "bgcolor": "white",
           "lakecolor": "white",
           "landcolor": "#E5ECF6",
           "showlakes": true,
           "showland": true,
           "subunitcolor": "white"
          },
          "hoverlabel": {
           "align": "left"
          },
          "hovermode": "closest",
          "mapbox": {
           "style": "light"
          },
          "paper_bgcolor": "white",
          "plot_bgcolor": "#E5ECF6",
          "polar": {
           "angularaxis": {
            "gridcolor": "white",
            "linecolor": "white",
            "ticks": ""
           },
           "bgcolor": "#E5ECF6",
           "radialaxis": {
            "gridcolor": "white",
            "linecolor": "white",
            "ticks": ""
           }
          },
          "scene": {
           "xaxis": {
            "backgroundcolor": "#E5ECF6",
            "gridcolor": "white",
            "gridwidth": 2,
            "linecolor": "white",
            "showbackground": true,
            "ticks": "",
            "zerolinecolor": "white"
           },
           "yaxis": {
            "backgroundcolor": "#E5ECF6",
            "gridcolor": "white",
            "gridwidth": 2,
            "linecolor": "white",
            "showbackground": true,
            "ticks": "",
            "zerolinecolor": "white"
           },
           "zaxis": {
            "backgroundcolor": "#E5ECF6",
            "gridcolor": "white",
            "gridwidth": 2,
            "linecolor": "white",
            "showbackground": true,
            "ticks": "",
            "zerolinecolor": "white"
           }
          },
          "shapedefaults": {
           "line": {
            "color": "#2a3f5f"
           }
          },
          "ternary": {
           "aaxis": {
            "gridcolor": "white",
            "linecolor": "white",
            "ticks": ""
           },
           "baxis": {
            "gridcolor": "white",
            "linecolor": "white",
            "ticks": ""
           },
           "bgcolor": "#E5ECF6",
           "caxis": {
            "gridcolor": "white",
            "linecolor": "white",
            "ticks": ""
           }
          },
          "title": {
           "x": 0.05
          },
          "xaxis": {
           "automargin": true,
           "gridcolor": "white",
           "linecolor": "white",
           "ticks": "",
           "title": {
            "standoff": 15
           },
           "zerolinecolor": "white",
           "zerolinewidth": 2
          },
          "yaxis": {
           "automargin": true,
           "gridcolor": "white",
           "linecolor": "white",
           "ticks": "",
           "title": {
            "standoff": 15
           },
           "zerolinecolor": "white",
           "zerolinewidth": 2
          }
         }
        },
        "title": {
         "text": "Category popularity by the % of positive reviews"
        }
       }
      },
      "text/html": [
       "<div>                            <div id=\"a09de02a-8858-40c4-bb0c-fce4b9ea7a53\" class=\"plotly-graph-div\" style=\"height:525px; width:100%;\"></div>            <script type=\"text/javascript\">                require([\"plotly\"], function(Plotly) {                    window.PLOTLYENV=window.PLOTLYENV || {};                                    if (document.getElementById(\"a09de02a-8858-40c4-bb0c-fce4b9ea7a53\")) {                    Plotly.newPlot(                        \"a09de02a-8858-40c4-bb0c-fce4b9ea7a53\",                        [{\"domain\":{\"x\":[0.0,1.0],\"y\":[0.0,1.0]},\"hovertemplate\":\"category_descript=%{label}<br>procent_positive=%{value}<extra></extra>\",\"labels\":[\"Single-player\",\"Steam Achievements\",\"Steam Cloud\",\"Full controller support\",\"Steam Trading Cards\",\"Remote Play on TV\",\"Single-player\",\"Steam Achievements\",\"Steam Cloud\",\"Steam Trading Cards\",\"Single-player\",\"Steam Achievements\",\"Steam Cloud\",\"Full controller support\",\"Steam Trading Cards\",\"Remote Play on TV\",\"Multi-player\",\"Partial Controller Support\",\"Cross-Platform Multiplayer\",\"Single-player\",\"Steam Achievements\",\"Steam Cloud\",\"Full controller support\",\"Steam Trading Cards\",\"Multi-player\",\"Single-player\",\"Steam Achievements\",\"Steam Cloud\",\"Shared/Split Screen\",\"Full controller support\",\"Steam Trading Cards\",\"Remote Play on Phone\",\"Remote Play on Tablet\",\"Remote Play on TV\",\"Remote Play Together\",\"Single-player\",\"Steam Achievements\",\"Steam Cloud\",\"Full controller support\",\"Steam Trading Cards\",\"Remote Play on Phone\",\"Remote Play on Tablet\",\"Remote Play on TV\",\"Multi-player\",\"In-App Purchases\",\"Online PvP\",\"PvP\",\"Multi-player\",\"Single-player\",\"Co-op\",\"Stats\",\"Steam Achievements\",\"Steam Cloud\",\"Steam Leaderboards\",\"Full controller support\",\"Steam Trading Cards\",\"Steam Workshop\",\"Online PvP\",\"Online Co-op\",\"PvP\",\"Multi-player\",\"Co-op\",\"Full controller support\",\"Remote Play on TV\",\"Multi-player\",\"Stats\",\"Steam Achievements\",\"Steam Leaderboards\",\"Full controller support\",\"Remote Play on TV\",\"Multi-player\",\"Single-player\",\"Co-op\",\"Steam Achievements\",\"Steam Cloud\",\"Cross-Platform Multiplayer\",\"Full controller support\",\"Steam Trading Cards\",\"Remote Play on TV\",\"Multi-player\",\"Single-player\",\"Co-op\",\"Partial Controller Support\",\"In-App Purchases\",\"Single-player\",\"Steam Achievements\",\"Steam Cloud\",\"Steam Trading Cards\",\"Remote Play on Phone\",\"Remote Play on Tablet\",\"Multi-player\",\"Co-op\",\"Stats\",\"Includes Source SDK\",\"Includes level editor\",\"Partial Controller Support\",\"Steam Achievements\",\"Steam Cloud\",\"Steam Workshop\",\"Online PvP\",\"Online Co-op\",\"PvP\",\"Single-player\",\"VR Support\",\"Single-player\",\"Steam Cloud\",\"Steam Leaderboards\",\"Full controller support\",\"Steam Trading Cards\",\"Steam Workshop\",\"Multi-player\",\"Single-player\",\"Co-op\",\"MMO\",\"Steam Achievements\",\"Steam Cloud\",\"Steam Leaderboards\",\"Full controller support\",\"Online PvP\",\"Shared/Split Screen PvP\",\"Online Co-op\",\"PvP\",\"Single-player\",\"Steam Achievements\",\"Steam Cloud\",\"Full controller support\",\"Steam Trading Cards\",\"Remote Play on Phone\",\"Remote Play on Tablet\",\"Remote Play on TV\",\"Multi-player\",\"Single-player\",\"Partial Controller Support\",\"Steam Trading Cards\",\"In-App Purchases\",\"Online PvP\",\"PvP\",\"Multi-player\",\"Single-player\",\"Co-op\",\"Partial Controller Support\",\"Steam Trading Cards\",\"In-App Purchases\",\"Multi-player\",\"Single-player\",\"Co-op\",\"Full controller support\",\"Steam Trading Cards\",\"Online PvP\",\"Shared/Split Screen PvP\",\"Online Co-op\",\"Shared/Split Screen Co-op\",\"Remote Play on Phone\",\"Remote Play on Tablet\",\"Remote Play on TV\",\"Remote Play Together\",\"PvP\",\"Multi-player\",\"Single-player\",\"Co-op\",\"Steam Achievements\",\"Full controller support\",\"Online PvP\",\"Online Co-op\",\"Remote Play on TV\",\"PvP\",\"Multi-player\",\"Single-player\",\"Co-op\",\"Includes level editor\",\"Steam Achievements\",\"Steam Cloud\",\"Steam Trading Cards\",\"Steam Workshop\",\"Online PvP\",\"Online Co-op\",\"PvP\",\"Multi-player\",\"Single-player\",\"Co-op\",\"Stats\",\"Steam Achievements\",\"Steam Cloud\",\"Shared/Split Screen\",\"Full controller support\",\"Steam Trading Cards\",\"Steam Workshop\",\"Online PvP\",\"Shared/Split Screen Co-op\",\"Remote Play on TV\",\"Remote Play Together\",\"PvP\",\"Single-player\",\"Steam Achievements\",\"Steam Cloud\",\"Full controller support\",\"Steam Trading Cards\",\"Remote Play on TV\",\"Single-player\",\"Steam Achievements\",\"Full controller support\",\"Steam Trading Cards\",\"Remote Play on TV\",\"Single-player\",\"Partial Controller Support\",\"Steam Achievements\",\"Steam Trading Cards\",\"Remote Play on Phone\",\"Remote Play on Tablet\",\"Single-player\",\"Partial Controller Support\",\"Steam Achievements\",\"Steam Cloud\",\"Remote Play on Phone\",\"Remote Play on Tablet\",\"Multi-player\",\"Partial Controller Support\",\"Steam Achievements\",\"Steam Workshop\",\"In-App Purchases\",\"Online PvP\",\"PvP\",\"Single-player\",\"Steam Achievements\",\"Steam Cloud\",\"Steam Trading Cards\",\"Steam Workshop\",\"Single-player\",\"Steam Achievements\",\"Full controller support\",\"Single-player\",\"Steam Achievements\",\"Steam Cloud\",\"Full controller support\",\"Steam Trading Cards\",\"Remote Play on TV\",\"Single-player\",\"Steam Achievements\",\"Steam Cloud\",\"Full controller support\",\"Steam Trading Cards\",\"Remote Play on Phone\",\"Remote Play on Tablet\",\"Remote Play on TV\",\"Multi-player\",\"Single-player\",\"Steam Cloud\",\"In-App Purchases\",\"Online PvP\",\"PvP\",\"Single-player\",\"Steam Achievements\",\"Steam Cloud\",\"Full controller support\",\"Steam Trading Cards\",\"Multi-player\",\"Single-player\",\"Steam Achievements\",\"Steam Cloud\",\"Steam Trading Cards\",\"Steam Workshop\",\"Online PvP\",\"Remote Play on Tablet\",\"PvP\",\"Single-player\",\"Includes level editor\",\"Full controller support\",\"Steam Workshop\",\"Remote Play on Tablet\",\"Single-player\",\"Steam Achievements\",\"Full controller support\",\"Steam Trading Cards\",\"Remote Play on Tablet\",\"Remote Play on TV\",\"Multi-player\",\"Co-op\",\"Partial Controller Support\",\"Steam Achievements\",\"Cross-Platform Multiplayer\",\"Steam Trading Cards\",\"In-App Purchases\",\"Online PvP\",\"Online Co-op\",\"Remote Play on Phone\",\"Remote Play on Tablet\",\"PvP\",\"Single-player\",\"Steam Achievements\",\"Steam Cloud\",\"Full controller support\"],\"legendgroup\":\"\",\"name\":\"\",\"showlegend\":true,\"values\":[0.9320469798657718,0.9320469798657718,0.9320469798657718,0.9320469798657718,0.9320469798657718,0.9320469798657718,0.9770025031289111,0.9770025031289111,0.9770025031289111,0.9770025031289111,0.7465615257656336,0.7465615257656336,0.7465615257656336,0.7465615257656336,0.7465615257656336,0.7465615257656336,0.7735530626427082,0.7735530626427082,0.7735530626427082,0.7544891148895598,0.7544891148895598,0.7544891148895598,0.7544891148895598,0.7544891148895598,0.9256698357821953,0.9256698357821953,0.9256698357821953,0.9256698357821953,0.9256698357821953,0.9256698357821953,0.9256698357821953,0.9256698357821953,0.9256698357821953,0.9256698357821953,0.9256698357821953,0.979083885209713,0.979083885209713,0.979083885209713,0.979083885209713,0.979083885209713,0.979083885209713,0.979083885209713,0.979083885209713,0.5063139059304703,0.5063139059304703,0.5063139059304703,0.5063139059304703,0.9587618670886076,0.9587618670886076,0.9587618670886076,0.9587618670886076,0.9587618670886076,0.9587618670886076,0.9587618670886076,0.9587618670886076,0.9587618670886076,0.9587618670886076,0.9587618670886076,0.9587618670886076,0.9587618670886076,0.5791780172924316,0.5791780172924316,0.5791780172924316,0.5791780172924316,0.7426437735367333,0.7426437735367333,0.7426437735367333,0.7426437735367333,0.7426437735367333,0.7426437735367333,0.9245718050065876,0.9245718050065876,0.9245718050065876,0.9245718050065876,0.9245718050065876,0.9245718050065876,0.9245718050065876,0.9245718050065876,0.9245718050065876,0.8159932422919893,0.8159932422919893,0.8159932422919893,0.8159932422919893,0.8159932422919893,0.9709553528564571,0.9709553528564571,0.9709553528564571,0.9709553528564571,0.9709553528564571,0.9709553528564571,0.8634188777729448,0.8634188777729448,0.8634188777729448,0.8634188777729448,0.8634188777729448,0.8634188777729448,0.8634188777729448,0.8634188777729448,0.8634188777729448,0.8634188777729448,0.8634188777729448,0.8634188777729448,0.9701999611725879,0.9701999611725879,0.6835703978561122,0.6835703978561122,0.6835703978561122,0.6835703978561122,0.6835703978561122,0.6835703978561122,0.8526050948736765,0.8526050948736765,0.8526050948736765,0.8526050948736765,0.8526050948736765,0.8526050948736765,0.8526050948736765,0.8526050948736765,0.8526050948736765,0.8526050948736765,0.8526050948736765,0.8526050948736765,0.9101840043723811,0.9101840043723811,0.9101840043723811,0.9101840043723811,0.9101840043723811,0.9101840043723811,0.9101840043723811,0.9101840043723811,0.822131395700878,0.822131395700878,0.822131395700878,0.822131395700878,0.822131395700878,0.822131395700878,0.822131395700878,0.7956138367623785,0.7956138367623785,0.7956138367623785,0.7956138367623785,0.7956138367623785,0.7956138367623785,0.7310725046477339,0.7310725046477339,0.7310725046477339,0.7310725046477339,0.7310725046477339,0.7310725046477339,0.7310725046477339,0.7310725046477339,0.7310725046477339,0.7310725046477339,0.7310725046477339,0.7310725046477339,0.7310725046477339,0.7310725046477339,0.7155063291139241,0.7155063291139241,0.7155063291139241,0.7155063291139241,0.7155063291139241,0.7155063291139241,0.7155063291139241,0.7155063291139241,0.7155063291139241,0.9045996592844975,0.9045996592844975,0.9045996592844975,0.9045996592844975,0.9045996592844975,0.9045996592844975,0.9045996592844975,0.9045996592844975,0.9045996592844975,0.9045996592844975,0.9045996592844975,0.952645209027007,0.952645209027007,0.952645209027007,0.952645209027007,0.952645209027007,0.952645209027007,0.952645209027007,0.952645209027007,0.952645209027007,0.952645209027007,0.952645209027007,0.952645209027007,0.952645209027007,0.952645209027007,0.952645209027007,0.9060087785681853,0.9060087785681853,0.9060087785681853,0.9060087785681853,0.9060087785681853,0.9060087785681853,0.941942687011537,0.941942687011537,0.941942687011537,0.941942687011537,0.941942687011537,0.7804787759131293,0.7804787759131293,0.7804787759131293,0.7804787759131293,0.7804787759131293,0.7804787759131293,0.9528728619216932,0.9528728619216932,0.9528728619216932,0.9528728619216932,0.9528728619216932,0.9528728619216932,0.6179688363355067,0.6179688363355067,0.6179688363355067,0.6179688363355067,0.6179688363355067,0.6179688363355067,0.6179688363355067,0.898153547133139,0.898153547133139,0.898153547133139,0.898153547133139,0.898153547133139,0.8048327137546468,0.8048327137546468,0.8048327137546468,0.9386524822695036,0.9386524822695036,0.9386524822695036,0.9386524822695036,0.9386524822695036,0.9386524822695036,0.9762186531417301,0.9762186531417301,0.9762186531417301,0.9762186531417301,0.9762186531417301,0.9762186531417301,0.9762186531417301,0.9762186531417301,0.8766280381499333,0.8766280381499333,0.8766280381499333,0.8766280381499333,0.8766280381499333,0.8766280381499333,0.9790319354623641,0.9790319354623641,0.9790319354623641,0.9790319354623641,0.9790319354623641,0.9365851420180792,0.9365851420180792,0.9365851420180792,0.9365851420180792,0.9365851420180792,0.9365851420180792,0.9365851420180792,0.9365851420180792,0.9365851420180792,0.9535796454188659,0.9535796454188659,0.9535796454188659,0.9535796454188659,0.9535796454188659,0.9083362399720962,0.9083362399720962,0.9083362399720962,0.9083362399720962,0.9083362399720962,0.9083362399720962,0.9133139456502899,0.9133139456502899,0.9133139456502899,0.9133139456502899,0.9133139456502899,0.9133139456502899,0.9133139456502899,0.9133139456502899,0.9133139456502899,0.9133139456502899,0.9133139456502899,0.9133139456502899,0.9110501305133525,0.9110501305133525,0.9110501305133525,0.9110501305133525],\"type\":\"pie\"}],                        {\"template\":{\"data\":{\"bar\":[{\"error_x\":{\"color\":\"#2a3f5f\"},\"error_y\":{\"color\":\"#2a3f5f\"},\"marker\":{\"line\":{\"color\":\"#E5ECF6\",\"width\":0.5},\"pattern\":{\"fillmode\":\"overlay\",\"size\":10,\"solidity\":0.2}},\"type\":\"bar\"}],\"barpolar\":[{\"marker\":{\"line\":{\"color\":\"#E5ECF6\",\"width\":0.5},\"pattern\":{\"fillmode\":\"overlay\",\"size\":10,\"solidity\":0.2}},\"type\":\"barpolar\"}],\"carpet\":[{\"aaxis\":{\"endlinecolor\":\"#2a3f5f\",\"gridcolor\":\"white\",\"linecolor\":\"white\",\"minorgridcolor\":\"white\",\"startlinecolor\":\"#2a3f5f\"},\"baxis\":{\"endlinecolor\":\"#2a3f5f\",\"gridcolor\":\"white\",\"linecolor\":\"white\",\"minorgridcolor\":\"white\",\"startlinecolor\":\"#2a3f5f\"},\"type\":\"carpet\"}],\"choropleth\":[{\"colorbar\":{\"outlinewidth\":0,\"ticks\":\"\"},\"type\":\"choropleth\"}],\"contour\":[{\"colorbar\":{\"outlinewidth\":0,\"ticks\":\"\"},\"colorscale\":[[0.0,\"#0d0887\"],[0.1111111111111111,\"#46039f\"],[0.2222222222222222,\"#7201a8\"],[0.3333333333333333,\"#9c179e\"],[0.4444444444444444,\"#bd3786\"],[0.5555555555555556,\"#d8576b\"],[0.6666666666666666,\"#ed7953\"],[0.7777777777777778,\"#fb9f3a\"],[0.8888888888888888,\"#fdca26\"],[1.0,\"#f0f921\"]],\"type\":\"contour\"}],\"contourcarpet\":[{\"colorbar\":{\"outlinewidth\":0,\"ticks\":\"\"},\"type\":\"contourcarpet\"}],\"heatmap\":[{\"colorbar\":{\"outlinewidth\":0,\"ticks\":\"\"},\"colorscale\":[[0.0,\"#0d0887\"],[0.1111111111111111,\"#46039f\"],[0.2222222222222222,\"#7201a8\"],[0.3333333333333333,\"#9c179e\"],[0.4444444444444444,\"#bd3786\"],[0.5555555555555556,\"#d8576b\"],[0.6666666666666666,\"#ed7953\"],[0.7777777777777778,\"#fb9f3a\"],[0.8888888888888888,\"#fdca26\"],[1.0,\"#f0f921\"]],\"type\":\"heatmap\"}],\"heatmapgl\":[{\"colorbar\":{\"outlinewidth\":0,\"ticks\":\"\"},\"colorscale\":[[0.0,\"#0d0887\"],[0.1111111111111111,\"#46039f\"],[0.2222222222222222,\"#7201a8\"],[0.3333333333333333,\"#9c179e\"],[0.4444444444444444,\"#bd3786\"],[0.5555555555555556,\"#d8576b\"],[0.6666666666666666,\"#ed7953\"],[0.7777777777777778,\"#fb9f3a\"],[0.8888888888888888,\"#fdca26\"],[1.0,\"#f0f921\"]],\"type\":\"heatmapgl\"}],\"histogram\":[{\"marker\":{\"pattern\":{\"fillmode\":\"overlay\",\"size\":10,\"solidity\":0.2}},\"type\":\"histogram\"}],\"histogram2d\":[{\"colorbar\":{\"outlinewidth\":0,\"ticks\":\"\"},\"colorscale\":[[0.0,\"#0d0887\"],[0.1111111111111111,\"#46039f\"],[0.2222222222222222,\"#7201a8\"],[0.3333333333333333,\"#9c179e\"],[0.4444444444444444,\"#bd3786\"],[0.5555555555555556,\"#d8576b\"],[0.6666666666666666,\"#ed7953\"],[0.7777777777777778,\"#fb9f3a\"],[0.8888888888888888,\"#fdca26\"],[1.0,\"#f0f921\"]],\"type\":\"histogram2d\"}],\"histogram2dcontour\":[{\"colorbar\":{\"outlinewidth\":0,\"ticks\":\"\"},\"colorscale\":[[0.0,\"#0d0887\"],[0.1111111111111111,\"#46039f\"],[0.2222222222222222,\"#7201a8\"],[0.3333333333333333,\"#9c179e\"],[0.4444444444444444,\"#bd3786\"],[0.5555555555555556,\"#d8576b\"],[0.6666666666666666,\"#ed7953\"],[0.7777777777777778,\"#fb9f3a\"],[0.8888888888888888,\"#fdca26\"],[1.0,\"#f0f921\"]],\"type\":\"histogram2dcontour\"}],\"mesh3d\":[{\"colorbar\":{\"outlinewidth\":0,\"ticks\":\"\"},\"type\":\"mesh3d\"}],\"parcoords\":[{\"line\":{\"colorbar\":{\"outlinewidth\":0,\"ticks\":\"\"}},\"type\":\"parcoords\"}],\"pie\":[{\"automargin\":true,\"type\":\"pie\"}],\"scatter\":[{\"marker\":{\"colorbar\":{\"outlinewidth\":0,\"ticks\":\"\"}},\"type\":\"scatter\"}],\"scatter3d\":[{\"line\":{\"colorbar\":{\"outlinewidth\":0,\"ticks\":\"\"}},\"marker\":{\"colorbar\":{\"outlinewidth\":0,\"ticks\":\"\"}},\"type\":\"scatter3d\"}],\"scattercarpet\":[{\"marker\":{\"colorbar\":{\"outlinewidth\":0,\"ticks\":\"\"}},\"type\":\"scattercarpet\"}],\"scattergeo\":[{\"marker\":{\"colorbar\":{\"outlinewidth\":0,\"ticks\":\"\"}},\"type\":\"scattergeo\"}],\"scattergl\":[{\"marker\":{\"colorbar\":{\"outlinewidth\":0,\"ticks\":\"\"}},\"type\":\"scattergl\"}],\"scattermapbox\":[{\"marker\":{\"colorbar\":{\"outlinewidth\":0,\"ticks\":\"\"}},\"type\":\"scattermapbox\"}],\"scatterpolar\":[{\"marker\":{\"colorbar\":{\"outlinewidth\":0,\"ticks\":\"\"}},\"type\":\"scatterpolar\"}],\"scatterpolargl\":[{\"marker\":{\"colorbar\":{\"outlinewidth\":0,\"ticks\":\"\"}},\"type\":\"scatterpolargl\"}],\"scatterternary\":[{\"marker\":{\"colorbar\":{\"outlinewidth\":0,\"ticks\":\"\"}},\"type\":\"scatterternary\"}],\"surface\":[{\"colorbar\":{\"outlinewidth\":0,\"ticks\":\"\"},\"colorscale\":[[0.0,\"#0d0887\"],[0.1111111111111111,\"#46039f\"],[0.2222222222222222,\"#7201a8\"],[0.3333333333333333,\"#9c179e\"],[0.4444444444444444,\"#bd3786\"],[0.5555555555555556,\"#d8576b\"],[0.6666666666666666,\"#ed7953\"],[0.7777777777777778,\"#fb9f3a\"],[0.8888888888888888,\"#fdca26\"],[1.0,\"#f0f921\"]],\"type\":\"surface\"}],\"table\":[{\"cells\":{\"fill\":{\"color\":\"#EBF0F8\"},\"line\":{\"color\":\"white\"}},\"header\":{\"fill\":{\"color\":\"#C8D4E3\"},\"line\":{\"color\":\"white\"}},\"type\":\"table\"}]},\"layout\":{\"annotationdefaults\":{\"arrowcolor\":\"#2a3f5f\",\"arrowhead\":0,\"arrowwidth\":1},\"autotypenumbers\":\"strict\",\"coloraxis\":{\"colorbar\":{\"outlinewidth\":0,\"ticks\":\"\"}},\"colorscale\":{\"diverging\":[[0,\"#8e0152\"],[0.1,\"#c51b7d\"],[0.2,\"#de77ae\"],[0.3,\"#f1b6da\"],[0.4,\"#fde0ef\"],[0.5,\"#f7f7f7\"],[0.6,\"#e6f5d0\"],[0.7,\"#b8e186\"],[0.8,\"#7fbc41\"],[0.9,\"#4d9221\"],[1,\"#276419\"]],\"sequential\":[[0.0,\"#0d0887\"],[0.1111111111111111,\"#46039f\"],[0.2222222222222222,\"#7201a8\"],[0.3333333333333333,\"#9c179e\"],[0.4444444444444444,\"#bd3786\"],[0.5555555555555556,\"#d8576b\"],[0.6666666666666666,\"#ed7953\"],[0.7777777777777778,\"#fb9f3a\"],[0.8888888888888888,\"#fdca26\"],[1.0,\"#f0f921\"]],\"sequentialminus\":[[0.0,\"#0d0887\"],[0.1111111111111111,\"#46039f\"],[0.2222222222222222,\"#7201a8\"],[0.3333333333333333,\"#9c179e\"],[0.4444444444444444,\"#bd3786\"],[0.5555555555555556,\"#d8576b\"],[0.6666666666666666,\"#ed7953\"],[0.7777777777777778,\"#fb9f3a\"],[0.8888888888888888,\"#fdca26\"],[1.0,\"#f0f921\"]]},\"colorway\":[\"#636efa\",\"#EF553B\",\"#00cc96\",\"#ab63fa\",\"#FFA15A\",\"#19d3f3\",\"#FF6692\",\"#B6E880\",\"#FF97FF\",\"#FECB52\"],\"font\":{\"color\":\"#2a3f5f\"},\"geo\":{\"bgcolor\":\"white\",\"lakecolor\":\"white\",\"landcolor\":\"#E5ECF6\",\"showlakes\":true,\"showland\":true,\"subunitcolor\":\"white\"},\"hoverlabel\":{\"align\":\"left\"},\"hovermode\":\"closest\",\"mapbox\":{\"style\":\"light\"},\"paper_bgcolor\":\"white\",\"plot_bgcolor\":\"#E5ECF6\",\"polar\":{\"angularaxis\":{\"gridcolor\":\"white\",\"linecolor\":\"white\",\"ticks\":\"\"},\"bgcolor\":\"#E5ECF6\",\"radialaxis\":{\"gridcolor\":\"white\",\"linecolor\":\"white\",\"ticks\":\"\"}},\"scene\":{\"xaxis\":{\"backgroundcolor\":\"#E5ECF6\",\"gridcolor\":\"white\",\"gridwidth\":2,\"linecolor\":\"white\",\"showbackground\":true,\"ticks\":\"\",\"zerolinecolor\":\"white\"},\"yaxis\":{\"backgroundcolor\":\"#E5ECF6\",\"gridcolor\":\"white\",\"gridwidth\":2,\"linecolor\":\"white\",\"showbackground\":true,\"ticks\":\"\",\"zerolinecolor\":\"white\"},\"zaxis\":{\"backgroundcolor\":\"#E5ECF6\",\"gridcolor\":\"white\",\"gridwidth\":2,\"linecolor\":\"white\",\"showbackground\":true,\"ticks\":\"\",\"zerolinecolor\":\"white\"}},\"shapedefaults\":{\"line\":{\"color\":\"#2a3f5f\"}},\"ternary\":{\"aaxis\":{\"gridcolor\":\"white\",\"linecolor\":\"white\",\"ticks\":\"\"},\"baxis\":{\"gridcolor\":\"white\",\"linecolor\":\"white\",\"ticks\":\"\"},\"bgcolor\":\"#E5ECF6\",\"caxis\":{\"gridcolor\":\"white\",\"linecolor\":\"white\",\"ticks\":\"\"}},\"title\":{\"x\":0.05},\"xaxis\":{\"automargin\":true,\"gridcolor\":\"white\",\"linecolor\":\"white\",\"ticks\":\"\",\"title\":{\"standoff\":15},\"zerolinecolor\":\"white\",\"zerolinewidth\":2},\"yaxis\":{\"automargin\":true,\"gridcolor\":\"white\",\"linecolor\":\"white\",\"ticks\":\"\",\"title\":{\"standoff\":15},\"zerolinecolor\":\"white\",\"zerolinewidth\":2}}},\"legend\":{\"tracegroupgap\":0},\"title\":{\"text\":\"Category popularity by the % of positive reviews\"}},                        {\"responsive\": true}                    ).then(function(){\n",
       "                            \n",
       "var gd = document.getElementById('a09de02a-8858-40c4-bb0c-fce4b9ea7a53');\n",
       "var x = new MutationObserver(function (mutations, observer) {{\n",
       "        var display = window.getComputedStyle(gd).display;\n",
       "        if (!display || display === 'none') {{\n",
       "            console.log([gd, 'removed!']);\n",
       "            Plotly.purge(gd);\n",
       "            observer.disconnect();\n",
       "        }}\n",
       "}});\n",
       "\n",
       "// Listen for the removal of the full notebook cells\n",
       "var notebookContainer = gd.closest('#notebook-container');\n",
       "if (notebookContainer) {{\n",
       "    x.observe(notebookContainer, {childList: true});\n",
       "}}\n",
       "\n",
       "// Listen for the clearing of the current output cell\n",
       "var outputEl = gd.closest('.output');\n",
       "if (outputEl) {{\n",
       "    x.observe(outputEl, {childList: true});\n",
       "}}\n",
       "\n",
       "                        })                };                });            </script>        </div>"
      ]
     },
     "metadata": {},
     "output_type": "display_data"
    }
   ],
   "source": [
    "fig = px.pie(df_category, values='procent_positive', names='category_descript', title='Category popularity by the % of positive reviews')\n",
    "fig.show()"
   ]
  },
  {
   "cell_type": "code",
   "execution_count": 136,
   "id": "e1e0b1f6",
   "metadata": {},
   "outputs": [],
   "source": [
    " df_category['category_descript_2'] =  df_category.category_descript.apply(lambda x: x if x in ['Single-player', 'Steam Achievements', 'Steam Trading Cards', 'Steam Cloud', 'Full controller support'] else 'Other')"
   ]
  },
  {
   "cell_type": "code",
   "execution_count": 137,
   "id": "5fd6ac5a",
   "metadata": {},
   "outputs": [
    {
     "data": {
      "application/vnd.plotly.v1+json": {
       "config": {
        "plotlyServerURL": "https://plot.ly"
       },
       "data": [
        {
         "domain": {
          "x": [
           0,
           1
          ],
          "y": [
           0,
           1
          ]
         },
         "hovertemplate": "category_descript_2=%{label}<br>procent_positive=%{value}<extra></extra>",
         "labels": [
          "Single-player",
          "Steam Achievements",
          "Steam Cloud",
          "Full controller support",
          "Steam Trading Cards",
          "Other",
          "Single-player",
          "Steam Achievements",
          "Steam Cloud",
          "Steam Trading Cards",
          "Single-player",
          "Steam Achievements",
          "Steam Cloud",
          "Full controller support",
          "Steam Trading Cards",
          "Other",
          "Other",
          "Other",
          "Other",
          "Single-player",
          "Steam Achievements",
          "Steam Cloud",
          "Full controller support",
          "Steam Trading Cards",
          "Other",
          "Single-player",
          "Steam Achievements",
          "Steam Cloud",
          "Other",
          "Full controller support",
          "Steam Trading Cards",
          "Other",
          "Other",
          "Other",
          "Other",
          "Single-player",
          "Steam Achievements",
          "Steam Cloud",
          "Full controller support",
          "Steam Trading Cards",
          "Other",
          "Other",
          "Other",
          "Other",
          "Other",
          "Other",
          "Other",
          "Other",
          "Single-player",
          "Other",
          "Other",
          "Steam Achievements",
          "Steam Cloud",
          "Other",
          "Full controller support",
          "Steam Trading Cards",
          "Other",
          "Other",
          "Other",
          "Other",
          "Other",
          "Other",
          "Full controller support",
          "Other",
          "Other",
          "Other",
          "Steam Achievements",
          "Other",
          "Full controller support",
          "Other",
          "Other",
          "Single-player",
          "Other",
          "Steam Achievements",
          "Steam Cloud",
          "Other",
          "Full controller support",
          "Steam Trading Cards",
          "Other",
          "Other",
          "Single-player",
          "Other",
          "Other",
          "Other",
          "Single-player",
          "Steam Achievements",
          "Steam Cloud",
          "Steam Trading Cards",
          "Other",
          "Other",
          "Other",
          "Other",
          "Other",
          "Other",
          "Other",
          "Other",
          "Steam Achievements",
          "Steam Cloud",
          "Other",
          "Other",
          "Other",
          "Other",
          "Single-player",
          "Other",
          "Single-player",
          "Steam Cloud",
          "Other",
          "Full controller support",
          "Steam Trading Cards",
          "Other",
          "Other",
          "Single-player",
          "Other",
          "Other",
          "Steam Achievements",
          "Steam Cloud",
          "Other",
          "Full controller support",
          "Other",
          "Other",
          "Other",
          "Other",
          "Single-player",
          "Steam Achievements",
          "Steam Cloud",
          "Full controller support",
          "Steam Trading Cards",
          "Other",
          "Other",
          "Other",
          "Other",
          "Single-player",
          "Other",
          "Steam Trading Cards",
          "Other",
          "Other",
          "Other",
          "Other",
          "Single-player",
          "Other",
          "Other",
          "Steam Trading Cards",
          "Other",
          "Other",
          "Single-player",
          "Other",
          "Full controller support",
          "Steam Trading Cards",
          "Other",
          "Other",
          "Other",
          "Other",
          "Other",
          "Other",
          "Other",
          "Other",
          "Other",
          "Other",
          "Single-player",
          "Other",
          "Steam Achievements",
          "Full controller support",
          "Other",
          "Other",
          "Other",
          "Other",
          "Other",
          "Single-player",
          "Other",
          "Other",
          "Steam Achievements",
          "Steam Cloud",
          "Steam Trading Cards",
          "Other",
          "Other",
          "Other",
          "Other",
          "Other",
          "Single-player",
          "Other",
          "Other",
          "Steam Achievements",
          "Steam Cloud",
          "Other",
          "Full controller support",
          "Steam Trading Cards",
          "Other",
          "Other",
          "Other",
          "Other",
          "Other",
          "Other",
          "Single-player",
          "Steam Achievements",
          "Steam Cloud",
          "Full controller support",
          "Steam Trading Cards",
          "Other",
          "Single-player",
          "Steam Achievements",
          "Full controller support",
          "Steam Trading Cards",
          "Other",
          "Single-player",
          "Other",
          "Steam Achievements",
          "Steam Trading Cards",
          "Other",
          "Other",
          "Single-player",
          "Other",
          "Steam Achievements",
          "Steam Cloud",
          "Other",
          "Other",
          "Other",
          "Other",
          "Steam Achievements",
          "Other",
          "Other",
          "Other",
          "Other",
          "Single-player",
          "Steam Achievements",
          "Steam Cloud",
          "Steam Trading Cards",
          "Other",
          "Single-player",
          "Steam Achievements",
          "Full controller support",
          "Single-player",
          "Steam Achievements",
          "Steam Cloud",
          "Full controller support",
          "Steam Trading Cards",
          "Other",
          "Single-player",
          "Steam Achievements",
          "Steam Cloud",
          "Full controller support",
          "Steam Trading Cards",
          "Other",
          "Other",
          "Other",
          "Other",
          "Single-player",
          "Steam Cloud",
          "Other",
          "Other",
          "Other",
          "Single-player",
          "Steam Achievements",
          "Steam Cloud",
          "Full controller support",
          "Steam Trading Cards",
          "Other",
          "Single-player",
          "Steam Achievements",
          "Steam Cloud",
          "Steam Trading Cards",
          "Other",
          "Other",
          "Other",
          "Other",
          "Single-player",
          "Other",
          "Full controller support",
          "Other",
          "Other",
          "Single-player",
          "Steam Achievements",
          "Full controller support",
          "Steam Trading Cards",
          "Other",
          "Other",
          "Other",
          "Other",
          "Other",
          "Steam Achievements",
          "Other",
          "Steam Trading Cards",
          "Other",
          "Other",
          "Other",
          "Other",
          "Other",
          "Other",
          "Single-player",
          "Steam Achievements",
          "Steam Cloud",
          "Full controller support"
         ],
         "legendgroup": "",
         "name": "",
         "showlegend": true,
         "type": "pie",
         "values": [
          0.9320469798657718,
          0.9320469798657718,
          0.9320469798657718,
          0.9320469798657718,
          0.9320469798657718,
          0.9320469798657718,
          0.9770025031289111,
          0.9770025031289111,
          0.9770025031289111,
          0.9770025031289111,
          0.7465615257656336,
          0.7465615257656336,
          0.7465615257656336,
          0.7465615257656336,
          0.7465615257656336,
          0.7465615257656336,
          0.7735530626427082,
          0.7735530626427082,
          0.7735530626427082,
          0.7544891148895598,
          0.7544891148895598,
          0.7544891148895598,
          0.7544891148895598,
          0.7544891148895598,
          0.9256698357821953,
          0.9256698357821953,
          0.9256698357821953,
          0.9256698357821953,
          0.9256698357821953,
          0.9256698357821953,
          0.9256698357821953,
          0.9256698357821953,
          0.9256698357821953,
          0.9256698357821953,
          0.9256698357821953,
          0.979083885209713,
          0.979083885209713,
          0.979083885209713,
          0.979083885209713,
          0.979083885209713,
          0.979083885209713,
          0.979083885209713,
          0.979083885209713,
          0.5063139059304703,
          0.5063139059304703,
          0.5063139059304703,
          0.5063139059304703,
          0.9587618670886076,
          0.9587618670886076,
          0.9587618670886076,
          0.9587618670886076,
          0.9587618670886076,
          0.9587618670886076,
          0.9587618670886076,
          0.9587618670886076,
          0.9587618670886076,
          0.9587618670886076,
          0.9587618670886076,
          0.9587618670886076,
          0.9587618670886076,
          0.5791780172924316,
          0.5791780172924316,
          0.5791780172924316,
          0.5791780172924316,
          0.7426437735367333,
          0.7426437735367333,
          0.7426437735367333,
          0.7426437735367333,
          0.7426437735367333,
          0.7426437735367333,
          0.9245718050065876,
          0.9245718050065876,
          0.9245718050065876,
          0.9245718050065876,
          0.9245718050065876,
          0.9245718050065876,
          0.9245718050065876,
          0.9245718050065876,
          0.9245718050065876,
          0.8159932422919893,
          0.8159932422919893,
          0.8159932422919893,
          0.8159932422919893,
          0.8159932422919893,
          0.9709553528564571,
          0.9709553528564571,
          0.9709553528564571,
          0.9709553528564571,
          0.9709553528564571,
          0.9709553528564571,
          0.8634188777729448,
          0.8634188777729448,
          0.8634188777729448,
          0.8634188777729448,
          0.8634188777729448,
          0.8634188777729448,
          0.8634188777729448,
          0.8634188777729448,
          0.8634188777729448,
          0.8634188777729448,
          0.8634188777729448,
          0.8634188777729448,
          0.9701999611725879,
          0.9701999611725879,
          0.6835703978561122,
          0.6835703978561122,
          0.6835703978561122,
          0.6835703978561122,
          0.6835703978561122,
          0.6835703978561122,
          0.8526050948736765,
          0.8526050948736765,
          0.8526050948736765,
          0.8526050948736765,
          0.8526050948736765,
          0.8526050948736765,
          0.8526050948736765,
          0.8526050948736765,
          0.8526050948736765,
          0.8526050948736765,
          0.8526050948736765,
          0.8526050948736765,
          0.9101840043723811,
          0.9101840043723811,
          0.9101840043723811,
          0.9101840043723811,
          0.9101840043723811,
          0.9101840043723811,
          0.9101840043723811,
          0.9101840043723811,
          0.822131395700878,
          0.822131395700878,
          0.822131395700878,
          0.822131395700878,
          0.822131395700878,
          0.822131395700878,
          0.822131395700878,
          0.7956138367623785,
          0.7956138367623785,
          0.7956138367623785,
          0.7956138367623785,
          0.7956138367623785,
          0.7956138367623785,
          0.7310725046477339,
          0.7310725046477339,
          0.7310725046477339,
          0.7310725046477339,
          0.7310725046477339,
          0.7310725046477339,
          0.7310725046477339,
          0.7310725046477339,
          0.7310725046477339,
          0.7310725046477339,
          0.7310725046477339,
          0.7310725046477339,
          0.7310725046477339,
          0.7310725046477339,
          0.7155063291139241,
          0.7155063291139241,
          0.7155063291139241,
          0.7155063291139241,
          0.7155063291139241,
          0.7155063291139241,
          0.7155063291139241,
          0.7155063291139241,
          0.7155063291139241,
          0.9045996592844975,
          0.9045996592844975,
          0.9045996592844975,
          0.9045996592844975,
          0.9045996592844975,
          0.9045996592844975,
          0.9045996592844975,
          0.9045996592844975,
          0.9045996592844975,
          0.9045996592844975,
          0.9045996592844975,
          0.952645209027007,
          0.952645209027007,
          0.952645209027007,
          0.952645209027007,
          0.952645209027007,
          0.952645209027007,
          0.952645209027007,
          0.952645209027007,
          0.952645209027007,
          0.952645209027007,
          0.952645209027007,
          0.952645209027007,
          0.952645209027007,
          0.952645209027007,
          0.952645209027007,
          0.9060087785681853,
          0.9060087785681853,
          0.9060087785681853,
          0.9060087785681853,
          0.9060087785681853,
          0.9060087785681853,
          0.941942687011537,
          0.941942687011537,
          0.941942687011537,
          0.941942687011537,
          0.941942687011537,
          0.7804787759131293,
          0.7804787759131293,
          0.7804787759131293,
          0.7804787759131293,
          0.7804787759131293,
          0.7804787759131293,
          0.9528728619216932,
          0.9528728619216932,
          0.9528728619216932,
          0.9528728619216932,
          0.9528728619216932,
          0.9528728619216932,
          0.6179688363355067,
          0.6179688363355067,
          0.6179688363355067,
          0.6179688363355067,
          0.6179688363355067,
          0.6179688363355067,
          0.6179688363355067,
          0.898153547133139,
          0.898153547133139,
          0.898153547133139,
          0.898153547133139,
          0.898153547133139,
          0.8048327137546468,
          0.8048327137546468,
          0.8048327137546468,
          0.9386524822695036,
          0.9386524822695036,
          0.9386524822695036,
          0.9386524822695036,
          0.9386524822695036,
          0.9386524822695036,
          0.9762186531417301,
          0.9762186531417301,
          0.9762186531417301,
          0.9762186531417301,
          0.9762186531417301,
          0.9762186531417301,
          0.9762186531417301,
          0.9762186531417301,
          0.8766280381499333,
          0.8766280381499333,
          0.8766280381499333,
          0.8766280381499333,
          0.8766280381499333,
          0.8766280381499333,
          0.9790319354623641,
          0.9790319354623641,
          0.9790319354623641,
          0.9790319354623641,
          0.9790319354623641,
          0.9365851420180792,
          0.9365851420180792,
          0.9365851420180792,
          0.9365851420180792,
          0.9365851420180792,
          0.9365851420180792,
          0.9365851420180792,
          0.9365851420180792,
          0.9365851420180792,
          0.9535796454188659,
          0.9535796454188659,
          0.9535796454188659,
          0.9535796454188659,
          0.9535796454188659,
          0.9083362399720962,
          0.9083362399720962,
          0.9083362399720962,
          0.9083362399720962,
          0.9083362399720962,
          0.9083362399720962,
          0.9133139456502899,
          0.9133139456502899,
          0.9133139456502899,
          0.9133139456502899,
          0.9133139456502899,
          0.9133139456502899,
          0.9133139456502899,
          0.9133139456502899,
          0.9133139456502899,
          0.9133139456502899,
          0.9133139456502899,
          0.9133139456502899,
          0.9110501305133525,
          0.9110501305133525,
          0.9110501305133525,
          0.9110501305133525
         ]
        }
       ],
       "layout": {
        "legend": {
         "tracegroupgap": 0
        },
        "template": {
         "data": {
          "bar": [
           {
            "error_x": {
             "color": "rgb(51,51,51)"
            },
            "error_y": {
             "color": "rgb(51,51,51)"
            },
            "marker": {
             "line": {
              "color": "rgb(237,237,237)",
              "width": 0.5
             },
             "pattern": {
              "fillmode": "overlay",
              "size": 10,
              "solidity": 0.2
             }
            },
            "type": "bar"
           }
          ],
          "barpolar": [
           {
            "marker": {
             "line": {
              "color": "rgb(237,237,237)",
              "width": 0.5
             },
             "pattern": {
              "fillmode": "overlay",
              "size": 10,
              "solidity": 0.2
             }
            },
            "type": "barpolar"
           }
          ],
          "carpet": [
           {
            "aaxis": {
             "endlinecolor": "rgb(51,51,51)",
             "gridcolor": "white",
             "linecolor": "white",
             "minorgridcolor": "white",
             "startlinecolor": "rgb(51,51,51)"
            },
            "baxis": {
             "endlinecolor": "rgb(51,51,51)",
             "gridcolor": "white",
             "linecolor": "white",
             "minorgridcolor": "white",
             "startlinecolor": "rgb(51,51,51)"
            },
            "type": "carpet"
           }
          ],
          "choropleth": [
           {
            "colorbar": {
             "outlinewidth": 0,
             "tickcolor": "rgb(237,237,237)",
             "ticklen": 6,
             "ticks": "inside"
            },
            "type": "choropleth"
           }
          ],
          "contour": [
           {
            "colorbar": {
             "outlinewidth": 0,
             "tickcolor": "rgb(237,237,237)",
             "ticklen": 6,
             "ticks": "inside"
            },
            "colorscale": [
             [
              0,
              "rgb(20,44,66)"
             ],
             [
              1,
              "rgb(90,179,244)"
             ]
            ],
            "type": "contour"
           }
          ],
          "contourcarpet": [
           {
            "colorbar": {
             "outlinewidth": 0,
             "tickcolor": "rgb(237,237,237)",
             "ticklen": 6,
             "ticks": "inside"
            },
            "type": "contourcarpet"
           }
          ],
          "heatmap": [
           {
            "colorbar": {
             "outlinewidth": 0,
             "tickcolor": "rgb(237,237,237)",
             "ticklen": 6,
             "ticks": "inside"
            },
            "colorscale": [
             [
              0,
              "rgb(20,44,66)"
             ],
             [
              1,
              "rgb(90,179,244)"
             ]
            ],
            "type": "heatmap"
           }
          ],
          "heatmapgl": [
           {
            "colorbar": {
             "outlinewidth": 0,
             "tickcolor": "rgb(237,237,237)",
             "ticklen": 6,
             "ticks": "inside"
            },
            "colorscale": [
             [
              0,
              "rgb(20,44,66)"
             ],
             [
              1,
              "rgb(90,179,244)"
             ]
            ],
            "type": "heatmapgl"
           }
          ],
          "histogram": [
           {
            "marker": {
             "pattern": {
              "fillmode": "overlay",
              "size": 10,
              "solidity": 0.2
             }
            },
            "type": "histogram"
           }
          ],
          "histogram2d": [
           {
            "colorbar": {
             "outlinewidth": 0,
             "tickcolor": "rgb(237,237,237)",
             "ticklen": 6,
             "ticks": "inside"
            },
            "colorscale": [
             [
              0,
              "rgb(20,44,66)"
             ],
             [
              1,
              "rgb(90,179,244)"
             ]
            ],
            "type": "histogram2d"
           }
          ],
          "histogram2dcontour": [
           {
            "colorbar": {
             "outlinewidth": 0,
             "tickcolor": "rgb(237,237,237)",
             "ticklen": 6,
             "ticks": "inside"
            },
            "colorscale": [
             [
              0,
              "rgb(20,44,66)"
             ],
             [
              1,
              "rgb(90,179,244)"
             ]
            ],
            "type": "histogram2dcontour"
           }
          ],
          "mesh3d": [
           {
            "colorbar": {
             "outlinewidth": 0,
             "tickcolor": "rgb(237,237,237)",
             "ticklen": 6,
             "ticks": "inside"
            },
            "type": "mesh3d"
           }
          ],
          "parcoords": [
           {
            "line": {
             "colorbar": {
              "outlinewidth": 0,
              "tickcolor": "rgb(237,237,237)",
              "ticklen": 6,
              "ticks": "inside"
             }
            },
            "type": "parcoords"
           }
          ],
          "pie": [
           {
            "automargin": true,
            "type": "pie"
           }
          ],
          "scatter": [
           {
            "marker": {
             "colorbar": {
              "outlinewidth": 0,
              "tickcolor": "rgb(237,237,237)",
              "ticklen": 6,
              "ticks": "inside"
             }
            },
            "type": "scatter"
           }
          ],
          "scatter3d": [
           {
            "line": {
             "colorbar": {
              "outlinewidth": 0,
              "tickcolor": "rgb(237,237,237)",
              "ticklen": 6,
              "ticks": "inside"
             }
            },
            "marker": {
             "colorbar": {
              "outlinewidth": 0,
              "tickcolor": "rgb(237,237,237)",
              "ticklen": 6,
              "ticks": "inside"
             }
            },
            "type": "scatter3d"
           }
          ],
          "scattercarpet": [
           {
            "marker": {
             "colorbar": {
              "outlinewidth": 0,
              "tickcolor": "rgb(237,237,237)",
              "ticklen": 6,
              "ticks": "inside"
             }
            },
            "type": "scattercarpet"
           }
          ],
          "scattergeo": [
           {
            "marker": {
             "colorbar": {
              "outlinewidth": 0,
              "tickcolor": "rgb(237,237,237)",
              "ticklen": 6,
              "ticks": "inside"
             }
            },
            "type": "scattergeo"
           }
          ],
          "scattergl": [
           {
            "marker": {
             "colorbar": {
              "outlinewidth": 0,
              "tickcolor": "rgb(237,237,237)",
              "ticklen": 6,
              "ticks": "inside"
             }
            },
            "type": "scattergl"
           }
          ],
          "scattermapbox": [
           {
            "marker": {
             "colorbar": {
              "outlinewidth": 0,
              "tickcolor": "rgb(237,237,237)",
              "ticklen": 6,
              "ticks": "inside"
             }
            },
            "type": "scattermapbox"
           }
          ],
          "scatterpolar": [
           {
            "marker": {
             "colorbar": {
              "outlinewidth": 0,
              "tickcolor": "rgb(237,237,237)",
              "ticklen": 6,
              "ticks": "inside"
             }
            },
            "type": "scatterpolar"
           }
          ],
          "scatterpolargl": [
           {
            "marker": {
             "colorbar": {
              "outlinewidth": 0,
              "tickcolor": "rgb(237,237,237)",
              "ticklen": 6,
              "ticks": "inside"
             }
            },
            "type": "scatterpolargl"
           }
          ],
          "scatterternary": [
           {
            "marker": {
             "colorbar": {
              "outlinewidth": 0,
              "tickcolor": "rgb(237,237,237)",
              "ticklen": 6,
              "ticks": "inside"
             }
            },
            "type": "scatterternary"
           }
          ],
          "surface": [
           {
            "colorbar": {
             "outlinewidth": 0,
             "tickcolor": "rgb(237,237,237)",
             "ticklen": 6,
             "ticks": "inside"
            },
            "colorscale": [
             [
              0,
              "rgb(20,44,66)"
             ],
             [
              1,
              "rgb(90,179,244)"
             ]
            ],
            "type": "surface"
           }
          ],
          "table": [
           {
            "cells": {
             "fill": {
              "color": "rgb(237,237,237)"
             },
             "line": {
              "color": "white"
             }
            },
            "header": {
             "fill": {
              "color": "rgb(217,217,217)"
             },
             "line": {
              "color": "white"
             }
            },
            "type": "table"
           }
          ]
         },
         "layout": {
          "annotationdefaults": {
           "arrowhead": 0,
           "arrowwidth": 1
          },
          "autotypenumbers": "strict",
          "coloraxis": {
           "colorbar": {
            "outlinewidth": 0,
            "tickcolor": "rgb(237,237,237)",
            "ticklen": 6,
            "ticks": "inside"
           }
          },
          "colorscale": {
           "sequential": [
            [
             0,
             "rgb(20,44,66)"
            ],
            [
             1,
             "rgb(90,179,244)"
            ]
           ],
           "sequentialminus": [
            [
             0,
             "rgb(20,44,66)"
            ],
            [
             1,
             "rgb(90,179,244)"
            ]
           ]
          },
          "colorway": [
           "#F8766D",
           "#A3A500",
           "#00BF7D",
           "#00B0F6",
           "#E76BF3"
          ],
          "font": {
           "color": "rgb(51,51,51)"
          },
          "geo": {
           "bgcolor": "white",
           "lakecolor": "white",
           "landcolor": "rgb(237,237,237)",
           "showlakes": true,
           "showland": true,
           "subunitcolor": "white"
          },
          "hoverlabel": {
           "align": "left"
          },
          "hovermode": "closest",
          "paper_bgcolor": "white",
          "plot_bgcolor": "rgb(237,237,237)",
          "polar": {
           "angularaxis": {
            "gridcolor": "white",
            "linecolor": "white",
            "showgrid": true,
            "tickcolor": "rgb(51,51,51)",
            "ticks": "outside"
           },
           "bgcolor": "rgb(237,237,237)",
           "radialaxis": {
            "gridcolor": "white",
            "linecolor": "white",
            "showgrid": true,
            "tickcolor": "rgb(51,51,51)",
            "ticks": "outside"
           }
          },
          "scene": {
           "xaxis": {
            "backgroundcolor": "rgb(237,237,237)",
            "gridcolor": "white",
            "gridwidth": 2,
            "linecolor": "white",
            "showbackground": true,
            "showgrid": true,
            "tickcolor": "rgb(51,51,51)",
            "ticks": "outside",
            "zerolinecolor": "white"
           },
           "yaxis": {
            "backgroundcolor": "rgb(237,237,237)",
            "gridcolor": "white",
            "gridwidth": 2,
            "linecolor": "white",
            "showbackground": true,
            "showgrid": true,
            "tickcolor": "rgb(51,51,51)",
            "ticks": "outside",
            "zerolinecolor": "white"
           },
           "zaxis": {
            "backgroundcolor": "rgb(237,237,237)",
            "gridcolor": "white",
            "gridwidth": 2,
            "linecolor": "white",
            "showbackground": true,
            "showgrid": true,
            "tickcolor": "rgb(51,51,51)",
            "ticks": "outside",
            "zerolinecolor": "white"
           }
          },
          "shapedefaults": {
           "fillcolor": "black",
           "line": {
            "width": 0
           },
           "opacity": 0.3
          },
          "ternary": {
           "aaxis": {
            "gridcolor": "white",
            "linecolor": "white",
            "showgrid": true,
            "tickcolor": "rgb(51,51,51)",
            "ticks": "outside"
           },
           "baxis": {
            "gridcolor": "white",
            "linecolor": "white",
            "showgrid": true,
            "tickcolor": "rgb(51,51,51)",
            "ticks": "outside"
           },
           "bgcolor": "rgb(237,237,237)",
           "caxis": {
            "gridcolor": "white",
            "linecolor": "white",
            "showgrid": true,
            "tickcolor": "rgb(51,51,51)",
            "ticks": "outside"
           }
          },
          "xaxis": {
           "automargin": true,
           "gridcolor": "white",
           "linecolor": "white",
           "showgrid": true,
           "tickcolor": "rgb(51,51,51)",
           "ticks": "outside",
           "title": {
            "standoff": 15
           },
           "zerolinecolor": "white"
          },
          "yaxis": {
           "automargin": true,
           "gridcolor": "white",
           "linecolor": "white",
           "showgrid": true,
           "tickcolor": "rgb(51,51,51)",
           "ticks": "outside",
           "title": {
            "standoff": 15
           },
           "zerolinecolor": "white"
          }
         }
        },
        "title": {
         "text": "Category popularity by the % of positive reviews"
        }
       }
      },
      "text/html": [
       "<div>                            <div id=\"b0cfb082-6fed-436b-882c-02f0736cdbd8\" class=\"plotly-graph-div\" style=\"height:525px; width:100%;\"></div>            <script type=\"text/javascript\">                require([\"plotly\"], function(Plotly) {                    window.PLOTLYENV=window.PLOTLYENV || {};                                    if (document.getElementById(\"b0cfb082-6fed-436b-882c-02f0736cdbd8\")) {                    Plotly.newPlot(                        \"b0cfb082-6fed-436b-882c-02f0736cdbd8\",                        [{\"domain\":{\"x\":[0.0,1.0],\"y\":[0.0,1.0]},\"hovertemplate\":\"category_descript_2=%{label}<br>procent_positive=%{value}<extra></extra>\",\"labels\":[\"Single-player\",\"Steam Achievements\",\"Steam Cloud\",\"Full controller support\",\"Steam Trading Cards\",\"Other\",\"Single-player\",\"Steam Achievements\",\"Steam Cloud\",\"Steam Trading Cards\",\"Single-player\",\"Steam Achievements\",\"Steam Cloud\",\"Full controller support\",\"Steam Trading Cards\",\"Other\",\"Other\",\"Other\",\"Other\",\"Single-player\",\"Steam Achievements\",\"Steam Cloud\",\"Full controller support\",\"Steam Trading Cards\",\"Other\",\"Single-player\",\"Steam Achievements\",\"Steam Cloud\",\"Other\",\"Full controller support\",\"Steam Trading Cards\",\"Other\",\"Other\",\"Other\",\"Other\",\"Single-player\",\"Steam Achievements\",\"Steam Cloud\",\"Full controller support\",\"Steam Trading Cards\",\"Other\",\"Other\",\"Other\",\"Other\",\"Other\",\"Other\",\"Other\",\"Other\",\"Single-player\",\"Other\",\"Other\",\"Steam Achievements\",\"Steam Cloud\",\"Other\",\"Full controller support\",\"Steam Trading Cards\",\"Other\",\"Other\",\"Other\",\"Other\",\"Other\",\"Other\",\"Full controller support\",\"Other\",\"Other\",\"Other\",\"Steam Achievements\",\"Other\",\"Full controller support\",\"Other\",\"Other\",\"Single-player\",\"Other\",\"Steam Achievements\",\"Steam Cloud\",\"Other\",\"Full controller support\",\"Steam Trading Cards\",\"Other\",\"Other\",\"Single-player\",\"Other\",\"Other\",\"Other\",\"Single-player\",\"Steam Achievements\",\"Steam Cloud\",\"Steam Trading Cards\",\"Other\",\"Other\",\"Other\",\"Other\",\"Other\",\"Other\",\"Other\",\"Other\",\"Steam Achievements\",\"Steam Cloud\",\"Other\",\"Other\",\"Other\",\"Other\",\"Single-player\",\"Other\",\"Single-player\",\"Steam Cloud\",\"Other\",\"Full controller support\",\"Steam Trading Cards\",\"Other\",\"Other\",\"Single-player\",\"Other\",\"Other\",\"Steam Achievements\",\"Steam Cloud\",\"Other\",\"Full controller support\",\"Other\",\"Other\",\"Other\",\"Other\",\"Single-player\",\"Steam Achievements\",\"Steam Cloud\",\"Full controller support\",\"Steam Trading Cards\",\"Other\",\"Other\",\"Other\",\"Other\",\"Single-player\",\"Other\",\"Steam Trading Cards\",\"Other\",\"Other\",\"Other\",\"Other\",\"Single-player\",\"Other\",\"Other\",\"Steam Trading Cards\",\"Other\",\"Other\",\"Single-player\",\"Other\",\"Full controller support\",\"Steam Trading Cards\",\"Other\",\"Other\",\"Other\",\"Other\",\"Other\",\"Other\",\"Other\",\"Other\",\"Other\",\"Other\",\"Single-player\",\"Other\",\"Steam Achievements\",\"Full controller support\",\"Other\",\"Other\",\"Other\",\"Other\",\"Other\",\"Single-player\",\"Other\",\"Other\",\"Steam Achievements\",\"Steam Cloud\",\"Steam Trading Cards\",\"Other\",\"Other\",\"Other\",\"Other\",\"Other\",\"Single-player\",\"Other\",\"Other\",\"Steam Achievements\",\"Steam Cloud\",\"Other\",\"Full controller support\",\"Steam Trading Cards\",\"Other\",\"Other\",\"Other\",\"Other\",\"Other\",\"Other\",\"Single-player\",\"Steam Achievements\",\"Steam Cloud\",\"Full controller support\",\"Steam Trading Cards\",\"Other\",\"Single-player\",\"Steam Achievements\",\"Full controller support\",\"Steam Trading Cards\",\"Other\",\"Single-player\",\"Other\",\"Steam Achievements\",\"Steam Trading Cards\",\"Other\",\"Other\",\"Single-player\",\"Other\",\"Steam Achievements\",\"Steam Cloud\",\"Other\",\"Other\",\"Other\",\"Other\",\"Steam Achievements\",\"Other\",\"Other\",\"Other\",\"Other\",\"Single-player\",\"Steam Achievements\",\"Steam Cloud\",\"Steam Trading Cards\",\"Other\",\"Single-player\",\"Steam Achievements\",\"Full controller support\",\"Single-player\",\"Steam Achievements\",\"Steam Cloud\",\"Full controller support\",\"Steam Trading Cards\",\"Other\",\"Single-player\",\"Steam Achievements\",\"Steam Cloud\",\"Full controller support\",\"Steam Trading Cards\",\"Other\",\"Other\",\"Other\",\"Other\",\"Single-player\",\"Steam Cloud\",\"Other\",\"Other\",\"Other\",\"Single-player\",\"Steam Achievements\",\"Steam Cloud\",\"Full controller support\",\"Steam Trading Cards\",\"Other\",\"Single-player\",\"Steam Achievements\",\"Steam Cloud\",\"Steam Trading Cards\",\"Other\",\"Other\",\"Other\",\"Other\",\"Single-player\",\"Other\",\"Full controller support\",\"Other\",\"Other\",\"Single-player\",\"Steam Achievements\",\"Full controller support\",\"Steam Trading Cards\",\"Other\",\"Other\",\"Other\",\"Other\",\"Other\",\"Steam Achievements\",\"Other\",\"Steam Trading Cards\",\"Other\",\"Other\",\"Other\",\"Other\",\"Other\",\"Other\",\"Single-player\",\"Steam Achievements\",\"Steam Cloud\",\"Full controller support\"],\"legendgroup\":\"\",\"name\":\"\",\"showlegend\":true,\"values\":[0.9320469798657718,0.9320469798657718,0.9320469798657718,0.9320469798657718,0.9320469798657718,0.9320469798657718,0.9770025031289111,0.9770025031289111,0.9770025031289111,0.9770025031289111,0.7465615257656336,0.7465615257656336,0.7465615257656336,0.7465615257656336,0.7465615257656336,0.7465615257656336,0.7735530626427082,0.7735530626427082,0.7735530626427082,0.7544891148895598,0.7544891148895598,0.7544891148895598,0.7544891148895598,0.7544891148895598,0.9256698357821953,0.9256698357821953,0.9256698357821953,0.9256698357821953,0.9256698357821953,0.9256698357821953,0.9256698357821953,0.9256698357821953,0.9256698357821953,0.9256698357821953,0.9256698357821953,0.979083885209713,0.979083885209713,0.979083885209713,0.979083885209713,0.979083885209713,0.979083885209713,0.979083885209713,0.979083885209713,0.5063139059304703,0.5063139059304703,0.5063139059304703,0.5063139059304703,0.9587618670886076,0.9587618670886076,0.9587618670886076,0.9587618670886076,0.9587618670886076,0.9587618670886076,0.9587618670886076,0.9587618670886076,0.9587618670886076,0.9587618670886076,0.9587618670886076,0.9587618670886076,0.9587618670886076,0.5791780172924316,0.5791780172924316,0.5791780172924316,0.5791780172924316,0.7426437735367333,0.7426437735367333,0.7426437735367333,0.7426437735367333,0.7426437735367333,0.7426437735367333,0.9245718050065876,0.9245718050065876,0.9245718050065876,0.9245718050065876,0.9245718050065876,0.9245718050065876,0.9245718050065876,0.9245718050065876,0.9245718050065876,0.8159932422919893,0.8159932422919893,0.8159932422919893,0.8159932422919893,0.8159932422919893,0.9709553528564571,0.9709553528564571,0.9709553528564571,0.9709553528564571,0.9709553528564571,0.9709553528564571,0.8634188777729448,0.8634188777729448,0.8634188777729448,0.8634188777729448,0.8634188777729448,0.8634188777729448,0.8634188777729448,0.8634188777729448,0.8634188777729448,0.8634188777729448,0.8634188777729448,0.8634188777729448,0.9701999611725879,0.9701999611725879,0.6835703978561122,0.6835703978561122,0.6835703978561122,0.6835703978561122,0.6835703978561122,0.6835703978561122,0.8526050948736765,0.8526050948736765,0.8526050948736765,0.8526050948736765,0.8526050948736765,0.8526050948736765,0.8526050948736765,0.8526050948736765,0.8526050948736765,0.8526050948736765,0.8526050948736765,0.8526050948736765,0.9101840043723811,0.9101840043723811,0.9101840043723811,0.9101840043723811,0.9101840043723811,0.9101840043723811,0.9101840043723811,0.9101840043723811,0.822131395700878,0.822131395700878,0.822131395700878,0.822131395700878,0.822131395700878,0.822131395700878,0.822131395700878,0.7956138367623785,0.7956138367623785,0.7956138367623785,0.7956138367623785,0.7956138367623785,0.7956138367623785,0.7310725046477339,0.7310725046477339,0.7310725046477339,0.7310725046477339,0.7310725046477339,0.7310725046477339,0.7310725046477339,0.7310725046477339,0.7310725046477339,0.7310725046477339,0.7310725046477339,0.7310725046477339,0.7310725046477339,0.7310725046477339,0.7155063291139241,0.7155063291139241,0.7155063291139241,0.7155063291139241,0.7155063291139241,0.7155063291139241,0.7155063291139241,0.7155063291139241,0.7155063291139241,0.9045996592844975,0.9045996592844975,0.9045996592844975,0.9045996592844975,0.9045996592844975,0.9045996592844975,0.9045996592844975,0.9045996592844975,0.9045996592844975,0.9045996592844975,0.9045996592844975,0.952645209027007,0.952645209027007,0.952645209027007,0.952645209027007,0.952645209027007,0.952645209027007,0.952645209027007,0.952645209027007,0.952645209027007,0.952645209027007,0.952645209027007,0.952645209027007,0.952645209027007,0.952645209027007,0.952645209027007,0.9060087785681853,0.9060087785681853,0.9060087785681853,0.9060087785681853,0.9060087785681853,0.9060087785681853,0.941942687011537,0.941942687011537,0.941942687011537,0.941942687011537,0.941942687011537,0.7804787759131293,0.7804787759131293,0.7804787759131293,0.7804787759131293,0.7804787759131293,0.7804787759131293,0.9528728619216932,0.9528728619216932,0.9528728619216932,0.9528728619216932,0.9528728619216932,0.9528728619216932,0.6179688363355067,0.6179688363355067,0.6179688363355067,0.6179688363355067,0.6179688363355067,0.6179688363355067,0.6179688363355067,0.898153547133139,0.898153547133139,0.898153547133139,0.898153547133139,0.898153547133139,0.8048327137546468,0.8048327137546468,0.8048327137546468,0.9386524822695036,0.9386524822695036,0.9386524822695036,0.9386524822695036,0.9386524822695036,0.9386524822695036,0.9762186531417301,0.9762186531417301,0.9762186531417301,0.9762186531417301,0.9762186531417301,0.9762186531417301,0.9762186531417301,0.9762186531417301,0.8766280381499333,0.8766280381499333,0.8766280381499333,0.8766280381499333,0.8766280381499333,0.8766280381499333,0.9790319354623641,0.9790319354623641,0.9790319354623641,0.9790319354623641,0.9790319354623641,0.9365851420180792,0.9365851420180792,0.9365851420180792,0.9365851420180792,0.9365851420180792,0.9365851420180792,0.9365851420180792,0.9365851420180792,0.9365851420180792,0.9535796454188659,0.9535796454188659,0.9535796454188659,0.9535796454188659,0.9535796454188659,0.9083362399720962,0.9083362399720962,0.9083362399720962,0.9083362399720962,0.9083362399720962,0.9083362399720962,0.9133139456502899,0.9133139456502899,0.9133139456502899,0.9133139456502899,0.9133139456502899,0.9133139456502899,0.9133139456502899,0.9133139456502899,0.9133139456502899,0.9133139456502899,0.9133139456502899,0.9133139456502899,0.9110501305133525,0.9110501305133525,0.9110501305133525,0.9110501305133525],\"type\":\"pie\"}],                        {\"template\":{\"data\":{\"barpolar\":[{\"marker\":{\"line\":{\"color\":\"rgb(237,237,237)\",\"width\":0.5},\"pattern\":{\"fillmode\":\"overlay\",\"size\":10,\"solidity\":0.2}},\"type\":\"barpolar\"}],\"bar\":[{\"error_x\":{\"color\":\"rgb(51,51,51)\"},\"error_y\":{\"color\":\"rgb(51,51,51)\"},\"marker\":{\"line\":{\"color\":\"rgb(237,237,237)\",\"width\":0.5},\"pattern\":{\"fillmode\":\"overlay\",\"size\":10,\"solidity\":0.2}},\"type\":\"bar\"}],\"carpet\":[{\"aaxis\":{\"endlinecolor\":\"rgb(51,51,51)\",\"gridcolor\":\"white\",\"linecolor\":\"white\",\"minorgridcolor\":\"white\",\"startlinecolor\":\"rgb(51,51,51)\"},\"baxis\":{\"endlinecolor\":\"rgb(51,51,51)\",\"gridcolor\":\"white\",\"linecolor\":\"white\",\"minorgridcolor\":\"white\",\"startlinecolor\":\"rgb(51,51,51)\"},\"type\":\"carpet\"}],\"choropleth\":[{\"colorbar\":{\"outlinewidth\":0,\"tickcolor\":\"rgb(237,237,237)\",\"ticklen\":6,\"ticks\":\"inside\"},\"type\":\"choropleth\"}],\"contourcarpet\":[{\"colorbar\":{\"outlinewidth\":0,\"tickcolor\":\"rgb(237,237,237)\",\"ticklen\":6,\"ticks\":\"inside\"},\"type\":\"contourcarpet\"}],\"contour\":[{\"colorbar\":{\"outlinewidth\":0,\"tickcolor\":\"rgb(237,237,237)\",\"ticklen\":6,\"ticks\":\"inside\"},\"colorscale\":[[0,\"rgb(20,44,66)\"],[1,\"rgb(90,179,244)\"]],\"type\":\"contour\"}],\"heatmapgl\":[{\"colorbar\":{\"outlinewidth\":0,\"tickcolor\":\"rgb(237,237,237)\",\"ticklen\":6,\"ticks\":\"inside\"},\"colorscale\":[[0,\"rgb(20,44,66)\"],[1,\"rgb(90,179,244)\"]],\"type\":\"heatmapgl\"}],\"heatmap\":[{\"colorbar\":{\"outlinewidth\":0,\"tickcolor\":\"rgb(237,237,237)\",\"ticklen\":6,\"ticks\":\"inside\"},\"colorscale\":[[0,\"rgb(20,44,66)\"],[1,\"rgb(90,179,244)\"]],\"type\":\"heatmap\"}],\"histogram2dcontour\":[{\"colorbar\":{\"outlinewidth\":0,\"tickcolor\":\"rgb(237,237,237)\",\"ticklen\":6,\"ticks\":\"inside\"},\"colorscale\":[[0,\"rgb(20,44,66)\"],[1,\"rgb(90,179,244)\"]],\"type\":\"histogram2dcontour\"}],\"histogram2d\":[{\"colorbar\":{\"outlinewidth\":0,\"tickcolor\":\"rgb(237,237,237)\",\"ticklen\":6,\"ticks\":\"inside\"},\"colorscale\":[[0,\"rgb(20,44,66)\"],[1,\"rgb(90,179,244)\"]],\"type\":\"histogram2d\"}],\"histogram\":[{\"marker\":{\"pattern\":{\"fillmode\":\"overlay\",\"size\":10,\"solidity\":0.2}},\"type\":\"histogram\"}],\"mesh3d\":[{\"colorbar\":{\"outlinewidth\":0,\"tickcolor\":\"rgb(237,237,237)\",\"ticklen\":6,\"ticks\":\"inside\"},\"type\":\"mesh3d\"}],\"parcoords\":[{\"line\":{\"colorbar\":{\"outlinewidth\":0,\"tickcolor\":\"rgb(237,237,237)\",\"ticklen\":6,\"ticks\":\"inside\"}},\"type\":\"parcoords\"}],\"pie\":[{\"automargin\":true,\"type\":\"pie\"}],\"scatter3d\":[{\"line\":{\"colorbar\":{\"outlinewidth\":0,\"tickcolor\":\"rgb(237,237,237)\",\"ticklen\":6,\"ticks\":\"inside\"}},\"marker\":{\"colorbar\":{\"outlinewidth\":0,\"tickcolor\":\"rgb(237,237,237)\",\"ticklen\":6,\"ticks\":\"inside\"}},\"type\":\"scatter3d\"}],\"scattercarpet\":[{\"marker\":{\"colorbar\":{\"outlinewidth\":0,\"tickcolor\":\"rgb(237,237,237)\",\"ticklen\":6,\"ticks\":\"inside\"}},\"type\":\"scattercarpet\"}],\"scattergeo\":[{\"marker\":{\"colorbar\":{\"outlinewidth\":0,\"tickcolor\":\"rgb(237,237,237)\",\"ticklen\":6,\"ticks\":\"inside\"}},\"type\":\"scattergeo\"}],\"scattergl\":[{\"marker\":{\"colorbar\":{\"outlinewidth\":0,\"tickcolor\":\"rgb(237,237,237)\",\"ticklen\":6,\"ticks\":\"inside\"}},\"type\":\"scattergl\"}],\"scattermapbox\":[{\"marker\":{\"colorbar\":{\"outlinewidth\":0,\"tickcolor\":\"rgb(237,237,237)\",\"ticklen\":6,\"ticks\":\"inside\"}},\"type\":\"scattermapbox\"}],\"scatterpolargl\":[{\"marker\":{\"colorbar\":{\"outlinewidth\":0,\"tickcolor\":\"rgb(237,237,237)\",\"ticklen\":6,\"ticks\":\"inside\"}},\"type\":\"scatterpolargl\"}],\"scatterpolar\":[{\"marker\":{\"colorbar\":{\"outlinewidth\":0,\"tickcolor\":\"rgb(237,237,237)\",\"ticklen\":6,\"ticks\":\"inside\"}},\"type\":\"scatterpolar\"}],\"scatter\":[{\"marker\":{\"colorbar\":{\"outlinewidth\":0,\"tickcolor\":\"rgb(237,237,237)\",\"ticklen\":6,\"ticks\":\"inside\"}},\"type\":\"scatter\"}],\"scatterternary\":[{\"marker\":{\"colorbar\":{\"outlinewidth\":0,\"tickcolor\":\"rgb(237,237,237)\",\"ticklen\":6,\"ticks\":\"inside\"}},\"type\":\"scatterternary\"}],\"surface\":[{\"colorbar\":{\"outlinewidth\":0,\"tickcolor\":\"rgb(237,237,237)\",\"ticklen\":6,\"ticks\":\"inside\"},\"colorscale\":[[0,\"rgb(20,44,66)\"],[1,\"rgb(90,179,244)\"]],\"type\":\"surface\"}],\"table\":[{\"cells\":{\"fill\":{\"color\":\"rgb(237,237,237)\"},\"line\":{\"color\":\"white\"}},\"header\":{\"fill\":{\"color\":\"rgb(217,217,217)\"},\"line\":{\"color\":\"white\"}},\"type\":\"table\"}]},\"layout\":{\"annotationdefaults\":{\"arrowhead\":0,\"arrowwidth\":1},\"autotypenumbers\":\"strict\",\"coloraxis\":{\"colorbar\":{\"outlinewidth\":0,\"tickcolor\":\"rgb(237,237,237)\",\"ticklen\":6,\"ticks\":\"inside\"}},\"colorscale\":{\"sequential\":[[0,\"rgb(20,44,66)\"],[1,\"rgb(90,179,244)\"]],\"sequentialminus\":[[0,\"rgb(20,44,66)\"],[1,\"rgb(90,179,244)\"]]},\"colorway\":[\"#F8766D\",\"#A3A500\",\"#00BF7D\",\"#00B0F6\",\"#E76BF3\"],\"font\":{\"color\":\"rgb(51,51,51)\"},\"geo\":{\"bgcolor\":\"white\",\"lakecolor\":\"white\",\"landcolor\":\"rgb(237,237,237)\",\"showlakes\":true,\"showland\":true,\"subunitcolor\":\"white\"},\"hoverlabel\":{\"align\":\"left\"},\"hovermode\":\"closest\",\"paper_bgcolor\":\"white\",\"plot_bgcolor\":\"rgb(237,237,237)\",\"polar\":{\"angularaxis\":{\"gridcolor\":\"white\",\"linecolor\":\"white\",\"showgrid\":true,\"tickcolor\":\"rgb(51,51,51)\",\"ticks\":\"outside\"},\"bgcolor\":\"rgb(237,237,237)\",\"radialaxis\":{\"gridcolor\":\"white\",\"linecolor\":\"white\",\"showgrid\":true,\"tickcolor\":\"rgb(51,51,51)\",\"ticks\":\"outside\"}},\"scene\":{\"xaxis\":{\"backgroundcolor\":\"rgb(237,237,237)\",\"gridcolor\":\"white\",\"gridwidth\":2,\"linecolor\":\"white\",\"showbackground\":true,\"showgrid\":true,\"tickcolor\":\"rgb(51,51,51)\",\"ticks\":\"outside\",\"zerolinecolor\":\"white\"},\"yaxis\":{\"backgroundcolor\":\"rgb(237,237,237)\",\"gridcolor\":\"white\",\"gridwidth\":2,\"linecolor\":\"white\",\"showbackground\":true,\"showgrid\":true,\"tickcolor\":\"rgb(51,51,51)\",\"ticks\":\"outside\",\"zerolinecolor\":\"white\"},\"zaxis\":{\"backgroundcolor\":\"rgb(237,237,237)\",\"gridcolor\":\"white\",\"gridwidth\":2,\"linecolor\":\"white\",\"showbackground\":true,\"showgrid\":true,\"tickcolor\":\"rgb(51,51,51)\",\"ticks\":\"outside\",\"zerolinecolor\":\"white\"}},\"shapedefaults\":{\"fillcolor\":\"black\",\"line\":{\"width\":0},\"opacity\":0.3},\"ternary\":{\"aaxis\":{\"gridcolor\":\"white\",\"linecolor\":\"white\",\"showgrid\":true,\"tickcolor\":\"rgb(51,51,51)\",\"ticks\":\"outside\"},\"baxis\":{\"gridcolor\":\"white\",\"linecolor\":\"white\",\"showgrid\":true,\"tickcolor\":\"rgb(51,51,51)\",\"ticks\":\"outside\"},\"bgcolor\":\"rgb(237,237,237)\",\"caxis\":{\"gridcolor\":\"white\",\"linecolor\":\"white\",\"showgrid\":true,\"tickcolor\":\"rgb(51,51,51)\",\"ticks\":\"outside\"}},\"xaxis\":{\"automargin\":true,\"gridcolor\":\"white\",\"linecolor\":\"white\",\"showgrid\":true,\"tickcolor\":\"rgb(51,51,51)\",\"ticks\":\"outside\",\"title\":{\"standoff\":15},\"zerolinecolor\":\"white\"},\"yaxis\":{\"automargin\":true,\"gridcolor\":\"white\",\"linecolor\":\"white\",\"showgrid\":true,\"tickcolor\":\"rgb(51,51,51)\",\"ticks\":\"outside\",\"title\":{\"standoff\":15},\"zerolinecolor\":\"white\"}}},\"legend\":{\"tracegroupgap\":0},\"title\":{\"text\":\"Category popularity by the % of positive reviews\"}},                        {\"responsive\": true}                    ).then(function(){\n",
       "                            \n",
       "var gd = document.getElementById('b0cfb082-6fed-436b-882c-02f0736cdbd8');\n",
       "var x = new MutationObserver(function (mutations, observer) {{\n",
       "        var display = window.getComputedStyle(gd).display;\n",
       "        if (!display || display === 'none') {{\n",
       "            console.log([gd, 'removed!']);\n",
       "            Plotly.purge(gd);\n",
       "            observer.disconnect();\n",
       "        }}\n",
       "}});\n",
       "\n",
       "// Listen for the removal of the full notebook cells\n",
       "var notebookContainer = gd.closest('#notebook-container');\n",
       "if (notebookContainer) {{\n",
       "    x.observe(notebookContainer, {childList: true});\n",
       "}}\n",
       "\n",
       "// Listen for the clearing of the current output cell\n",
       "var outputEl = gd.closest('.output');\n",
       "if (outputEl) {{\n",
       "    x.observe(outputEl, {childList: true});\n",
       "}}\n",
       "\n",
       "                        })                };                });            </script>        </div>"
      ]
     },
     "metadata": {},
     "output_type": "display_data"
    }
   ],
   "source": [
    "fig = px.pie(df_category, values='procent_positive', names='category_descript_2', title='Category popularity by the % of positive reviews', template = 'ggplot2')\n",
    "fig.show()"
   ]
  },
  {
   "cell_type": "code",
   "execution_count": 138,
   "id": "6bc5e8ba",
   "metadata": {},
   "outputs": [],
   "source": [
    "fig.write_image(\"static/category_popularity.png\")"
   ]
  },
  {
   "cell_type": "code",
   "execution_count": null,
   "id": "7a85a41d",
   "metadata": {},
   "outputs": [],
   "source": []
  }
 ],
 "metadata": {
  "kernelspec": {
   "display_name": "Python 3 (ipykernel)",
   "language": "python",
   "name": "python3"
  },
  "language_info": {
   "codemirror_mode": {
    "name": "ipython",
    "version": 3
   },
   "file_extension": ".py",
   "mimetype": "text/x-python",
   "name": "python",
   "nbconvert_exporter": "python",
   "pygments_lexer": "ipython3",
   "version": "3.9.4"
  }
 },
 "nbformat": 4,
 "nbformat_minor": 5
}
