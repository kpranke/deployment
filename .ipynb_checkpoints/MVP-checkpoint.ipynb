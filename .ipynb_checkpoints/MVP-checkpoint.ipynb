{
 "cells": [
  {
   "cell_type": "code",
   "execution_count": 1,
   "id": "87719960",
   "metadata": {},
   "outputs": [],
   "source": [
    "# Import libraries\n",
    "from flask import Flask, render_template, request\n",
    "from flask_sqlalchemy import SQLAlchemy\n",
    "import sqlalchemy\n",
    "import pandas as pd \n",
    "from sqlalchemy.orm import sessionmaker\n",
    "import json\n",
    "from datetime import datetime\n",
    "import datetime\n",
    "import sqlite3\n",
    "from sqlite3 import Error\n",
    "from sqlalchemy import create_engine"
   ]
  },
  {
   "cell_type": "code",
   "execution_count": 2,
   "id": "eb00407d",
   "metadata": {},
   "outputs": [],
   "source": [
    "# Load json data\n",
    "with open('database.txt') as f:\n",
    "    json_data = json.load(f) "
   ]
  },
  {
   "cell_type": "code",
   "execution_count": 3,
   "id": "d56ed1dc",
   "metadata": {},
   "outputs": [],
   "source": [
    "# Json to dataframe\n",
    "df = pd.DataFrame(json_data)"
   ]
  },
  {
   "cell_type": "code",
   "execution_count": 4,
   "id": "025e0474",
   "metadata": {},
   "outputs": [],
   "source": [
    "first_game = df['1198490']"
   ]
  },
  {
   "cell_type": "code",
   "execution_count": 5,
   "id": "c6fcafbd",
   "metadata": {},
   "outputs": [],
   "source": [
    "first_game = first_game.loc[:'steam_appid']"
   ]
  },
  {
   "cell_type": "code",
   "execution_count": 6,
   "id": "e30a5d06",
   "metadata": {},
   "outputs": [
    {
     "data": {
      "text/plain": [
       "'game'"
      ]
     },
     "execution_count": 6,
     "metadata": {},
     "output_type": "execute_result"
    }
   ],
   "source": [
    "first_game['type']"
   ]
  },
  {
   "cell_type": "code",
   "execution_count": 7,
   "id": "cda84ab3",
   "metadata": {},
   "outputs": [],
   "source": [
    "\n",
    "    database = r\"C:\\Users\\kasia\\pyproj\\deployment\\first_game.sqlite\""
   ]
  },
  {
   "cell_type": "code",
   "execution_count": 8,
   "id": "a94a98cd",
   "metadata": {},
   "outputs": [],
   "source": [
    "# Dataframe to SQL database\n",
    "# Create a table\n",
    "def create_connection(db_file):\n",
    "    \"\"\" create a database connection to the SQLite database\n",
    "        specified by db_file\n",
    "    :param db_file: database file\n",
    "    :return: Connection object or None\n",
    "    \"\"\"\n",
    "    conn = None\n",
    "    try:\n",
    "        conn = sqlite3.connect(db_file)\n",
    "        return conn\n",
    "    except Error as e:\n",
    "        print(e)\n",
    "\n",
    "    return conn\n",
    "\n",
    "\n",
    "def create_table(conn, create_table_sql):\n",
    "    \"\"\" create a table from the create_table_sql statement\n",
    "    :param conn: Connection object\n",
    "    :param create_table_sql: a CREATE TABLE statement\n",
    "    :return:\n",
    "    \"\"\"\n",
    "    try:\n",
    "        c = conn.cursor()\n",
    "        c.execute(create_table_sql)\n",
    "    except Error as e:\n",
    "        print(e)\n",
    "\n",
    "\n",
    "def main():\n",
    "\n",
    "    sql_create_example_table = \"\"\"CREATE TABLE IF NOT EXISTS example (\n",
    "                                    apptype varchar,\n",
    "                                    name varchar,\n",
    "                                    steam_appid integer PRIMARY KEY\n",
    "                                );\"\"\"\n",
    "   \n",
    "    # create a database connection\n",
    "    conn = create_connection(database)\n",
    "\n",
    "    # create tables\n",
    "    if conn is not None:\n",
    "        # create example table\n",
    "        create_table(conn, sql_create_example_table)\n",
    "\n",
    "    else:\n",
    "        print(\"Error! cannot create the database connection.\")\n",
    "\n",
    "\n",
    "if __name__ == '__main__':\n",
    "    main()"
   ]
  },
  {
   "cell_type": "code",
   "execution_count": 9,
   "id": "f2342783",
   "metadata": {},
   "outputs": [],
   "source": [
    "def create_example(conn, first_game):\n",
    "\n",
    "    sql = ''' INSERT INTO example(apptype, name, steam_appid)\n",
    "              VALUES(?,?,?) '''\n",
    "    cur = conn.cursor()\n",
    "    cur.execute(sql, (first_game['type'], first_game['name'], first_game['steam_appid']))\n",
    "    conn.commit()\n",
    "    return cur.lastrowid\n",
    "\n",
    "\n",
    "def main():\n",
    "\n",
    "    # create a database connection\n",
    "    conn = create_connection(database)\n",
    "    with conn:\n",
    "        # create a new example\n",
    "        example_id = create_example(conn, first_game)\n",
    "\n",
    "\n",
    "\n",
    "if __name__ == '__main__':\n",
    "    main()"
   ]
  },
  {
   "cell_type": "code",
   "execution_count": 10,
   "id": "3c0d951a",
   "metadata": {},
   "outputs": [],
   "source": [
    "# to Flask"
   ]
  },
  {
   "cell_type": "code",
   "execution_count": null,
   "id": "bf5dad85",
   "metadata": {},
   "outputs": [],
   "source": []
  }
 ],
 "metadata": {
  "kernelspec": {
   "display_name": "Python 3 (ipykernel)",
   "language": "python",
   "name": "python3"
  },
  "language_info": {
   "codemirror_mode": {
    "name": "ipython",
    "version": 3
   },
   "file_extension": ".py",
   "mimetype": "text/x-python",
   "name": "python",
   "nbconvert_exporter": "python",
   "pygments_lexer": "ipython3",
   "version": "3.9.4"
  }
 },
 "nbformat": 4,
 "nbformat_minor": 5
}
