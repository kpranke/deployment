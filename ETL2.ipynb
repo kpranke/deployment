{
 "cells": [
  {
   "cell_type": "code",
   "execution_count": 4,
   "id": "7443bab5",
   "metadata": {},
   "outputs": [],
   "source": [
    "# Import libraries\n",
    "\n",
    "from sqlalchemy import Column, Integer, String, ForeignKey\n",
    "from sqlalchemy.orm import declarative_base\n",
    "from sqlalchemy import create_engine\n",
    "from sqlalchemy.orm import sessionmaker\n",
    "import pandas as pd \n",
    "import json\n",
    "from datetime import datetime\n",
    "import datetime\n",
    "import sqlite3\n",
    "from sqlite3 import Error\n",
    "from bs4 import BeautifulSoup"
   ]
  },
  {
   "cell_type": "markdown",
   "id": "d9f4dd34",
   "metadata": {},
   "source": [
    "# Extract"
   ]
  },
  {
   "cell_type": "code",
   "execution_count": 2,
   "id": "b687d175",
   "metadata": {},
   "outputs": [],
   "source": [
    "with open('database.txt') as f:\n",
    "    json_data = json.load(f)   "
   ]
  },
  {
   "cell_type": "markdown",
   "id": "50b36162",
   "metadata": {},
   "source": [
    "# Load"
   ]
  },
  {
   "cell_type": "code",
   "execution_count": 5,
   "id": "b4a2c58a",
   "metadata": {},
   "outputs": [],
   "source": [
    "# declarative base class\n",
    "Base = declarative_base()\n",
    "\n",
    "# an example mapping using the base\n",
    "class Game(Base):\n",
    "    __tablename__ = 'games'\n",
    "\n",
    "    steam_appid= Column(Integer, primary_key=True)\n",
    "    game_type = Column(String)\n",
    "    game_name = Column(String)\n",
    "    required_age = Column(Integer)\n",
    "    is_free  = Column(Integer)\n",
    "    detailed_description = Column(String)\n",
    "    about_the_game = Column(String)\n",
    "    short_description = Column(String)\n",
    "    languages = Column(String)\n",
    "    num_reviews = Column(Integer)\n",
    "    header_image = Column(String)\n",
    "    website = Column(String)\n",
    "    pc_requirements_min = Column(String)\n",
    "    pc_requirements_recomm = Column(String)\n",
    "    mac_requirements_min = Column(String)\n",
    "    mac_requirements_recomm = Column(String)\n",
    "    legal_notice = Column(String)\n",
    "    price_currency = Column(String)\n",
    "    price_initial = Column(Integer)\n",
    "    price_final = Column(Integer)\n",
    "    price_discount_percent = Column(Integer)\n",
    "    price_initial_formatted = Column(String)\n",
    "    price_final_formatted = Column(String)\n",
    "    release_date_coming_soon = Column(Integer)\n",
    "    release_date = Column(String)\n",
    "    support_info_url = Column(String)\n",
    "    support_info_email = Column(String)\n",
    "    support_info_background = Column(String)"
   ]
  },
  {
   "cell_type": "code",
   "execution_count": 6,
   "id": "a0816334",
   "metadata": {},
   "outputs": [],
   "source": [
    "engine = create_engine('sqlite:///steam_games.db')"
   ]
  },
  {
   "cell_type": "code",
   "execution_count": 7,
   "id": "3e95716d",
   "metadata": {},
   "outputs": [
    {
     "name": "stdout",
     "output_type": "stream",
     "text": [
      "<class 'sqlalchemy.engine.base.Engine'>\n"
     ]
    }
   ],
   "source": [
    "print(type(engine))"
   ]
  },
  {
   "cell_type": "code",
   "execution_count": 15,
   "id": "ef4d0e83",
   "metadata": {},
   "outputs": [],
   "source": [
    "# Create database following parameters defined on `Base`:\n",
    "Base.metadata.create_all(engine)"
   ]
  },
  {
   "cell_type": "code",
   "execution_count": 16,
   "id": "1b828c2d",
   "metadata": {},
   "outputs": [
    {
     "name": "stderr",
     "output_type": "stream",
     "text": [
      "UsageError: Line magic function `%sql` not found.\n"
     ]
    }
   ],
   "source": [
    "# Connecting to database:\n",
    "\n",
    "%sql sqlite:///steam_games.db"
   ]
  },
  {
   "cell_type": "code",
   "execution_count": 17,
   "id": "09807295",
   "metadata": {},
   "outputs": [],
   "source": [
    "# Bind the engine to the metadata of the Base class so that the\n",
    "# declaratives can be accessed through a DBSession instance\n",
    "Base.metadata.bind = engine\n",
    "DBSession = sessionmaker(bind=engine)\n",
    "session = DBSession()"
   ]
  },
  {
   "cell_type": "code",
   "execution_count": null,
   "id": "56565bf9",
   "metadata": {},
   "outputs": [],
   "source": []
  }
 ],
 "metadata": {
  "kernelspec": {
   "display_name": "Python 3 (ipykernel)",
   "language": "python",
   "name": "python3"
  },
  "language_info": {
   "codemirror_mode": {
    "name": "ipython",
    "version": 3
   },
   "file_extension": ".py",
   "mimetype": "text/x-python",
   "name": "python",
   "nbconvert_exporter": "python",
   "pygments_lexer": "ipython3",
   "version": "3.9.4"
  }
 },
 "nbformat": 4,
 "nbformat_minor": 5
}
